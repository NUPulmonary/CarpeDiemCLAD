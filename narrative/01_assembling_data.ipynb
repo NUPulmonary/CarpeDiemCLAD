{
 "cells": [
  {
   "cell_type": "code",
   "execution_count": 1,
   "id": "b6db0845",
   "metadata": {},
   "outputs": [],
   "source": [
    "import os\n",
    "import sys\n",
    "import pandas as pd\n",
    "import numpy as np\n",
    "import matplotlib as mpl\n",
    "import matplotlib.pyplot as plt\n",
    "import seaborn as sns\n",
    "\n",
    "sys.path.append('./../src/')\n",
    "from manuscript import inout, export"
   ]
  },
  {
   "cell_type": "code",
   "execution_count": 2,
   "id": "0ce8a8f4-9614-44cb-9332-34ea1fa86b3c",
   "metadata": {},
   "outputs": [],
   "source": [
    "user = 'general'     # defines top hierarchy of output folder\n",
    "outfolder = '01_assembling_data'    # name of notebook"
   ]
  },
  {
   "cell_type": "code",
   "execution_count": 3,
   "id": "b1ac56ff",
   "metadata": {},
   "outputs": [],
   "source": [
    "pd.options.display.max_columns = 200\n",
    "pd.options.display.max_rows = 200"
   ]
  },
  {
   "cell_type": "code",
   "execution_count": 4,
   "id": "e8f718ed-0126-47a5-a5ce-342fbdebf4cb",
   "metadata": {},
   "outputs": [],
   "source": [
    "p = os.path.join(\n",
    "    inout.get_path_from_settings('materials_path'),\n",
    "    'general/00_pull_data_from_edw/00patient-days.csv.gz'\n",
    ")\n"
   ]
  },
  {
   "cell_type": "markdown",
   "id": "0787e959",
   "metadata": {},
   "source": [
    "# Prepare data\n",
    "\n",
    "Goal here is to prepare data from the iteration 3 snapshot"
   ]
  },
  {
   "cell_type": "markdown",
   "id": "0f1a0d04",
   "metadata": {},
   "source": [
    "# 1. Load the SOFA scores table"
   ]
  },
  {
   "cell_type": "code",
   "execution_count": 5,
   "id": "576fc3aa-7198-495c-993c-b6b65e0fc83c",
   "metadata": {},
   "outputs": [],
   "source": [
    "pt_days = pd.read_csv(p, index_col=0)"
   ]
  },
  {
   "cell_type": "code",
   "execution_count": 6,
   "id": "9a30d34c",
   "metadata": {},
   "outputs": [
    {
     "data": {
      "text/plain": [
       "(13391, 42)"
      ]
     },
     "execution_count": 6,
     "metadata": {},
     "output_type": "execute_result"
    }
   ],
   "source": [
    "pt_days.shape"
   ]
  },
  {
   "cell_type": "code",
   "execution_count": 7,
   "id": "bef93d19",
   "metadata": {},
   "outputs": [
    {
     "name": "stdout",
     "output_type": "stream",
     "text": [
      "Number of patients: 601\n",
      "Number of ICU-days: 13391\n"
     ]
    }
   ],
   "source": [
    "print(f\"Number of patients: {pt_days.pt_study_id.nunique()}\")\n",
    "print(f\"Number of ICU-days: {pt_days.shape[0]}\")"
   ]
  },
  {
   "cell_type": "code",
   "execution_count": 8,
   "id": "e66c18f5-ddcb-4c7f-9d67-d96669447ad7",
   "metadata": {},
   "outputs": [
    {
     "data": {
      "text/plain": [
       "5575"
      ]
     },
     "execution_count": 8,
     "metadata": {},
     "output_type": "execute_result"
    }
   ],
   "source": [
    "pt_days.SOFA.isna().sum() #scores with NAs end up with sum NA now - will fix this below"
   ]
  },
  {
   "cell_type": "markdown",
   "id": "ca042400",
   "metadata": {},
   "source": [
    "# 2. Merge endpoints table"
   ]
  },
  {
   "cell_type": "code",
   "execution_count": 9,
   "id": "fde2e38f-2702-4a9c-9bbe-8d4fc9ca4f12",
   "metadata": {},
   "outputs": [],
   "source": [
    "p = os.path.join(\n",
    "    inout.get_path_from_settings('resources_path'),\n",
    "    'edw/from_2022-03-23-v5-data-clean/basic_endpoints.csv.gz'\n",
    ")"
   ]
  },
  {
   "cell_type": "code",
   "execution_count": 10,
   "id": "59f36f4d",
   "metadata": {},
   "outputs": [],
   "source": [
    "endpoints = pd.read_csv(p, encoding=\"unicode_escape\")"
   ]
  },
  {
   "cell_type": "code",
   "execution_count": 11,
   "id": "0c965f1d",
   "metadata": {},
   "outputs": [],
   "source": [
    "endpoints_cols = \"\"\"\n",
    "pt_study_id\n",
    "patient_ir_id\n",
    "death_date\n",
    "discharge_disposition_name\n",
    "discharge_datetime\n",
    "external_transfer_flag\n",
    "admission_source_name\n",
    "First_intub_start\n",
    "First_intub_stop\n",
    "Second_intub_start\n",
    "Second_intub_stop\n",
    "Third_intub_start\n",
    "Third_intub_stop\n",
    "Fourth_intub_start\n",
    "Fourth_intub_stop\n",
    "Fifth_intub_start\n",
    "Fifth_intub_stop\n",
    "first_recorded_ecmo\n",
    "last_recorded_ecmo\n",
    "\"\"\".strip().split(\"\\n\")"
   ]
  },
  {
   "cell_type": "code",
   "execution_count": 12,
   "id": "67d3d00c",
   "metadata": {},
   "outputs": [],
   "source": [
    "endpoints = endpoints[endpoints_cols]"
   ]
  },
  {
   "cell_type": "code",
   "execution_count": 13,
   "id": "3d424a7b",
   "metadata": {},
   "outputs": [],
   "source": [
    "data = pt_days.merge(endpoints[endpoints_cols], on=\"pt_study_id\", how=\"left\")"
   ]
  },
  {
   "cell_type": "code",
   "execution_count": 14,
   "id": "75b7a52c",
   "metadata": {},
   "outputs": [
    {
     "data": {
      "text/plain": [
       "0"
      ]
     },
     "execution_count": 14,
     "metadata": {},
     "output_type": "execute_result"
    }
   ],
   "source": [
    "data.discharge_disposition_name.isna().sum()"
   ]
  },
  {
   "cell_type": "code",
   "execution_count": 15,
   "id": "b8b62d43",
   "metadata": {},
   "outputs": [],
   "source": [
    "data = data.loc[~data.discharge_disposition_name.isna(), :]"
   ]
  },
  {
   "cell_type": "code",
   "execution_count": 16,
   "id": "73987699",
   "metadata": {},
   "outputs": [
    {
     "name": "stdout",
     "output_type": "stream",
     "text": [
      "Number of patients: 601\n",
      "Number of ICU-days: 13391\n"
     ]
    }
   ],
   "source": [
    "print(f\"Number of patients: {data.pt_study_id.nunique()}\")\n",
    "print(f\"Number of ICU-days: {data.shape[0]}\")"
   ]
  },
  {
   "cell_type": "code",
   "execution_count": 17,
   "id": "95d3c569",
   "metadata": {},
   "outputs": [],
   "source": [
    "interesting_date_fields = \"\"\"\n",
    "day_bucket_starts\n",
    "day_bucket_ends\n",
    "icu_start_dt\n",
    "icu_stop_dt\n",
    "First_intub_start\n",
    "First_intub_stop\n",
    "Second_intub_start\n",
    "Second_intub_stop\n",
    "Third_intub_start\n",
    "Third_intub_stop\n",
    "Fourth_intub_start\n",
    "Fourth_intub_stop\n",
    "Fifth_intub_start\n",
    "Fifth_intub_stop\n",
    "first_recorded_ecmo\n",
    "last_recorded_ecmo\n",
    "\"\"\".strip().split(\"\\n\")"
   ]
  },
  {
   "cell_type": "code",
   "execution_count": 18,
   "id": "02fca266",
   "metadata": {},
   "outputs": [],
   "source": [
    "data[interesting_date_fields] = data[interesting_date_fields].apply(pd.to_datetime)"
   ]
  },
  {
   "cell_type": "markdown",
   "id": "20740235-b9a1-4e09-a377-1040de8e32a1",
   "metadata": {},
   "source": [
    "## 2.1 Rename and simplify discharge disposition"
   ]
  },
  {
   "cell_type": "code",
   "execution_count": 19,
   "id": "e0289ebc-3e9c-4d03-807f-72a2e62619c3",
   "metadata": {},
   "outputs": [],
   "source": [
    "renames = {\n",
    "    \"Home with Home Health Care\": \"Home\", \n",
    "    \"Home or Self Care\": \"Home\",\n",
    "    \"Against Medical Advice (AMA) or Elopement\": \"Home\", \n",
    "    \"Group Home\": \"Home\", \n",
    "    \"Home with Equipment or O2\": \"Home\", \n",
    "    \"Home with Outpatient Services\": \"Home\", \n",
    "    \"Inpatient Psychiatric Hospital\": \"Home\",\n",
    "        \n",
    "    \"Acute Inpatient Rehab\": \"Rehab\",\n",
    "    \"Planned Readmission  DC/transferred to acute inpatient rehab\": \"Rehab\",\n",
    "    \"Acute Inpatient Rehabilitation\": \"Rehab\",\n",
    "    \n",
    "    \"Skilled Nursing Facility or Subacute Rehab Care\":\"SNF\",\n",
    "    \n",
    "    \"Acute Care Hospital\": \"LTACH\", \n",
    "    \"Long-Term Acute Care Hospital (LTAC)\": \"LTACH\", \n",
    "     \n",
    "    \"Home with Hospice\": \"Hospice\", \n",
    "    \"Inpatient Hospice\": \"Hospice\", \n",
    "\n",
    "    \"Expired\": \"Died\"\n",
    "}"
   ]
  },
  {
   "cell_type": "code",
   "execution_count": 20,
   "id": "dd443079-a923-4a88-8ea9-c447eab877d1",
   "metadata": {},
   "outputs": [],
   "source": [
    "data.discharge_disposition_name.replace(renames, inplace=True)"
   ]
  },
  {
   "cell_type": "code",
   "execution_count": 21,
   "id": "bed2fd22-7153-4a74-8624-8cfff578cf6e",
   "metadata": {},
   "outputs": [],
   "source": [
    "data[\"binary_outcome\"] = \"Alive\"\n",
    "data.loc[data.discharge_disposition_name.isin([\"Hospice\", \"Died\"]), \"binary_outcome\"] = \"Died\""
   ]
  },
  {
   "cell_type": "markdown",
   "id": "b71d2f39",
   "metadata": {},
   "source": [
    "## 2.2 Set ECMO flag for each day"
   ]
  },
  {
   "cell_type": "code",
   "execution_count": 22,
   "id": "19e9e239",
   "metadata": {},
   "outputs": [
    {
     "data": {
      "text/plain": [
       "3752"
      ]
     },
     "execution_count": 22,
     "metadata": {},
     "output_type": "execute_result"
    }
   ],
   "source": [
    "(~data.first_recorded_ecmo.isna()).sum()"
   ]
  },
  {
   "cell_type": "code",
   "execution_count": 23,
   "id": "d93d9866",
   "metadata": {},
   "outputs": [
    {
     "data": {
      "text/plain": [
       "0"
      ]
     },
     "execution_count": 23,
     "metadata": {},
     "output_type": "execute_result"
    }
   ],
   "source": [
    "(data.first_recorded_ecmo.isna() & (~data.last_recorded_ecmo.isna())).sum()"
   ]
  },
  {
   "cell_type": "code",
   "execution_count": 24,
   "id": "f7c8a2ee",
   "metadata": {},
   "outputs": [
    {
     "data": {
      "text/plain": [
       "0"
      ]
     },
     "execution_count": 24,
     "metadata": {},
     "output_type": "execute_result"
    }
   ],
   "source": [
    "((~data.first_recorded_ecmo.isna()) & data.last_recorded_ecmo.isna()).sum()"
   ]
  },
  {
   "cell_type": "code",
   "execution_count": 25,
   "id": "9eda12d0",
   "metadata": {},
   "outputs": [],
   "source": [
    "data.loc[:, \"on_ecmo\"] = (\n",
    "    ((data.day_bucket_starts > data.first_recorded_ecmo) & (data.day_bucket_starts < data.last_recorded_ecmo))\n",
    "    | ((data.day_bucket_ends > data.first_recorded_ecmo) & (data.day_bucket_ends < data.last_recorded_ecmo))\n",
    "    | ((data.day_bucket_starts <= data.first_recorded_ecmo) & (data.day_bucket_ends >= data.last_recorded_ecmo))\n",
    ")"
   ]
  },
  {
   "cell_type": "code",
   "execution_count": 26,
   "id": "efdc5014",
   "metadata": {},
   "outputs": [
    {
     "data": {
      "text/plain": [
       "False    10545\n",
       "True      2846\n",
       "Name: on_ecmo, dtype: int64"
      ]
     },
     "execution_count": 26,
     "metadata": {},
     "output_type": "execute_result"
    }
   ],
   "source": [
    "data.on_ecmo.value_counts()"
   ]
  },
  {
   "cell_type": "markdown",
   "id": "fd2f50d7",
   "metadata": {},
   "source": [
    "This agrees with previous number"
   ]
  },
  {
   "cell_type": "markdown",
   "id": "211854c2",
   "metadata": {},
   "source": [
    "## 2.3 Set `intub` flag from intubation periods"
   ]
  },
  {
   "cell_type": "markdown",
   "id": "a28a5246",
   "metadata": {},
   "source": [
    "As [pointed out](https://github.com/NUSCRIPT/script_etl_eda/issues/174#issuecomment-990303938) by Felix and Anna, `intub_flag` from SOFA scores table does not mean “is a person on intubation that day?”.\n",
    "\n",
    "So let's compute our own field with this meaning"
   ]
  },
  {
   "cell_type": "code",
   "execution_count": 27,
   "id": "77b72a4b",
   "metadata": {},
   "outputs": [],
   "source": [
    "intub_order = [\"First\", \"Second\", \"Third\", \"Fourth\", \"Fifth\"]"
   ]
  },
  {
   "cell_type": "code",
   "execution_count": 28,
   "id": "756e61e2",
   "metadata": {},
   "outputs": [],
   "source": [
    "bad_row = pd.Series(False, index=data.index)"
   ]
  },
  {
   "cell_type": "code",
   "execution_count": 29,
   "id": "a0d1628a",
   "metadata": {},
   "outputs": [],
   "source": [
    "for order in intub_order:\n",
    "    bad_row |= (data[f\"{order}_intub_start\"].isna() & ~data[f\"{order}_intub_stop\"].isna())\n",
    "    bad_row |= (data[f\"{order}_intub_stop\"].isna() & ~data[f\"{order}_intub_start\"].isna())"
   ]
  },
  {
   "cell_type": "code",
   "execution_count": 30,
   "id": "c1c25891",
   "metadata": {},
   "outputs": [
    {
     "data": {
      "text/plain": [
       "Series([], Name: pt_study_id, dtype: int64)"
      ]
     },
     "execution_count": 30,
     "metadata": {},
     "output_type": "execute_result"
    }
   ],
   "source": [
    "data.loc[bad_row, \"pt_study_id\"].value_counts()"
   ]
  },
  {
   "cell_type": "code",
   "execution_count": 31,
   "id": "8d0591d4",
   "metadata": {},
   "outputs": [
    {
     "name": "stdout",
     "output_type": "stream",
     "text": [
      "Number of patients: 601\n",
      "Number of ICU-days: 13391\n"
     ]
    }
   ],
   "source": [
    "print(f\"Number of patients: {data.pt_study_id.nunique()}\")\n",
    "print(f\"Number of ICU-days: {data.shape[0]}\")"
   ]
  },
  {
   "cell_type": "code",
   "execution_count": 32,
   "id": "70239f62",
   "metadata": {},
   "outputs": [],
   "source": [
    "on_intub = pd.Series(False, index=data.index)"
   ]
  },
  {
   "cell_type": "code",
   "execution_count": 33,
   "id": "05f7aa56",
   "metadata": {},
   "outputs": [],
   "source": [
    "for order in intub_order:\n",
    "    on_intub |= ((data.day_bucket_starts > data[f\"{order}_intub_start\"]) \n",
    "                 & (data.day_bucket_starts < data[f\"{order}_intub_stop\"]))\n",
    "    on_intub |= ((data.day_bucket_ends > data[f\"{order}_intub_start\"]) \n",
    "                 & (data.day_bucket_ends < data[f\"{order}_intub_stop\"]))\n",
    "    on_intub |= ((data.day_bucket_starts <= data[f\"{order}_intub_start\"])\n",
    "                 & (data.day_bucket_ends >= data[f\"{order}_intub_stop\"]))"
   ]
  },
  {
   "cell_type": "code",
   "execution_count": 34,
   "id": "ffd31142",
   "metadata": {},
   "outputs": [
    {
     "data": {
      "text/plain": [
       "True     11187\n",
       "False     2204\n",
       "dtype: int64"
      ]
     },
     "execution_count": 34,
     "metadata": {},
     "output_type": "execute_result"
    }
   ],
   "source": [
    "on_intub.value_counts()"
   ]
  },
  {
   "cell_type": "code",
   "execution_count": 35,
   "id": "e8712c1d",
   "metadata": {},
   "outputs": [],
   "source": [
    "data[\"on_intub\"] = on_intub"
   ]
  },
  {
   "cell_type": "markdown",
   "id": "bcfaf33c",
   "metadata": {},
   "source": [
    "# 3. Merge ventilator parametes"
   ]
  },
  {
   "cell_type": "code",
   "execution_count": 36,
   "id": "e7543074-1d33-4af7-8220-514db0b4dfd7",
   "metadata": {},
   "outputs": [],
   "source": [
    "p = os.path.join(\n",
    "    inout.get_path_from_settings('resources_path'),\n",
    "    'edw/from_2022-03-23-v5-data-clean/SCRIPT ventilator settings V2.0 3-31-22.csv.gz'\n",
    ")"
   ]
  },
  {
   "cell_type": "code",
   "execution_count": 37,
   "id": "9e8c9d05",
   "metadata": {},
   "outputs": [],
   "source": [
    "vent_params = pd.read_csv(p)"
   ]
  },
  {
   "cell_type": "code",
   "execution_count": 38,
   "id": "abf24731",
   "metadata": {},
   "outputs": [
    {
     "data": {
      "text/plain": [
       "(53568, 12)"
      ]
     },
     "execution_count": 38,
     "metadata": {},
     "output_type": "execute_result"
    }
   ],
   "source": [
    "vent_params.shape"
   ]
  },
  {
   "cell_type": "code",
   "execution_count": 39,
   "id": "8d55a582",
   "metadata": {},
   "outputs": [],
   "source": [
    "vent_params[\"date\"] = pd.to_datetime(pd.to_datetime(vent_params.meas_date).dt.date)"
   ]
  },
  {
   "cell_type": "code",
   "execution_count": 40,
   "id": "085f2dff",
   "metadata": {},
   "outputs": [],
   "source": [
    "params_of_interest = [\"Peep\", \"Plateau_Pressure\", \"Static_Compliance\", \"FiO2\"]"
   ]
  },
  {
   "cell_type": "code",
   "execution_count": 41,
   "id": "5dd0783d-1c78-4604-9a23-eb38ae64d0ad",
   "metadata": {},
   "outputs": [],
   "source": [
    "vents = vent_params"
   ]
  },
  {
   "cell_type": "markdown",
   "id": "8967116f-4afd-4e76-96d9-4f681c6e6a4f",
   "metadata": {},
   "source": [
    "## 3.1 Curate values"
   ]
  },
  {
   "cell_type": "code",
   "execution_count": 42,
   "id": "6dd7bf25-2736-4db2-a752-4e7c278345d6",
   "metadata": {},
   "outputs": [
    {
     "data": {
      "image/png": "[encoded data removed]",
      "text/plain": [
       "<Figure size 1152x576 with 4 Axes>"
      ]
     },
     "metadata": {
      "needs_background": "light"
     },
     "output_type": "display_data"
    }
   ],
   "source": [
    "columns = np.array(params_of_interest)\n",
    "cols = columns.reshape(2, 2)\n",
    "fig, axes = plt.subplots(\n",
    "    nrows=cols.shape[0], \n",
    "    ncols=cols.shape[1], \n",
    "    figsize=(16, 8), \n",
    "    gridspec_kw={\"wspace\": 0.25, \"hspace\": 0.25}\n",
    ")\n",
    "for row in range(axes.shape[0]):\n",
    "    for col in range(axes.shape[1]):\n",
    "        column = cols[row, col]\n",
    "        ax = axes[row, col]\n",
    "        if isinstance(column, str) and column in vents:\n",
    "            ax.hist(\n",
    "                vents[column], \n",
    "                bins=50,\n",
    "#                 log=True\n",
    "            )\n",
    "            ax.set_title(column + f\" {vents[column].isna().sum() * 100 / vents.shape[0]:.2f}% NA\")"
   ]
  },
  {
   "cell_type": "code",
   "execution_count": 43,
   "id": "29072eeb-ae1d-4720-a664-8d421a1a06d4",
   "metadata": {},
   "outputs": [],
   "source": [
    "allowed_range = {\n",
    "    \"Peep\": (0, 26),\n",
    "    \"Plateau_Pressure\": (5, 55),\n",
    "    \"Static_Compliance\": (0, 100),\n",
    "    \"FiO2\": (0, 100)\n",
    "}"
   ]
  },
  {
   "cell_type": "code",
   "execution_count": 44,
   "id": "d4791ad8-8bd6-4044-966d-bb55292a3c75",
   "metadata": {},
   "outputs": [
    {
     "name": "stdout",
     "output_type": "stream",
     "text": [
      "# of values outside of range (0, 26) for Peep = 31\n",
      "# of values outside of range (5, 55) for Plateau_Pressure = 48\n",
      "# of values outside of range (0, 100) for Static_Compliance = 47\n",
      "# of values outside of range (0, 100) for FiO2 = 0\n"
     ]
    }
   ],
   "source": [
    "for column in params_of_interest:\n",
    "    for c, ranges in allowed_range.items():\n",
    "        if column == c:\n",
    "            break\n",
    "        if c in column:\n",
    "            break\n",
    "    if c != column and c not in column:\n",
    "        continue\n",
    "    n_val = ((vents[column] < ranges[0]) | (vents[column] > ranges[1])).sum()\n",
    "    vents.loc[(vents[column] < ranges[0]) | (vents[column] > ranges[1]), column] = np.nan\n",
    "    print(f\"# of values outside of range {ranges} for {column} = {n_val}\")"
   ]
  },
  {
   "cell_type": "code",
   "execution_count": 45,
   "id": "2defcddd-8e0b-4011-9fab-10db93de99f4",
   "metadata": {},
   "outputs": [
    {
     "data": {
      "image/png": "[encoded data removed]",
      "text/plain": [
       "<Figure size 1152x576 with 4 Axes>"
      ]
     },
     "metadata": {
      "needs_background": "light"
     },
     "output_type": "display_data"
    }
   ],
   "source": [
    "columns = np.array(params_of_interest)\n",
    "cols = columns.reshape(2, 2)\n",
    "fig, axes = plt.subplots(\n",
    "    nrows=cols.shape[0], \n",
    "    ncols=cols.shape[1], \n",
    "    figsize=(16, 8), \n",
    "    gridspec_kw={\"wspace\": 0.25, \"hspace\": 0.25}\n",
    ")\n",
    "for row in range(axes.shape[0]):\n",
    "    for col in range(axes.shape[1]):\n",
    "        column = cols[row, col]\n",
    "        ax = axes[row, col]\n",
    "        if isinstance(column, str) and column in vents:\n",
    "            ax.hist(\n",
    "                vents[column], \n",
    "                bins=50,\n",
    "#                 log=True\n",
    "            )\n",
    "            ax.set_title(column + f\" {vents[column].isna().sum() * 100 / vents.shape[0]:.2f}% NA\")"
   ]
  },
  {
   "cell_type": "markdown",
   "id": "4150ce04",
   "metadata": {},
   "source": [
    "## 3.2 Aggregate per day"
   ]
  },
  {
   "cell_type": "markdown",
   "id": "844cf3f8",
   "metadata": {},
   "source": [
    "Let's compute how much parameters change per day"
   ]
  },
  {
   "cell_type": "code",
   "execution_count": 46,
   "id": "3a612016",
   "metadata": {},
   "outputs": [
    {
     "data": {
      "text/plain": [
       "Peep  Set_Rate\n",
       "1     1           5601\n",
       "      2           1168\n",
       "2     1           1058\n",
       "1     3            898\n",
       "2     2            788\n",
       "3     3            548\n",
       "1     4            501\n",
       "3     1            321\n",
       "4     4            296\n",
       "2     3            275\n",
       "3     2            216\n",
       "1     5            189\n",
       "3     4            160\n",
       "2     4            128\n",
       "5     5             91\n",
       "4     3             84\n",
       "3     5             79\n",
       "1     6             63\n",
       "2     5             44\n",
       "4     1             43\n",
       "      2             40\n",
       "6     6             28\n",
       "3     6             24\n",
       "4     5             23\n",
       "5     3             18\n",
       "      1             18\n",
       "      6             16\n",
       "      4             15\n",
       "1     7             10\n",
       "3     7             10\n",
       "6     5              8\n",
       "2     6              8\n",
       "7     7              5\n",
       "6     4              5\n",
       "5     2              5\n",
       "4     6              5\n",
       "      7              4\n",
       "5     7              4\n",
       "7     6              3\n",
       "2     7              3\n",
       "8     8              3\n",
       "6     3              3\n",
       "7     8              2\n",
       "3     8              2\n",
       "6     1              2\n",
       "5     8              2\n",
       "1     8              2\n",
       "4     8              2\n",
       "2     8              2\n",
       "6     2              1\n",
       "      7              1\n",
       "7     1              1\n",
       "      3              1\n",
       "      4              1\n",
       "      5              1\n",
       "10    8              1\n",
       "dtype: int64"
      ]
     },
     "execution_count": 46,
     "metadata": {},
     "output_type": "execute_result"
    }
   ],
   "source": [
    "vents.groupby([\"ir_id\", \"date\"]).apply(lambda x: x[[\"Peep\", \"Set_Rate\"]].diff().ne(0).sum()).value_counts()"
   ]
  },
  {
   "cell_type": "code",
   "execution_count": 47,
   "id": "236be0c9",
   "metadata": {},
   "outputs": [],
   "source": [
    "agg_vents = vents.loc[:, [\"ir_id\", \"date\"] + params_of_interest].groupby([\"ir_id\", \"date\"]).mean()"
   ]
  },
  {
   "cell_type": "code",
   "execution_count": 48,
   "id": "415a227d",
   "metadata": {},
   "outputs": [],
   "source": [
    "vents_changes = vents.groupby([\"ir_id\", \"date\"]).apply(\n",
    "    lambda x: x[[\"Peep\", \"Set_Rate\", \"FiO2\"]].diff().ne(0).sum()\n",
    ").rename({\"Peep\": \"n_peep_changes\", \"Set_Rate\": \"n_set_rate_changes\", \"FiO2\": \"n_fio2_changes\"}, axis=1)"
   ]
  },
  {
   "cell_type": "code",
   "execution_count": 49,
   "id": "19341382",
   "metadata": {},
   "outputs": [],
   "source": [
    "agg_vents = agg_vents.merge(\n",
    "    vents_changes,\n",
    "    left_index=True,\n",
    "    right_index=True\n",
    ").reset_index()"
   ]
  },
  {
   "cell_type": "code",
   "execution_count": 50,
   "id": "3e53a4a9",
   "metadata": {},
   "outputs": [],
   "source": [
    "merged = data.merge(\n",
    "    agg_vents,\n",
    "    left_on=[\"patient_ir_id\", \"day_bucket_starts\"],\n",
    "    right_on=[\"ir_id\", \"date\"],\n",
    "    how=\"left\"\n",
    ")"
   ]
  },
  {
   "cell_type": "code",
   "execution_count": 51,
   "id": "a15d03b3",
   "metadata": {},
   "outputs": [],
   "source": [
    "data = merged"
   ]
  },
  {
   "cell_type": "markdown",
   "id": "a348b5d3-f66c-46c4-8b7a-51680410229e",
   "metadata": {},
   "source": [
    "Check correspondence between presence of `Peep` and `on_intub` flag"
   ]
  },
  {
   "cell_type": "code",
   "execution_count": 52,
   "id": "1d572685-5153-4752-8fd3-548c4af6c516",
   "metadata": {},
   "outputs": [
    {
     "data": {
      "text/plain": [
       "Peep   on_intub\n",
       "False  False        2191\n",
       "       True          302\n",
       "True   False          13\n",
       "       True        10885\n",
       "dtype: int64"
      ]
     },
     "execution_count": 52,
     "metadata": {},
     "output_type": "execute_result"
    }
   ],
   "source": [
    "data.groupby([~data.Peep.isna(), 'on_intub']).size()"
   ]
  },
  {
   "cell_type": "markdown",
   "id": "67afa71b",
   "metadata": {
    "tags": []
   },
   "source": [
    "# 4. Merge labs"
   ]
  },
  {
   "cell_type": "code",
   "execution_count": 53,
   "id": "726f42f4-8c54-475b-a8c7-e5c0f40315e1",
   "metadata": {},
   "outputs": [],
   "source": [
    "p = os.path.join(\n",
    "    inout.get_path_from_settings('resources_path'),\n",
    "    'edw/from_2022-03-23-v5-data-clean/SCRIPT Patients Labs3-31-22.csv.gz'\n",
    ")"
   ]
  },
  {
   "cell_type": "code",
   "execution_count": 54,
   "id": "88ce3895",
   "metadata": {},
   "outputs": [],
   "source": [
    "labs = pd.read_csv(p)"
   ]
  },
  {
   "cell_type": "code",
   "execution_count": 55,
   "id": "ac5ef25a",
   "metadata": {},
   "outputs": [
    {
     "data": {
      "text/plain": [
       "CREATININE                62573\n",
       "Bicarbonate               61263\n",
       "PLATELET COUNT            54183\n",
       "HEMOGLOBIN                54138\n",
       "WHITE BLOOD CELL COUNT    51601\n",
       "ALBUMIN                   31861\n",
       "TOTAL BILIRUBIN           29954\n",
       "ABSOLUTE LYMPHOCYTES      29813\n",
       "ABSOLUTE NEUTROPHILS      29617\n",
       "Lactic Acid               18690\n",
       "LDH                       13560\n",
       "D-DIMER                    7380\n",
       "PROCALCITONIN              5768\n",
       "C-REACTIVE PROTEIN         5348\n",
       "FERRITIN                   4100\n",
       "Name: component_name, dtype: int64"
      ]
     },
     "execution_count": 55,
     "metadata": {},
     "output_type": "execute_result"
    }
   ],
   "source": [
    "labs.component_name.value_counts()"
   ]
  },
  {
   "cell_type": "markdown",
   "id": "828b5fdb",
   "metadata": {},
   "source": [
    "Dropping as we already have them"
   ]
  },
  {
   "cell_type": "code",
   "execution_count": 56,
   "id": "b810b13c",
   "metadata": {},
   "outputs": [],
   "source": [
    "labs = labs.loc[~labs.component_name.isin([\"CREATININE\", \"PLATELET COUNT\", \"TOTAL BILIRUBIN\"]), :].copy()"
   ]
  },
  {
   "cell_type": "markdown",
   "id": "d0a60ff9",
   "metadata": {},
   "source": [
    "## 4.1 Curate values"
   ]
  },
  {
   "cell_type": "code",
   "execution_count": 57,
   "id": "791e7b23",
   "metadata": {},
   "outputs": [],
   "source": [
    "non_number_idx = ~labs.value.str.match(\"^\\d+(\\.\\d+)?$\")"
   ]
  },
  {
   "cell_type": "code",
   "execution_count": 58,
   "id": "4fef97f5",
   "metadata": {},
   "outputs": [
    {
     "data": {
      "text/plain": [
       "32"
      ]
     },
     "execution_count": 58,
     "metadata": {},
     "output_type": "execute_result"
    }
   ],
   "source": [
    "labs.value[non_number_idx].nunique()"
   ]
  },
  {
   "cell_type": "code",
   "execution_count": 59,
   "id": "b219d752",
   "metadata": {},
   "outputs": [
    {
     "data": {
      "text/plain": [
       "WBC too low to do differential. Smear on file.    1172\n",
       "<0.1                                               520\n",
       "<0.5                                               277\n",
       "See Comment                                        243\n",
       "<0.05                                              147\n",
       "<150                                               138\n",
       "<0.050                                             132\n",
       ">45                                                 43\n",
       "<1.0                                                38\n",
       "<1.5                                                37\n",
       ">15000.0                                            23\n",
       "SEE COMMENT                                         19\n",
       ">69000                                              16\n",
       ">1500.0                                             14\n",
       "<230                                                13\n",
       "Not Measured                                         8\n",
       ">15000                                               6\n",
       ">12000                                               4\n",
       "Not Reported                                         4\n",
       "In Error                                             2\n",
       "See comment                                          2\n",
       ">5000                                                2\n",
       "see comment                                          2\n",
       ">1000.000                                            2\n",
       "<1275                                                1\n",
       ">20.0                                                1\n",
       "in error                                             1\n",
       "clotted                                              1\n",
       "FAILED                                               1\n",
       "<0.0                                                 1\n",
       ">100.230                                             1\n",
       "<4728                                                1\n",
       "Name: value, dtype: int64"
      ]
     },
     "execution_count": 59,
     "metadata": {},
     "output_type": "execute_result"
    }
   ],
   "source": [
    "labs.value[non_number_idx].value_counts()"
   ]
  },
  {
   "cell_type": "code",
   "execution_count": 60,
   "id": "eaf8c641",
   "metadata": {},
   "outputs": [],
   "source": [
    "labs.value = labs.value.str.replace(\"^(>|<)\", \"\", regex=True)"
   ]
  },
  {
   "cell_type": "code",
   "execution_count": 61,
   "id": "06ead9ea",
   "metadata": {},
   "outputs": [],
   "source": [
    "non_number_idx = ~labs.value.str.match(\"^\\d+(\\.\\d+)?$\")"
   ]
  },
  {
   "cell_type": "code",
   "execution_count": 62,
   "id": "ba5e6261",
   "metadata": {},
   "outputs": [
    {
     "data": {
      "text/plain": [
       "WBC too low to do differential. Smear on file.    1172\n",
       "See Comment                                        243\n",
       "SEE COMMENT                                         19\n",
       "Not Measured                                         8\n",
       "Not Reported                                         4\n",
       "In Error                                             2\n",
       "See comment                                          2\n",
       "see comment                                          2\n",
       "FAILED                                               1\n",
       "in error                                             1\n",
       "clotted                                              1\n",
       "Name: value, dtype: int64"
      ]
     },
     "execution_count": 62,
     "metadata": {},
     "output_type": "execute_result"
    }
   ],
   "source": [
    "labs.value[non_number_idx].value_counts()"
   ]
  },
  {
   "cell_type": "code",
   "execution_count": 63,
   "id": "560c9a3d",
   "metadata": {},
   "outputs": [],
   "source": [
    "labs.loc[labs.value == \"WBC too low to do differential. Smear on file.\", \"value\"] = \"0\""
   ]
  },
  {
   "cell_type": "code",
   "execution_count": 64,
   "id": "d597b5f6",
   "metadata": {},
   "outputs": [],
   "source": [
    "non_number_idx = ~labs.value.str.match(\"^\\d+(\\.\\d+)?$\")"
   ]
  },
  {
   "cell_type": "code",
   "execution_count": 65,
   "id": "1fb71f33",
   "metadata": {},
   "outputs": [
    {
     "data": {
      "text/plain": [
       "See Comment     243\n",
       "SEE COMMENT      19\n",
       "Not Measured      8\n",
       "Not Reported      4\n",
       "In Error          2\n",
       "See comment       2\n",
       "see comment       2\n",
       "FAILED            1\n",
       "in error          1\n",
       "clotted           1\n",
       "Name: value, dtype: int64"
      ]
     },
     "execution_count": 65,
     "metadata": {},
     "output_type": "execute_result"
    }
   ],
   "source": [
    "labs.value[non_number_idx].value_counts()"
   ]
  },
  {
   "cell_type": "code",
   "execution_count": 66,
   "id": "9a0e249a",
   "metadata": {},
   "outputs": [],
   "source": [
    "labs = labs.loc[~non_number_idx, :].copy()"
   ]
  },
  {
   "cell_type": "code",
   "execution_count": 67,
   "id": "d81d4e6a",
   "metadata": {},
   "outputs": [],
   "source": [
    "labs.value = labs.value.astype(float)"
   ]
  },
  {
   "cell_type": "markdown",
   "id": "eb3270cd",
   "metadata": {},
   "source": [
    "## 4.2 Curate units"
   ]
  },
  {
   "cell_type": "code",
   "execution_count": 68,
   "id": "7973cacb",
   "metadata": {},
   "outputs": [
    {
     "data": {
      "image/png": "[encoded data removed]",
      "text/plain": [
       "<Figure size 1152x864 with 12 Axes>"
      ]
     },
     "metadata": {
      "needs_background": "light"
     },
     "output_type": "display_data"
    }
   ],
   "source": [
    "columns = labs.component_name.unique().reshape(4, 3)\n",
    "fig, axes = plt.subplots(\n",
    "    nrows=columns.shape[0], \n",
    "    ncols=columns.shape[1], \n",
    "    figsize=(16, 12), \n",
    "    gridspec_kw={\"wspace\": 0.4, \"hspace\": 0.5}\n",
    ")\n",
    "for row in range(axes.shape[0]):\n",
    "    for col in range(axes.shape[1]):\n",
    "        meas = columns[row, col]\n",
    "        ax = axes[row, col]\n",
    "        sns.boxenplot(\n",
    "            data=labs.loc[labs.component_name == meas],\n",
    "            y=\"value\",\n",
    "            x=\"unit\",\n",
    "            ax=ax,\n",
    "            k_depth=\"proportion\"\n",
    "        )\n",
    "        for a in ax.collections:\n",
    "            if isinstance(a, mpl.collections.PatchCollection):\n",
    "                # remove line surround each box\n",
    "                a.set_linewidth(0)\n",
    "        ax.set_title(meas)"
   ]
  },
  {
   "cell_type": "markdown",
   "id": "48d240ea",
   "metadata": {},
   "source": [
    "All values are compatible except:\n",
    "1. CRP: need to multiple `mg/dL` values by 10\n",
    "2. Lactic Acid: need to drop `mg/dL` values"
   ]
  },
  {
   "cell_type": "code",
   "execution_count": 69,
   "id": "521ff927",
   "metadata": {},
   "outputs": [],
   "source": [
    "labs.loc[(labs.component_name == \"C-REACTIVE PROTEIN\") & (labs.unit == \"mg/dL\"), \"value\"] *= 10"
   ]
  },
  {
   "cell_type": "code",
   "execution_count": 70,
   "id": "04018ab7",
   "metadata": {},
   "outputs": [],
   "source": [
    "labs = labs.loc[~((labs.component_name == \"Lactic Acid\") & (labs.unit == \"mg/dL\")), :].copy()"
   ]
  },
  {
   "cell_type": "markdown",
   "id": "42ee27a7-67b8-4b13-a211-eca4d45c1bad",
   "metadata": {},
   "source": [
    "## 4.3 Curate ranges"
   ]
  },
  {
   "cell_type": "markdown",
   "id": "313a7354-0734-44d4-84d0-b7b36f337bd5",
   "metadata": {},
   "source": [
    "Rename values"
   ]
  },
  {
   "cell_type": "code",
   "execution_count": 71,
   "id": "88128716-bafd-4322-87e5-bcd209209ae3",
   "metadata": {},
   "outputs": [],
   "source": [
    "lab_names = {\n",
    "    'ABSOLUTE LYMPHOCYTES': \"Lymphocytes\", \n",
    "    'ABSOLUTE NEUTROPHILS': \"Neutrophils\", \n",
    "    'ALBUMIN': \"Albumin\",\n",
    "    'C-REACTIVE PROTEIN': \"CRP\", \n",
    "    'D-DIMER': \"D-dimer\", \n",
    "    'FERRITIN': \"Ferritin\",\n",
    "    'HEMOGLOBIN': \"Hemoglobin\", \n",
    "    'PROCALCITONIN': \"Procalcitonin\",\n",
    "    'WHITE BLOOD CELL COUNT': \"WBC count\"\n",
    "}"
   ]
  },
  {
   "cell_type": "code",
   "execution_count": 72,
   "id": "ec5ac96e-2d68-43e5-809a-f6607e4535e6",
   "metadata": {},
   "outputs": [],
   "source": [
    "labs.component_name.replace(lab_names, inplace=True)"
   ]
  },
  {
   "cell_type": "code",
   "execution_count": 73,
   "id": "c280241c-08cf-4d25-803a-306414aad98f",
   "metadata": {},
   "outputs": [
    {
     "data": {
      "image/png": "[encoded data removed]",
      "text/plain": [
       "<Figure size 1152x864 with 12 Axes>"
      ]
     },
     "metadata": {
      "needs_background": "light"
     },
     "output_type": "display_data"
    }
   ],
   "source": [
    "columns = np.array(labs.component_name.unique())\n",
    "cols = columns.reshape(4, 3)\n",
    "fig, axes = plt.subplots(\n",
    "    nrows=cols.shape[0], \n",
    "    ncols=cols.shape[1], \n",
    "    figsize=(16, 12), \n",
    "    gridspec_kw={\"wspace\": 0.25, \"hspace\": 0.25}\n",
    ")\n",
    "for row in range(axes.shape[0]):\n",
    "    for col in range(axes.shape[1]):\n",
    "        column = cols[row, col]\n",
    "        ax = axes[row, col]\n",
    "        idx = labs.component_name.eq(column)\n",
    "        if isinstance(column, str):\n",
    "            ax.hist(\n",
    "                labs.value[idx], \n",
    "                bins=50,\n",
    "#                 log=True\n",
    "            )\n",
    "            ax.set_title(column + f\" {labs.value[idx].isna().sum() * 100  / idx.sum():.2f}% NA\")"
   ]
  },
  {
   "cell_type": "code",
   "execution_count": 74,
   "id": "2793583e-9700-44e6-b5c5-1a9ffe722206",
   "metadata": {},
   "outputs": [],
   "source": [
    "allowed_range = {\n",
    "    \"Albumin\": (0, 6),\n",
    "    \"Bicarbonate\": (0, 45),\n",
    "    \"CRP\": (0, 500),\n",
    "    \"D-dimer\": (0, 40000),\n",
    "    \"Ferritin\": (0, 10000),\n",
    "    \"Hemoglobin\": (5, 15),\n",
    "    \"LDH\": (0, 2000),\n",
    "    \"Lactic Acid\": (0, 7),\n",
    "    \"Lymphocytes\": (0, 6),\n",
    "    \"Neutrophils\": (0, 50),\n",
    "    \"Procalcitonin\": (0, 50),\n",
    "    \"WBC count\": (0, 70),\n",
    "}"
   ]
  },
  {
   "cell_type": "code",
   "execution_count": 75,
   "id": "a4a57a09-276c-4efe-a9bf-4fb8a1dd3060",
   "metadata": {},
   "outputs": [
    {
     "name": "stdout",
     "output_type": "stream",
     "text": [
      "# of values outside of range (0, 6) for Lymphocytes = 336\n",
      "# of values outside of range (0, 50) for Neutrophils = 41\n",
      "# of values outside of range (0, 6) for Albumin = 27\n",
      "# of values outside of range (0, 45) for Bicarbonate = 11\n",
      "# of values outside of range (0, 500) for CRP = 7\n",
      "# of values outside of range (0, 40000) for D-dimer = 128\n",
      "# of values outside of range (0, 10000) for Ferritin = 87\n",
      "# of values outside of range (5, 15) for Hemoglobin = 591\n",
      "# of values outside of range (0, 7) for Lactic Acid = 910\n",
      "# of values outside of range (0, 2000) for LDH = 222\n",
      "# of values outside of range (0, 50) for Procalcitonin = 105\n",
      "# of values outside of range (0, 70) for WBC count = 148\n"
     ]
    }
   ],
   "source": [
    "for column in labs.component_name.unique():\n",
    "    for c, ranges in allowed_range.items():\n",
    "        if column == c:\n",
    "            break\n",
    "        if c in column:\n",
    "            break\n",
    "    if c != column and c not in column:\n",
    "        continue\n",
    "    idx = labs.component_name.eq(column)\n",
    "    n_val = ((labs.value[idx] < ranges[0]) | (labs.value[idx] > ranges[1])).sum()\n",
    "    labs.loc[idx & ((labs.value < ranges[0]) | (labs.value > ranges[1])), \"value\"] = np.nan\n",
    "    print(f\"# of values outside of range {ranges} for {column} = {n_val}\")"
   ]
  },
  {
   "cell_type": "code",
   "execution_count": 76,
   "id": "cea24d96-7e29-4301-a415-3d9c24e5506c",
   "metadata": {},
   "outputs": [
    {
     "data": {
      "image/png": "[encoded data removed]",
      "text/plain": [
       "<Figure size 1152x864 with 12 Axes>"
      ]
     },
     "metadata": {
      "needs_background": "light"
     },
     "output_type": "display_data"
    }
   ],
   "source": [
    "columns = np.array(labs.component_name.unique())\n",
    "cols = columns.reshape(4, 3)\n",
    "fig, axes = plt.subplots(\n",
    "    nrows=cols.shape[0], \n",
    "    ncols=cols.shape[1], \n",
    "    figsize=(16, 12), \n",
    "    gridspec_kw={\"wspace\": 0.25, \"hspace\": 0.25}\n",
    ")\n",
    "for row in range(axes.shape[0]):\n",
    "    for col in range(axes.shape[1]):\n",
    "        column = cols[row, col]\n",
    "        ax = axes[row, col]\n",
    "        idx = labs.component_name.eq(column)\n",
    "        if isinstance(column, str):\n",
    "            ax.hist(\n",
    "                labs.value[idx], \n",
    "                bins=50,\n",
    "#                 log=True\n",
    "            )\n",
    "            ax.set_title(column + f\" {labs.value[idx].isna().sum() * 100  / idx.sum():.2f}% NA\")"
   ]
  },
  {
   "cell_type": "markdown",
   "id": "32524c43",
   "metadata": {},
   "source": [
    "## 4.4 Aggregate by date"
   ]
  },
  {
   "cell_type": "code",
   "execution_count": 77,
   "id": "0470230e",
   "metadata": {},
   "outputs": [],
   "source": [
    "labs[\"date\"] = pd.to_datetime(labs.order_datetime).dt.date"
   ]
  },
  {
   "cell_type": "code",
   "execution_count": 78,
   "id": "45c7d3bc",
   "metadata": {},
   "outputs": [],
   "source": [
    "labs.date = pd.to_datetime(labs.date)"
   ]
  },
  {
   "cell_type": "code",
   "execution_count": 79,
   "id": "455c7022",
   "metadata": {},
   "outputs": [],
   "source": [
    "value_per_day = labs.groupby([\"pt_study_id\", \"date\", \"component_name\"]).count().value"
   ]
  },
  {
   "cell_type": "code",
   "execution_count": 80,
   "id": "7d0a7d6f",
   "metadata": {},
   "outputs": [
    {
     "data": {
      "text/html": [
       "<div>\n",
       "<style scoped>\n",
       "    .dataframe tbody tr th:only-of-type {\n",
       "        vertical-align: middle;\n",
       "    }\n",
       "\n",
       "    .dataframe tbody tr th {\n",
       "        vertical-align: top;\n",
       "    }\n",
       "\n",
       "    .dataframe thead th {\n",
       "        text-align: right;\n",
       "    }\n",
       "</style>\n",
       "<table border=\"1\" class=\"dataframe\">\n",
       "  <thead>\n",
       "    <tr style=\"text-align: right;\">\n",
       "      <th></th>\n",
       "      <th>value</th>\n",
       "    </tr>\n",
       "    <tr>\n",
       "      <th>component_name</th>\n",
       "      <th></th>\n",
       "    </tr>\n",
       "  </thead>\n",
       "  <tbody>\n",
       "    <tr>\n",
       "      <th>Albumin</th>\n",
       "      <td>1.116595</td>\n",
       "    </tr>\n",
       "    <tr>\n",
       "      <th>Bicarbonate</th>\n",
       "      <td>1.506123</td>\n",
       "    </tr>\n",
       "    <tr>\n",
       "      <th>CRP</th>\n",
       "      <td>1.015592</td>\n",
       "    </tr>\n",
       "    <tr>\n",
       "      <th>D-dimer</th>\n",
       "      <td>1.118464</td>\n",
       "    </tr>\n",
       "    <tr>\n",
       "      <th>Ferritin</th>\n",
       "      <td>0.995288</td>\n",
       "    </tr>\n",
       "    <tr>\n",
       "      <th>Hemoglobin</th>\n",
       "      <td>1.332719</td>\n",
       "    </tr>\n",
       "    <tr>\n",
       "      <th>LDH</th>\n",
       "      <td>1.082718</td>\n",
       "    </tr>\n",
       "    <tr>\n",
       "      <th>Lactic Acid</th>\n",
       "      <td>2.117984</td>\n",
       "    </tr>\n",
       "    <tr>\n",
       "      <th>Lymphocytes</th>\n",
       "      <td>1.063372</td>\n",
       "    </tr>\n",
       "    <tr>\n",
       "      <th>Neutrophils</th>\n",
       "      <td>1.074042</td>\n",
       "    </tr>\n",
       "    <tr>\n",
       "      <th>Procalcitonin</th>\n",
       "      <td>1.020544</td>\n",
       "    </tr>\n",
       "    <tr>\n",
       "      <th>WBC count</th>\n",
       "      <td>1.308579</td>\n",
       "    </tr>\n",
       "  </tbody>\n",
       "</table>\n",
       "</div>"
      ],
      "text/plain": [
       "                   value\n",
       "component_name          \n",
       "Albumin         1.116595\n",
       "Bicarbonate     1.506123\n",
       "CRP             1.015592\n",
       "D-dimer         1.118464\n",
       "Ferritin        0.995288\n",
       "Hemoglobin      1.332719\n",
       "LDH             1.082718\n",
       "Lactic Acid     2.117984\n",
       "Lymphocytes     1.063372\n",
       "Neutrophils     1.074042\n",
       "Procalcitonin   1.020544\n",
       "WBC count       1.308579"
      ]
     },
     "execution_count": 80,
     "metadata": {},
     "output_type": "execute_result"
    }
   ],
   "source": [
    "value_per_day.reset_index().groupby(\"component_name\").agg({\"value\": \"mean\"})"
   ]
  },
  {
   "cell_type": "code",
   "execution_count": 81,
   "id": "0a19e001",
   "metadata": {},
   "outputs": [],
   "source": [
    "agg_labs = labs.groupby([\"pt_study_id\", \"component_name\", \"date\"]).agg({\"value\": \"mean\"}).reset_index()"
   ]
  },
  {
   "cell_type": "code",
   "execution_count": 82,
   "id": "1395e5d9",
   "metadata": {},
   "outputs": [],
   "source": [
    "agg_labs = agg_labs.pivot_table(\n",
    "    columns=\"component_name\", \n",
    "    values=\"value\", \n",
    "    index=[\"pt_study_id\", \"date\"]\n",
    ").reset_index()"
   ]
  },
  {
   "cell_type": "code",
   "execution_count": 83,
   "id": "283553f7",
   "metadata": {},
   "outputs": [],
   "source": [
    "merged = data.merge(\n",
    "    agg_labs, \n",
    "    left_on=[\"pt_study_id\", \"day_bucket_starts\"], \n",
    "    right_on=[\"pt_study_id\", \"date\"],\n",
    "    how=\"outer\"\n",
    ")"
   ]
  },
  {
   "cell_type": "code",
   "execution_count": 84,
   "id": "f19d3a4b",
   "metadata": {},
   "outputs": [
    {
     "data": {
      "text/plain": [
       "28798"
      ]
     },
     "execution_count": 84,
     "metadata": {},
     "output_type": "execute_result"
    }
   ],
   "source": [
    "merged.icu_rank.isna().sum()"
   ]
  },
  {
   "cell_type": "code",
   "execution_count": 85,
   "id": "f29b9a7c",
   "metadata": {},
   "outputs": [
    {
     "data": {
      "text/plain": [
       "129"
      ]
     },
     "execution_count": 85,
     "metadata": {},
     "output_type": "execute_result"
    }
   ],
   "source": [
    "merged.date_y.isna().sum()"
   ]
  },
  {
   "cell_type": "code",
   "execution_count": 86,
   "id": "4d2d77bc",
   "metadata": {},
   "outputs": [],
   "source": [
    "merged = merged.loc[~merged.icu_rank.isna(), :]"
   ]
  },
  {
   "cell_type": "code",
   "execution_count": 87,
   "id": "f71aeec5",
   "metadata": {},
   "outputs": [],
   "source": [
    "data = merged"
   ]
  },
  {
   "cell_type": "code",
   "execution_count": 88,
   "id": "66f30c2d",
   "metadata": {},
   "outputs": [
    {
     "name": "stdout",
     "output_type": "stream",
     "text": [
      "Number of patients: 601\n",
      "Number of ICU-days: 13391\n"
     ]
    }
   ],
   "source": [
    "print(f\"Number of patients: {data.pt_study_id.nunique()}\")\n",
    "print(f\"Number of ICU-days: {data.shape[0]}\")"
   ]
  },
  {
   "cell_type": "markdown",
   "id": "bf47dd15",
   "metadata": {},
   "source": [
    "# 5. Merge vitals and arterial blood gas"
   ]
  },
  {
   "cell_type": "markdown",
   "id": "5a1d0602",
   "metadata": {},
   "source": [
    "Following Cathy's [notebook](https://github.com/NUSCRIPT/cereal/blob/master/01dataCAG3-21-22.ipynb), based on notebooks [here](https://github.com/NUSCRIPT/cereal/blob/master/add_vitals.ipynb) and [here](https://github.com/NUSCRIPT/cereal/blob/master/z03-omop_abg-12-12-21.ipynb)"
   ]
  },
  {
   "cell_type": "markdown",
   "id": "584b0380",
   "metadata": {},
   "source": [
    "Vitals of interest"
   ]
  },
  {
   "cell_type": "code",
   "execution_count": 89,
   "id": "90ca8858-2f00-4a2a-ae22-8ee7d7533a99",
   "metadata": {},
   "outputs": [],
   "source": [
    "p = os.path.join(\n",
    "    inout.get_path_from_settings('resources_path'),\n",
    "    'edw/from_2022-03-23-v5-data-clean/vitals.csv.gz\"'\n",
    ")"
   ]
  },
  {
   "cell_type": "code",
   "execution_count": 90,
   "id": "50b2433f",
   "metadata": {},
   "outputs": [],
   "source": [
    "vital_cols = [\n",
    "    'Diastolic blood pressure', \n",
    "    'Systolic blood pressure', \n",
    "    'Body temperature', \n",
    "    'Respiratory rate', \n",
    "    'Heart rate', \n",
    "    'Oxygen saturation in Arterial blood by Pulse oximetry',\n",
    "    'pH of Arterial blood', \n",
    "    'Carbon dioxide [Partial pressure] in Arterial blood',  \n",
    "    'Oxygen [Partial pressure] in Arterial blood',\n",
    "    'Bicarbonate [Moles/volume] in Arterial blood' \n",
    "]"
   ]
  },
  {
   "cell_type": "code",
   "execution_count": 91,
   "id": "31734866-de2c-4974-8904-3144c950f4b9",
   "metadata": {},
   "outputs": [],
   "source": [
    "p2 = os.path.join(\n",
    "    inout.get_path_from_settings('resources_path'),\n",
    "    'edw/from_2022-03-23-v5-data-clean/measurement.csv.gz'\n",
    ")"
   ]
  },
  {
   "cell_type": "code",
   "execution_count": 92,
   "id": "68cf6aee",
   "metadata": {},
   "outputs": [
    {
     "name": "stderr",
     "output_type": "stream",
     "text": [
      "/Users/cag895/OneDrive - Northwestern University/CarpeDiem/VirEnvJuly22/lib/python3.8/site-packages/IPython/core/interactiveshell.py:3444: DtypeWarning: Columns (17,18,19,20,44,45,48,49,50) have mixed types.Specify dtype option on import or set low_memory=False.\n",
      "  exec(code_obj, self.user_global_ns, self.user_ns)\n"
     ]
    }
   ],
   "source": [
    "cache = p\n",
    "if os.path.exists(cache):\n",
    "    vitals = pd.read_csv(cache)\n",
    "else:\n",
    "    vitals = pd.read_csv(p2, encoding=\"unicode_escape\")\n",
    "    vitals = vitals.loc[vitals.measurement_concept_name.isin(vital_cols), :]\n",
    "    vitals.to_csv(cache)"
   ]
  },
  {
   "cell_type": "markdown",
   "id": "9ac5bad0-8e3d-45d9-b2fa-da02eeb515f5",
   "metadata": {},
   "source": [
    "## 5.1 Curate units"
   ]
  },
  {
   "cell_type": "code",
   "execution_count": 93,
   "id": "f33b1351-e717-480c-92f4-d1a28c9cd9e7",
   "metadata": {},
   "outputs": [],
   "source": [
    "vitals.unit_concept_name.fillna(\"NA\", inplace=True)"
   ]
  },
  {
   "cell_type": "code",
   "execution_count": 94,
   "id": "d0838e59-953e-48b0-b067-17fa9ef8484e",
   "metadata": {},
   "outputs": [
    {
     "data": {
      "text/plain": [
       "measurement_concept_name                               unit_concept_name        \n",
       "Bicarbonate [Moles/volume] in Arterial blood           millimole per liter           35742\n",
       "                                                       NA                              657\n",
       "Body temperature                                       degree Fahrenheit            374436\n",
       "                                                       degree Celsius                21744\n",
       "Carbon dioxide [Partial pressure] in Arterial blood    millimeter mercury column     37060\n",
       "                                                       NA                              660\n",
       "Diastolic blood pressure                               millimeter mercury column    692662\n",
       "Heart rate                                             counts per minute            676022\n",
       "Oxygen [Partial pressure] in Arterial blood            millimeter mercury column     37054\n",
       "                                                       NA                              659\n",
       "Oxygen saturation in Arterial blood by Pulse oximetry  percent                      629751\n",
       "Respiratory rate                                       counts per minute            534359\n",
       "Systolic blood pressure                                millimeter mercury column    692792\n",
       "pH of Arterial blood                                   NA                            37715\n",
       "Name: unit_concept_name, dtype: int64"
      ]
     },
     "execution_count": 94,
     "metadata": {},
     "output_type": "execute_result"
    }
   ],
   "source": [
    "vitals.groupby(\"measurement_concept_name\").unit_concept_name.value_counts()"
   ]
  },
  {
   "cell_type": "code",
   "execution_count": 95,
   "id": "3599d5ae",
   "metadata": {},
   "outputs": [
    {
     "data": {
      "image/png": "[encoded data removed]",
      "text/plain": [
       "<Figure size 1152x864 with 10 Axes>"
      ]
     },
     "metadata": {
      "needs_background": "light"
     },
     "output_type": "display_data"
    }
   ],
   "source": [
    "columns = np.array(vitals.measurement_concept_name.unique().tolist() + [None, None]).reshape(4, 3)\n",
    "fig, axes = plt.subplots(\n",
    "    nrows=columns.shape[0], \n",
    "    ncols=columns.shape[1], \n",
    "    figsize=(16, 12), \n",
    "    gridspec_kw={\"wspace\": 0.4, \"hspace\": 0.5}\n",
    ")\n",
    "for row in range(axes.shape[0]):\n",
    "    for col in range(axes.shape[1]):\n",
    "        meas = columns[row, col]\n",
    "        ax = axes[row, col]\n",
    "        if not meas:\n",
    "            ax.remove()\n",
    "            continue\n",
    "        sns.boxenplot(\n",
    "            data=vitals.loc[vitals.measurement_concept_name == meas],\n",
    "            y=\"value_as_number\",\n",
    "            x=\"unit_concept_name\",\n",
    "            ax=ax,\n",
    "            k_depth=\"proportion\"\n",
    "        )\n",
    "        for a in ax.collections:\n",
    "            if isinstance(a, mpl.collections.PatchCollection):\n",
    "                # remove line surround each box\n",
    "                a.set_linewidth(0)\n",
    "        ax.set_title(meas)"
   ]
  },
  {
   "cell_type": "markdown",
   "id": "494a81ad",
   "metadata": {},
   "source": [
    "Curate temperature"
   ]
  },
  {
   "cell_type": "code",
   "execution_count": 96,
   "id": "83046dca",
   "metadata": {},
   "outputs": [],
   "source": [
    "vitals.loc[\n",
    "    (vitals.value_as_number > 800) & (vitals.unit_concept_name == 'degree Fahrenheit'), \n",
    "    'value_as_number'\n",
    "] *= 0.1"
   ]
  },
  {
   "cell_type": "code",
   "execution_count": 97,
   "id": "7da2ad6b",
   "metadata": {},
   "outputs": [],
   "source": [
    "vitals.loc[\n",
    "    (vitals.value_as_number < 20) & (vitals.unit_concept_name=='degree Fahrenheit'), \n",
    "    'value_as_number'\n",
    "] *= 10"
   ]
  },
  {
   "cell_type": "code",
   "execution_count": 98,
   "id": "6b047b41",
   "metadata": {},
   "outputs": [],
   "source": [
    "f = (\n",
    "    (vitals.measurement_concept_name == \"Body temperature\") \n",
    "    & (vitals.unit_concept_name == \"degree Celsius\")\n",
    ")\n",
    "vitals.loc[f, \"value_as_number\"] = vitals.loc[f, \"value_as_number\"] * 9 / 5 + 32"
   ]
  },
  {
   "cell_type": "code",
   "execution_count": 99,
   "id": "aa8160e6-efee-483c-b523-feb66f2e11cf",
   "metadata": {},
   "outputs": [
    {
     "data": {
      "image/png": "[encoded data removed]",
      "text/plain": [
       "<Figure size 432x288 with 1 Axes>"
      ]
     },
     "metadata": {
      "needs_background": "light"
     },
     "output_type": "display_data"
    }
   ],
   "source": [
    "fig, ax = plt.subplots()\n",
    "sns.boxenplot(\n",
    "    data=vitals.loc[vitals.measurement_concept_name == \"Body temperature\"],\n",
    "    y=\"value_as_number\",\n",
    "    x=\"unit_concept_name\",\n",
    "    ax=ax,\n",
    "    k_depth=\"proportion\"\n",
    ")\n",
    "for a in ax.collections:\n",
    "    if isinstance(a, mpl.collections.PatchCollection):\n",
    "        # remove line surround each box\n",
    "        a.set_linewidth(0)"
   ]
  },
  {
   "cell_type": "markdown",
   "id": "a3f91477-a281-45d2-bac2-ae88153154ef",
   "metadata": {},
   "source": [
    "## 5.2 Curate values"
   ]
  },
  {
   "cell_type": "code",
   "execution_count": 100,
   "id": "3d9b6406",
   "metadata": {},
   "outputs": [],
   "source": [
    "vitals_names = {\n",
    "    'Diastolic blood pressure': \"dia_blood_press\",\n",
    "    'Systolic blood pressure': \"sys_blood_press\",\n",
    "    'Body temperature': \"body_temp\",\n",
    "    'Respiratory rate': \"resp_rate\",\n",
    "    'Heart rate': \"heart_rate\",\n",
    "    'Oxygen saturation in Arterial blood by Pulse oximetry': \"oxigen_sat\",\n",
    "    'pH of Arterial blood': \"abg_ph\",\n",
    "    'Carbon dioxide [Partial pressure] in Arterial blood': \"abg_paco2\",\n",
    "    'Oxygen [Partial pressure] in Arterial blood': \"abg_pao2\",\n",
    "    'Bicarbonate [Moles/volume] in Arterial blood': \"abg_bicarb\",\n",
    "}"
   ]
  },
  {
   "cell_type": "code",
   "execution_count": 101,
   "id": "39a838ba",
   "metadata": {},
   "outputs": [],
   "source": [
    "vitals.measurement_concept_name.replace(vitals_names, inplace=True)"
   ]
  },
  {
   "cell_type": "code",
   "execution_count": 102,
   "id": "964df748-de9f-48aa-94dd-c716fc18e7ce",
   "metadata": {},
   "outputs": [
    {
     "data": {
      "image/png": "[encoded data removed]",
      "text/plain": [
       "<Figure size 1152x864 with 10 Axes>"
      ]
     },
     "metadata": {
      "needs_background": "light"
     },
     "output_type": "display_data"
    }
   ],
   "source": [
    "columns = np.array(list(vitals_names.values()))\n",
    "cols = np.pad(columns, (0, 12 - columns.size), constant_values=np.nan).reshape(4, 3)\n",
    "fig, axes = plt.subplots(\n",
    "    nrows=cols.shape[0], \n",
    "    ncols=cols.shape[1], \n",
    "    figsize=(16, 12), \n",
    "    gridspec_kw={\"wspace\": 0.3, \"hspace\": 0.3}\n",
    ")\n",
    "for row in range(axes.shape[0]):\n",
    "    for col in range(axes.shape[1]):\n",
    "        column = cols[row, col]\n",
    "        ax = axes[row, col]\n",
    "        if isinstance(column, str) and column != 'nan':\n",
    "            idx = vitals.measurement_concept_name.eq(column)\n",
    "            ax.hist(\n",
    "                vitals.value_as_number[idx], \n",
    "                bins=50,\n",
    "#                 log=True\n",
    "            )\n",
    "            ax.set_title(column + f\" {vitals.value_as_number[idx].isna().sum() * 100 / idx.sum():.2f}% NA\")\n",
    "        else:\n",
    "            ax.remove()"
   ]
  },
  {
   "cell_type": "code",
   "execution_count": 103,
   "id": "fcadfc4d-2070-4721-a331-70c8afc0e658",
   "metadata": {},
   "outputs": [],
   "source": [
    "allowed_range = {\n",
    "    \"abg_paco2\": (10, 120),\n",
    "    \"abg_pao2\": (0, 500),\n",
    "    \"body_temp\": (80, 110),\n",
    "    \"dia_blood_press\": (20, 150),\n",
    "    \"heart_rate\": (30, 200),\n",
    "    \"oxigen_sat\": (50, 100),\n",
    "    \"resp_rate\": (1, 75),\n",
    "    \"sys_blood_press\": (30, 230)\n",
    "}"
   ]
  },
  {
   "cell_type": "code",
   "execution_count": 104,
   "id": "9e65ed7e-ba98-469d-8811-c489372cb169",
   "metadata": {},
   "outputs": [
    {
     "name": "stdout",
     "output_type": "stream",
     "text": [
      "# of values outside of range (0, 500) for abg_pao2 = 5\n",
      "# of values outside of range (50, 100) for oxigen_sat = 263\n",
      "# of values outside of range (20, 150) for dia_blood_press = 777\n",
      "# of values outside of range (1, 75) for resp_rate = 2857\n",
      "# of values outside of range (80, 110) for body_temp = 115\n",
      "# of values outside of range (10, 120) for abg_paco2 = 23\n",
      "# of values outside of range (30, 230) for sys_blood_press = 745\n",
      "# of values outside of range (30, 200) for heart_rate = 336\n"
     ]
    }
   ],
   "source": [
    "for column in vitals.measurement_concept_name.unique():\n",
    "    for c, ranges in allowed_range.items():\n",
    "        if column == c:\n",
    "            break\n",
    "        if c in column:\n",
    "            break\n",
    "    if c != column and c not in column:\n",
    "        continue\n",
    "    idx = vitals.measurement_concept_name.eq(column)\n",
    "    n_val = ((vitals.value_as_number[idx] < ranges[0]) | (vitals.value_as_number[idx] > ranges[1])).sum()\n",
    "    vitals.loc[idx & ((vitals.value_as_number < ranges[0]) | (vitals.value_as_number > ranges[1])), \"value_as_number\"] = np.nan\n",
    "    print(f\"# of values outside of range {ranges} for {column} = {n_val}\")"
   ]
  },
  {
   "cell_type": "code",
   "execution_count": 105,
   "id": "398d08a6-79d2-4455-ad26-0d2d5daf040d",
   "metadata": {},
   "outputs": [
    {
     "data": {
      "image/png": "[encoded data removed]",
      "text/plain": [
       "<Figure size 1152x864 with 10 Axes>"
      ]
     },
     "metadata": {
      "needs_background": "light"
     },
     "output_type": "display_data"
    }
   ],
   "source": [
    "columns = np.array(list(vitals_names.values()))\n",
    "cols = np.pad(columns, (0, 12 - columns.size), constant_values=np.nan).reshape(4, 3)\n",
    "fig, axes = plt.subplots(\n",
    "    nrows=cols.shape[0], \n",
    "    ncols=cols.shape[1], \n",
    "    figsize=(16, 12), \n",
    "    gridspec_kw={\"wspace\": 0.3, \"hspace\": 0.3}\n",
    ")\n",
    "for row in range(axes.shape[0]):\n",
    "    for col in range(axes.shape[1]):\n",
    "        column = cols[row, col]\n",
    "        ax = axes[row, col]\n",
    "        if isinstance(column, str) and column != 'nan':\n",
    "            idx = vitals.measurement_concept_name.eq(column)\n",
    "            ax.hist(\n",
    "                vitals.value_as_number[idx], \n",
    "                bins=50,\n",
    "#                 log=True\n",
    "            )\n",
    "            ax.set_title(column + f\" {vitals.value_as_number[idx].isna().sum() * 100 / idx.sum():.2f}% NA\")\n",
    "        else:\n",
    "            ax.remove()"
   ]
  },
  {
   "cell_type": "markdown",
   "id": "bb48b7ec",
   "metadata": {},
   "source": [
    "## 5.3 Aggregate"
   ]
  },
  {
   "cell_type": "code",
   "execution_count": 106,
   "id": "9049f80c",
   "metadata": {},
   "outputs": [],
   "source": [
    "vitals.measurement_datetime = pd.to_datetime(vitals.measurement_datetime).dt.date"
   ]
  },
  {
   "cell_type": "markdown",
   "id": "54480a85",
   "metadata": {},
   "source": [
    "How many measurements per day?"
   ]
  },
  {
   "cell_type": "code",
   "execution_count": 107,
   "id": "22196851",
   "metadata": {},
   "outputs": [],
   "source": [
    "value_per_day = vitals.groupby(\n",
    "    [\"person_id\", \"measurement_datetime\", \"measurement_concept_name\"]\n",
    ").count().value_as_number"
   ]
  },
  {
   "cell_type": "code",
   "execution_count": 108,
   "id": "bbfc639b",
   "metadata": {},
   "outputs": [
    {
     "data": {
      "text/html": [
       "<div>\n",
       "<style scoped>\n",
       "    .dataframe tbody tr th:only-of-type {\n",
       "        vertical-align: middle;\n",
       "    }\n",
       "\n",
       "    .dataframe tbody tr th {\n",
       "        vertical-align: top;\n",
       "    }\n",
       "\n",
       "    .dataframe thead th {\n",
       "        text-align: right;\n",
       "    }\n",
       "</style>\n",
       "<table border=\"1\" class=\"dataframe\">\n",
       "  <thead>\n",
       "    <tr style=\"text-align: right;\">\n",
       "      <th></th>\n",
       "      <th>value_as_number</th>\n",
       "    </tr>\n",
       "    <tr>\n",
       "      <th>measurement_concept_name</th>\n",
       "      <th></th>\n",
       "    </tr>\n",
       "  </thead>\n",
       "  <tbody>\n",
       "    <tr>\n",
       "      <th>abg_bicarb</th>\n",
       "      <td>3.984305</td>\n",
       "    </tr>\n",
       "    <tr>\n",
       "      <th>abg_paco2</th>\n",
       "      <td>4.033576</td>\n",
       "    </tr>\n",
       "    <tr>\n",
       "      <th>abg_pao2</th>\n",
       "      <td>4.036167</td>\n",
       "    </tr>\n",
       "    <tr>\n",
       "      <th>abg_ph</th>\n",
       "      <td>4.034664</td>\n",
       "    </tr>\n",
       "    <tr>\n",
       "      <th>body_temp</th>\n",
       "      <td>7.504500</td>\n",
       "    </tr>\n",
       "    <tr>\n",
       "      <th>dia_blood_press</th>\n",
       "      <td>12.141742</td>\n",
       "    </tr>\n",
       "    <tr>\n",
       "      <th>heart_rate</th>\n",
       "      <td>11.885000</td>\n",
       "    </tr>\n",
       "    <tr>\n",
       "      <th>oxigen_sat</th>\n",
       "      <td>13.546699</td>\n",
       "    </tr>\n",
       "    <tr>\n",
       "      <th>resp_rate</th>\n",
       "      <td>10.530005</td>\n",
       "    </tr>\n",
       "    <tr>\n",
       "      <th>sys_blood_press</th>\n",
       "      <td>12.144371</td>\n",
       "    </tr>\n",
       "  </tbody>\n",
       "</table>\n",
       "</div>"
      ],
      "text/plain": [
       "                          value_as_number\n",
       "measurement_concept_name                 \n",
       "abg_bicarb                       3.984305\n",
       "abg_paco2                        4.033576\n",
       "abg_pao2                         4.036167\n",
       "abg_ph                           4.034664\n",
       "body_temp                        7.504500\n",
       "dia_blood_press                 12.141742\n",
       "heart_rate                      11.885000\n",
       "oxigen_sat                      13.546699\n",
       "resp_rate                       10.530005\n",
       "sys_blood_press                 12.144371"
      ]
     },
     "execution_count": 108,
     "metadata": {},
     "output_type": "execute_result"
    }
   ],
   "source": [
    "value_per_day.reset_index().groupby(\"measurement_concept_name\").agg({\"value_as_number\": \"mean\"})"
   ]
  },
  {
   "cell_type": "code",
   "execution_count": 109,
   "id": "91abb771",
   "metadata": {},
   "outputs": [],
   "source": [
    "agg_vitals = vitals.groupby(\n",
    "    [\"person_id\", \"measurement_datetime\", \"measurement_concept_name\"]\n",
    ").agg({\"value_as_number\": [\"mean\"]})"
   ]
  },
  {
   "cell_type": "code",
   "execution_count": 110,
   "id": "4ea59a76",
   "metadata": {},
   "outputs": [],
   "source": [
    "agg_vitals = agg_vitals.pivot_table(\n",
    "    columns=\"measurement_concept_name\", \n",
    "    values=\"value_as_number\", \n",
    "    index=[\"person_id\", \"measurement_datetime\"]\n",
    ").reset_index()"
   ]
  },
  {
   "cell_type": "code",
   "execution_count": 111,
   "id": "4ed7edef",
   "metadata": {},
   "outputs": [],
   "source": [
    "agg_vitals.measurement_datetime = pd.to_datetime(agg_vitals.measurement_datetime)"
   ]
  },
  {
   "cell_type": "code",
   "execution_count": 112,
   "id": "572a2778",
   "metadata": {},
   "outputs": [],
   "source": [
    "agg_vitals.columns = [\" \".join(col).strip().replace(\" \", \"_\") for col in agg_vitals.columns.values]"
   ]
  },
  {
   "cell_type": "code",
   "execution_count": 113,
   "id": "dcc8b65d-7dea-41c8-91e2-2c92378c431e",
   "metadata": {},
   "outputs": [],
   "source": [
    "p = os.path.join(\n",
    "    inout.get_path_from_settings('resources_path'),\n",
    "    'edw/from_2022-03-23-v5-data-clean/patient.csv.gz'\n",
    ")"
   ]
  },
  {
   "cell_type": "code",
   "execution_count": 114,
   "id": "94897cf6",
   "metadata": {},
   "outputs": [],
   "source": [
    "patients = pd.read_csv(p)"
   ]
  },
  {
   "cell_type": "code",
   "execution_count": 115,
   "id": "22df8613",
   "metadata": {},
   "outputs": [],
   "source": [
    "agg_vitals = agg_vitals.merge(patients, left_on=\"person_id\", right_on=\"cohort_patient_id\", how=\"left\")"
   ]
  },
  {
   "cell_type": "code",
   "execution_count": 116,
   "id": "668fae82",
   "metadata": {},
   "outputs": [
    {
     "data": {
      "text/plain": [
       "0"
      ]
     },
     "execution_count": 116,
     "metadata": {},
     "output_type": "execute_result"
    }
   ],
   "source": [
    "agg_vitals.case_number.isna().sum()"
   ]
  },
  {
   "cell_type": "code",
   "execution_count": 117,
   "id": "565082f9",
   "metadata": {},
   "outputs": [],
   "source": [
    "merged = data.merge(\n",
    "    agg_vitals, \n",
    "    left_on=[\"pt_study_id\", \"day_bucket_starts\"], \n",
    "    right_on=[\"case_number\", \"measurement_datetime\"],\n",
    "    how=\"left\"\n",
    ")"
   ]
  },
  {
   "cell_type": "code",
   "execution_count": 118,
   "id": "196f4078",
   "metadata": {},
   "outputs": [
    {
     "data": {
      "text/plain": [
       "2"
      ]
     },
     "execution_count": 118,
     "metadata": {},
     "output_type": "execute_result"
    }
   ],
   "source": [
    "merged.case_number.isna().sum()"
   ]
  },
  {
   "cell_type": "markdown",
   "id": "5530ef8f",
   "metadata": {},
   "source": [
    "Wow, only 2 ICU-days did not have vitals"
   ]
  },
  {
   "cell_type": "code",
   "execution_count": 119,
   "id": "44344e78",
   "metadata": {},
   "outputs": [],
   "source": [
    "data = merged"
   ]
  },
  {
   "cell_type": "code",
   "execution_count": 120,
   "id": "a3bd8abb-987c-45d5-a472-61ae6fb9bec1",
   "metadata": {},
   "outputs": [
    {
     "name": "stdout",
     "output_type": "stream",
     "text": [
      "Number of patients: 601\n",
      "Number of ICU-days: 13391\n"
     ]
    }
   ],
   "source": [
    "print(f\"Number of patients: {data.pt_study_id.nunique()}\")\n",
    "print(f\"Number of ICU-days: {data.shape[0]}\")"
   ]
  },
  {
   "cell_type": "markdown",
   "id": "8f465599-01bf-426c-a3fb-ed0c0da5f0a8",
   "metadata": {},
   "source": [
    "# 6.1 Add norepinephrine dosage\n",
    "\n",
    "Pulled directly from EHR"
   ]
  },
  {
   "cell_type": "code",
   "execution_count": 121,
   "id": "7c12a584-8f27-4cb0-abe0-197ad339e934",
   "metadata": {},
   "outputs": [],
   "source": [
    "p = os.path.join(\n",
    "    inout.get_path_from_settings('resources_path'),\n",
    "    'edw/from_2022-03-23-v5-data-clean/levo_day_weight5-9-22v2.csv'\n",
    ")"
   ]
  },
  {
   "cell_type": "code",
   "execution_count": 122,
   "id": "e628b4f0-b557-4a71-ae74-a383296e6748",
   "metadata": {},
   "outputs": [],
   "source": [
    "norepi = pd.read_csv(p, index_col=0)"
   ]
  },
  {
   "cell_type": "markdown",
   "id": "a2089140-ba3f-4efa-ba4e-dead5c69d361",
   "metadata": {},
   "source": [
    "Not all patients have `pt_study_id`"
   ]
  },
  {
   "cell_type": "markdown",
   "id": "d94bab06-68c1-498a-90ad-3852a8042a3f",
   "metadata": {},
   "source": [
    "norepi.ir_id[norepi.pt_study_id.isna()].unique()"
   ]
  },
  {
   "cell_type": "code",
   "execution_count": 124,
   "id": "10ba99b7-c0f0-4138-99de-e253a4e20f6b",
   "metadata": {},
   "outputs": [
    {
     "data": {
      "text/plain": [
       "0"
      ]
     },
     "execution_count": 124,
     "metadata": {},
     "output_type": "execute_result"
    }
   ],
   "source": [
    "patients.patient_ir_id.isin(norepi.ir_id[norepi.pt_study_id.isna()].unique()).sum()"
   ]
  },
  {
   "cell_type": "markdown",
   "id": "0ece1b7e-574e-4a46-b597-bdb8424ad546",
   "metadata": {},
   "source": [
    "And we don't have them in the cohort either, so just ignore them"
   ]
  },
  {
   "cell_type": "code",
   "execution_count": 125,
   "id": "83c0a759-ea18-4030-9d77-6b9ae830f57d",
   "metadata": {},
   "outputs": [],
   "source": [
    "norepi = norepi.loc[~norepi.pt_study_id.isna(), :].copy()"
   ]
  },
  {
   "cell_type": "code",
   "execution_count": 126,
   "id": "230ece47-83ee-464f-a390-9dd4f9bdea59",
   "metadata": {},
   "outputs": [
    {
     "data": {
      "text/plain": [
       "0"
      ]
     },
     "execution_count": 126,
     "metadata": {},
     "output_type": "execute_result"
    }
   ],
   "source": [
    "norepi[\"mcg/kg/min\"].isna().sum()"
   ]
  },
  {
   "cell_type": "code",
   "execution_count": 127,
   "id": "41f6a0d6-8211-4367-ac0d-4e668ff0d4bc",
   "metadata": {},
   "outputs": [],
   "source": [
    "norepi.administration_date = pd.to_datetime(norepi.administration_date)"
   ]
  },
  {
   "cell_type": "markdown",
   "id": "65432b81-e7c8-4d17-8d81-725294ebee52",
   "metadata": {},
   "source": [
    "Are there any duplicated days?"
   ]
  },
  {
   "cell_type": "markdown",
   "id": "e50a5a09-80da-4b88-a462-c27002bdc3c7",
   "metadata": {},
   "source": [
    "norepi.groupby([\"pt_study_id\", \"administration_date\"]).ir_id.count().value_counts()"
   ]
  },
  {
   "cell_type": "code",
   "execution_count": 129,
   "id": "6789314d-9320-46b1-a257-91d1911871ae",
   "metadata": {},
   "outputs": [
    {
     "data": {
      "text/plain": [
       "(5705, 7)"
      ]
     },
     "execution_count": 129,
     "metadata": {},
     "output_type": "execute_result"
    }
   ],
   "source": [
    "norepi.shape"
   ]
  },
  {
   "cell_type": "code",
   "execution_count": 130,
   "id": "d5dadc97-bba2-429b-8490-76f1056e0ab8",
   "metadata": {},
   "outputs": [],
   "source": [
    "norepi_columns = [\"pt_study_id\", \"administration_date\", \"mcg/kg/min\"]"
   ]
  },
  {
   "cell_type": "code",
   "execution_count": 131,
   "id": "9c9c7594-978b-4fb7-b180-bb646d861fa0",
   "metadata": {},
   "outputs": [],
   "source": [
    "merged = data.merge(\n",
    "    norepi[norepi_columns],\n",
    "    left_on=[\"pt_study_id\", \"day_bucket_starts\"],\n",
    "    right_on=[\"pt_study_id\", \"administration_date\"],\n",
    "    how=\"left\"\n",
    ")"
   ]
  },
  {
   "cell_type": "code",
   "execution_count": 132,
   "id": "7c2b9595-6f8f-49c5-a8a7-274f04d37a30",
   "metadata": {},
   "outputs": [
    {
     "data": {
      "text/plain": [
       "(13391, 105)"
      ]
     },
     "execution_count": 132,
     "metadata": {},
     "output_type": "execute_result"
    }
   ],
   "source": [
    "merged.shape"
   ]
  },
  {
   "cell_type": "markdown",
   "id": "666ae857-5d0c-4392-a8b5-6df7e0252e40",
   "metadata": {},
   "source": [
    "We joined this many values"
   ]
  },
  {
   "cell_type": "code",
   "execution_count": 133,
   "id": "e8b2667e-903d-4fd0-98d7-285b38c90b7d",
   "metadata": {},
   "outputs": [
    {
     "data": {
      "text/plain": [
       "5013"
      ]
     },
     "execution_count": 133,
     "metadata": {},
     "output_type": "execute_result"
    }
   ],
   "source": [
    "(~merged[\"mcg/kg/min\"].isna()).sum()"
   ]
  },
  {
   "cell_type": "code",
   "execution_count": 134,
   "id": "f6d1bfe9-fe7a-4cfb-8bb1-5d04ee24a89b",
   "metadata": {},
   "outputs": [
    {
     "data": {
      "text/plain": [
       "4985"
      ]
     },
     "execution_count": 134,
     "metadata": {},
     "output_type": "execute_result"
    }
   ],
   "source": [
    "(~merged.dosage.isna()).sum()"
   ]
  },
  {
   "cell_type": "code",
   "execution_count": 135,
   "id": "97329ba3-6f4f-4917-9b13-4a2e1856adf1",
   "metadata": {},
   "outputs": [],
   "source": [
    "merged[\"mcg/kg/min\"]=merged[\"mcg/kg/min\"].replace(0, np.nan)"
   ]
  },
  {
   "cell_type": "code",
   "execution_count": 136,
   "id": "066d5c13-8684-43f8-a72c-09610ded76ef",
   "metadata": {},
   "outputs": [],
   "source": [
    "data = merged"
   ]
  },
  {
   "cell_type": "markdown",
   "id": "eb38013f-2bc0-4142-9edc-61fabb563d1a",
   "metadata": {},
   "source": [
    "# 6.2 Add norepinephrine flag"
   ]
  },
  {
   "cell_type": "code",
   "execution_count": 137,
   "id": "28b40857-4852-493e-9e7e-9e74e91d012f",
   "metadata": {},
   "outputs": [],
   "source": [
    "#0 if not on norepineprhine, 1 if received norepinephrine, then leave no doses row as NA\n",
    "\n",
    "data['Norepinephrine_flag'] = np.where(data['mcg/kg/min'].isna(),0,1)"
   ]
  },
  {
   "cell_type": "markdown",
   "id": "1b7de438-7519-405b-9f5e-cd83f0be1609",
   "metadata": {},
   "source": [
    "# 6.3 Recalculate SOFA score"
   ]
  },
  {
   "cell_type": "code",
   "execution_count": 138,
   "id": "651f436b-60be-4772-89f7-05bc47c9e515",
   "metadata": {},
   "outputs": [],
   "source": [
    "#calculate new hypotension_points using new levophed column \n",
    "\n",
    "def hypotension_points(row): \n",
    "    if (row['htn_med_name']=='norepinephrine') & (row['mcg/kg/min']>0.1):\n",
    "        return 4\n",
    "    elif (row['htn_med_name']=='norepinephrine') & (row['mcg/kg/min']<0.1):\n",
    "        return 3\n",
    "    elif (row['htn_med_name']=='EPINEPHrine') & (row['dosage']>0.1):\n",
    "        return 4\n",
    "    elif (row['htn_med_name']=='EPINEPHrine') & (row['dosage']<0.1):\n",
    "        return 3\n",
    "    elif (row['htn_med_name']=='DOBUTamine'):\n",
    "        return 2\n",
    "    elif (row['map']<70):\n",
    "        return 1\n",
    "    else:\n",
    "        return 0 "
   ]
  },
  {
   "cell_type": "code",
   "execution_count": 139,
   "id": "75661034-d9ba-49d2-918f-05f2400d7587",
   "metadata": {},
   "outputs": [],
   "source": [
    "data['hypotension_points'] = data.apply(hypotension_points, axis=1)"
   ]
  },
  {
   "cell_type": "code",
   "execution_count": 140,
   "id": "c4ca74d1-80b0-482e-9fa6-a63e203fea63",
   "metadata": {},
   "outputs": [],
   "source": [
    "data.loc[:, [\n",
    "    'P_F_ratio_points', 'platelet_points','bilirubin_points', \n",
    "    'gcs_points', 'renal_points', 'hypotension_points'\n",
    "]].fillna(0, inplace=True)"
   ]
  },
  {
   "cell_type": "code",
   "execution_count": 141,
   "id": "0dc96d31-9202-4ad9-8c4c-f24c46f5695f",
   "metadata": {},
   "outputs": [],
   "source": [
    "#sum up SOFA components using new hypotension points score\n",
    "\n",
    "col_list= ['P_F_ratio_points', 'platelet_points','bilirubin_points', \n",
    "           'gcs_points', 'renal_points', 'hypotension_points']\n",
    "\n",
    "data['SOFA2'] = data[col_list].sum(axis=1)"
   ]
  },
  {
   "cell_type": "markdown",
   "id": "cde876a3-9ad5-4c36-9d24-f24bfa91a5d4",
   "metadata": {},
   "source": [
    "# 6.4 Add RASS score"
   ]
  },
  {
   "cell_type": "code",
   "execution_count": 142,
   "id": "e803cd5a-ffd6-43e7-bbda-389a3a83cd20",
   "metadata": {},
   "outputs": [],
   "source": [
    "p = os.path.join(\n",
    "    inout.get_path_from_settings('resources_path'),\n",
    "    'edw/from_2022-03-23-v5-data-clean/gcs_rass4-15-22.csv'\n",
    ")"
   ]
  },
  {
   "cell_type": "code",
   "execution_count": 143,
   "id": "9e019382-0d44-413c-a3f3-4fe8831c1023",
   "metadata": {},
   "outputs": [],
   "source": [
    "rass = pd.read_csv(p, index_col=0)"
   ]
  },
  {
   "cell_type": "code",
   "execution_count": 144,
   "id": "26a6cbce-6354-4db4-a0d8-89d1c41a05b5",
   "metadata": {},
   "outputs": [],
   "source": [
    "rass.rename({\"MEAS_VALUE\": \"rass_score\"}, axis=1, inplace=True)"
   ]
  },
  {
   "cell_type": "code",
   "execution_count": 145,
   "id": "42d5df37-8ce7-4b81-ad4c-cc0c87ad5236",
   "metadata": {},
   "outputs": [],
   "source": [
    "rass = rass.loc[:, [\"pt_study_id\", \"day_bucket_starts\", \"rass_score\"]]"
   ]
  },
  {
   "cell_type": "code",
   "execution_count": 146,
   "id": "44fe5979-63b9-46d0-81fc-ed7b9aa1d702",
   "metadata": {},
   "outputs": [
    {
     "data": {
      "text/plain": [
       "13"
      ]
     },
     "execution_count": 146,
     "metadata": {},
     "output_type": "execute_result"
    }
   ],
   "source": [
    "rass.loc[:, [\"pt_study_id\", \"day_bucket_starts\"]].duplicated().sum()"
   ]
  },
  {
   "cell_type": "code",
   "execution_count": 147,
   "id": "c451db18-5f83-45dd-b9dd-7773b7fd9b05",
   "metadata": {},
   "outputs": [
    {
     "data": {
      "text/plain": [
       "13"
      ]
     },
     "execution_count": 147,
     "metadata": {},
     "output_type": "execute_result"
    }
   ],
   "source": [
    "rass.duplicated().sum()"
   ]
  },
  {
   "cell_type": "markdown",
   "id": "46d45e45-942e-42de-97ec-94725c67bf4d",
   "metadata": {},
   "source": [
    "Some values are duplicated, but they have the same value, so we'll just drop them"
   ]
  },
  {
   "cell_type": "code",
   "execution_count": 148,
   "id": "79330e76-e131-4e52-bb61-f047b8bce287",
   "metadata": {},
   "outputs": [],
   "source": [
    "rass.drop_duplicates(inplace=True)"
   ]
  },
  {
   "cell_type": "code",
   "execution_count": 149,
   "id": "b639b27f-dc68-467d-ab05-c09c9d5e569b",
   "metadata": {},
   "outputs": [],
   "source": [
    "rass.day_bucket_starts = pd.to_datetime(rass.day_bucket_starts)"
   ]
  },
  {
   "cell_type": "code",
   "execution_count": 150,
   "id": "dcc2061d-d37a-4a6f-841c-b69285c0bc7f",
   "metadata": {},
   "outputs": [],
   "source": [
    "data.day_bucket_starts = pd.to_datetime(data.day_bucket_starts)"
   ]
  },
  {
   "cell_type": "code",
   "execution_count": 151,
   "id": "4c87760c-5aac-424c-b732-c4f531bc6236",
   "metadata": {},
   "outputs": [],
   "source": [
    "merged = data.merge(\n",
    "    rass,\n",
    "    on=[\"pt_study_id\", \"day_bucket_starts\"],\n",
    "    how=\"left\"\n",
    ")"
   ]
  },
  {
   "cell_type": "code",
   "execution_count": 152,
   "id": "6e96f21e-41d9-4a11-abec-4f6b855f3225",
   "metadata": {},
   "outputs": [
    {
     "data": {
      "text/plain": [
       "1220"
      ]
     },
     "execution_count": 152,
     "metadata": {},
     "output_type": "execute_result"
    }
   ],
   "source": [
    "merged.rass_score.isna().sum()"
   ]
  },
  {
   "cell_type": "code",
   "execution_count": 153,
   "id": "4e0a6377-3ae2-44fc-8a96-c179362b84d9",
   "metadata": {},
   "outputs": [],
   "source": [
    "data = merged"
   ]
  },
  {
   "cell_type": "code",
   "execution_count": 154,
   "id": "f65f9224-eb85-46d7-9756-7dfba5975d4a",
   "metadata": {},
   "outputs": [
    {
     "name": "stdout",
     "output_type": "stream",
     "text": [
      "Number of patients: 601\n",
      "Number of ICU-days: 13391\n"
     ]
    }
   ],
   "source": [
    "print(f\"Number of patients: {data.pt_study_id.nunique()}\")\n",
    "print(f\"Number of ICU-days: {data.shape[0]}\")"
   ]
  },
  {
   "cell_type": "markdown",
   "id": "a071a840-9b26-4468-b702-99de2ec818c8",
   "metadata": {},
   "source": [
    "# 6.5 Add demographics table "
   ]
  },
  {
   "cell_type": "code",
   "execution_count": 155,
   "id": "4bb8ca60-897f-47db-8668-5e3788ebcbbb",
   "metadata": {},
   "outputs": [],
   "source": [
    "p = os.path.join(\n",
    "    inout.get_path_from_settings('resources_path'),\n",
    "    'edw/from_2022-03-23-v5-data-clean/cd_demographics8-2-22.csv'\n",
    ")"
   ]
  },
  {
   "cell_type": "code",
   "execution_count": 156,
   "id": "d2cc80a5-4c05-4dba-94ab-a4cd4a1331aa",
   "metadata": {
    "tags": []
   },
   "outputs": [],
   "source": [
    "cd_demographics = pd.read_csv(p)"
   ]
  },
  {
   "cell_type": "code",
   "execution_count": 157,
   "id": "541968ef-e907-4393-bb31-d71b15aeaead",
   "metadata": {},
   "outputs": [],
   "source": [
    "cd_demographics.drop(\"Global_cause_failure\", axis=\"columns\", inplace=True)"
   ]
  },
  {
   "cell_type": "code",
   "execution_count": 158,
   "id": "368b9fa6-3877-4ba6-a8a2-3ce70ca745b2",
   "metadata": {},
   "outputs": [],
   "source": [
    "merged = data.merge(\n",
    "    cd_demographics,\n",
    "    how=\"left\",\n",
    "    left_on='pt_study_id',\n",
    "    right_on='patient'\n",
    ")"
   ]
  },
  {
   "cell_type": "code",
   "execution_count": 159,
   "id": "df856204-cadf-49fd-b9e8-bb5b4b66e4e3",
   "metadata": {},
   "outputs": [],
   "source": [
    "data = merged"
   ]
  },
  {
   "cell_type": "code",
   "execution_count": 160,
   "id": "c28b1690-9d4b-4a5f-9630-015e7bb705b5",
   "metadata": {},
   "outputs": [
    {
     "name": "stdout",
     "output_type": "stream",
     "text": [
      "Number of patients: 601\n",
      "Number of ICU-days: 13391\n"
     ]
    }
   ],
   "source": [
    "print(f\"Number of patients: {data.pt_study_id.nunique()}\")\n",
    "print(f\"Number of ICU-days: {data.shape[0]}\")"
   ]
  },
  {
   "cell_type": "markdown",
   "id": "ab4f8ffa-9f71-4b88-b4df-d22f048bcd20",
   "metadata": {},
   "source": [
    "# 6.6 Add patient category and COVID status"
   ]
  },
  {
   "cell_type": "code",
   "execution_count": 161,
   "id": "82051e32-70da-4db8-92f6-9102d7ac5f6c",
   "metadata": {},
   "outputs": [],
   "source": [
    "p = os.path.join(\n",
    "    inout.get_path_from_settings('resources_path'),\n",
    "    'edw/from_2022-03-23-v5-data-clean/22-8-3_categories_recoded.csv'\n",
    ")"
   ]
  },
  {
   "cell_type": "code",
   "execution_count": 162,
   "id": "e970caf5-db4d-4a63-932b-e3e741b61d0d",
   "metadata": {
    "tags": []
   },
   "outputs": [],
   "source": [
    "categories = pd.read_csv(p)"
   ]
  },
  {
   "cell_type": "code",
   "execution_count": 163,
   "id": "41ea840f-a769-476c-86ed-ebe9d124b02c",
   "metadata": {},
   "outputs": [],
   "source": [
    "categories = categories[[\"patient\", \"Patient_category\", \"COVID_status\"]]"
   ]
  },
  {
   "cell_type": "code",
   "execution_count": 164,
   "id": "28e632c0-2413-4c49-a7ed-2377fbd63563",
   "metadata": {},
   "outputs": [],
   "source": [
    "merged = data.merge(\n",
    "    categories,\n",
    "    how=\"left\",\n",
    "    left_on='pt_study_id',\n",
    "    right_on='patient'\n",
    ")"
   ]
  },
  {
   "cell_type": "code",
   "execution_count": 165,
   "id": "67f48325-c52d-426b-83e5-016edf585b35",
   "metadata": {},
   "outputs": [],
   "source": [
    "data = merged"
   ]
  },
  {
   "cell_type": "code",
   "execution_count": 166,
   "id": "7213d2cd-26f7-45c3-8ae8-7316725409ea",
   "metadata": {},
   "outputs": [
    {
     "name": "stdout",
     "output_type": "stream",
     "text": [
      "Number of patients: 601\n",
      "Number of ICU-days: 13391\n"
     ]
    }
   ],
   "source": [
    "print(f\"Number of patients: {data.pt_study_id.nunique()}\")\n",
    "print(f\"Number of ICU-days: {data.shape[0]}\")"
   ]
  },
  {
   "cell_type": "markdown",
   "id": "e937f9be-a5a8-4d9b-9343-74bfe98d0e48",
   "metadata": {},
   "source": [
    "# 6.7 Add anonymized IDs"
   ]
  },
  {
   "cell_type": "code",
   "execution_count": 167,
   "id": "b2a27de8-150c-4d54-afc7-621fe6d3b350",
   "metadata": {},
   "outputs": [],
   "source": [
    "p = os.path.join(\n",
    "    inout.get_path_from_settings('resources_path'),\n",
    "    'edw/from_2022-03-23-v5-data-clean/anon_id7-21-22.csv'\n",
    ")"
   ]
  },
  {
   "cell_type": "code",
   "execution_count": 168,
   "id": "521618f6-a231-436f-8aeb-7d9d356ca479",
   "metadata": {},
   "outputs": [],
   "source": [
    "anon_id = pd.read_csv(p, index_col=0)"
   ]
  },
  {
   "cell_type": "code",
   "execution_count": 169,
   "id": "ad8add1f-9a1a-4ea1-a4d2-89243cf6502e",
   "metadata": {},
   "outputs": [
    {
     "data": {
      "text/plain": [
       "(601, 2)"
      ]
     },
     "execution_count": 169,
     "metadata": {},
     "output_type": "execute_result"
    }
   ],
   "source": [
    "anon_id.shape"
   ]
  },
  {
   "cell_type": "code",
   "execution_count": 170,
   "id": "535c0a64-e2f3-40ca-a296-5ac3c15df37a",
   "metadata": {},
   "outputs": [],
   "source": [
    "merged = data.merge(\n",
    "    anon_id,\n",
    "    how=\"left\",\n",
    "    left_on='pt_study_id',\n",
    "    right_on='patient'\n",
    ")"
   ]
  },
  {
   "cell_type": "code",
   "execution_count": 171,
   "id": "8ebe0ae5-371a-4e2c-b257-b14f359c9fa8",
   "metadata": {},
   "outputs": [],
   "source": [
    "data = merged"
   ]
  },
  {
   "cell_type": "code",
   "execution_count": 172,
   "id": "e00bd6e5-cf80-43e4-8022-ea22d2efd9b2",
   "metadata": {},
   "outputs": [],
   "source": [
    "data.drop(\"patient\", axis=\"columns\", inplace=True)"
   ]
  },
  {
   "cell_type": "code",
   "execution_count": 173,
   "id": "f4a276d7-dc2d-4b31-9956-26514e64e15c",
   "metadata": {},
   "outputs": [
    {
     "name": "stdout",
     "output_type": "stream",
     "text": [
      "Number of patients: 601\n",
      "Number of ICU-days: 13391\n"
     ]
    }
   ],
   "source": [
    "print(f\"Number of patients: {data.pt_study_id.nunique()}\")\n",
    "print(f\"Number of ICU-days: {data.shape[0]}\")"
   ]
  },
  {
   "cell_type": "markdown",
   "id": "30c3db71",
   "metadata": {},
   "source": [
    "# 7. Merge BALs and single-cell status"
   ]
  },
  {
   "cell_type": "markdown",
   "id": "e7780d16",
   "metadata": {},
   "source": [
    "Code adapted from [this notebook](https://github.com/NUSCRIPT/cereal/blob/master/22join-techcore-bals.ipynb)"
   ]
  },
  {
   "cell_type": "markdown",
   "id": "a459c303",
   "metadata": {},
   "source": [
    "## 7.1 Load and curate tech core BAL records"
   ]
  },
  {
   "cell_type": "markdown",
   "id": "d1bc2733",
   "metadata": {},
   "source": [
    "Exported from RedCap manually, because `csv` file from the unified database is not readable by pandas"
   ]
  },
  {
   "cell_type": "code",
   "execution_count": 174,
   "id": "96ffb3a8-240c-448d-811b-7bfdf7a86268",
   "metadata": {},
   "outputs": [],
   "source": [
    "p = os.path.join(\n",
    "    inout.get_path_from_settings('resources_path'),\n",
    "    'edw/from_2022-03-23-v5-data-clean/SCRIPTTechCoreV50_DATA_2022-04-14_1830.csv.gz'\n",
    ")"
   ]
  },
  {
   "cell_type": "code",
   "execution_count": 175,
   "id": "b7271f95",
   "metadata": {},
   "outputs": [
    {
     "name": "stderr",
     "output_type": "stream",
     "text": [
      "/Users/cag895/OneDrive - Northwestern University/CarpeDiem/VirEnvJuly22/lib/python3.8/site-packages/IPython/core/interactiveshell.py:3444: DtypeWarning: Columns (1,29,35,53,59,88,112,120,128,129,138,147,149,156,164,170,173,178,180,186,188,194,196,202,204,205,210,214,220,221,243,248,250,257,259,261,263,278,279,281,284,285,289,290,292,293,296,297,299,300,301,302,304,305,306,307,308,309,311,312,483,484,485,487,489,495,496,498,499,500,501,503,504,505,506,510,511,514,527,528,529) have mixed types.Specify dtype option on import or set low_memory=False.\n",
      "  exec(code_obj, self.user_global_ns, self.user_ns)\n"
     ]
    }
   ],
   "source": [
    "tech_bals = pd.read_csv(p)"
   ]
  },
  {
   "cell_type": "code",
   "execution_count": 176,
   "id": "fea20ae6",
   "metadata": {},
   "outputs": [],
   "source": [
    "interesting_cols = [\n",
    "    \"record_id\", \"tc_pt_study_id\", \"sample_vol\", \"num_aliquot_cryopres\", \"scscript_sample_id\", \n",
    "    \"scscript_comment\", \"sort_sample_note_cyto\"\n",
    "]"
   ]
  },
  {
   "cell_type": "code",
   "execution_count": 177,
   "id": "c55d9956",
   "metadata": {},
   "outputs": [],
   "source": [
    "tech_bals = tech_bals.loc[:, interesting_cols]"
   ]
  },
  {
   "cell_type": "code",
   "execution_count": 178,
   "id": "67984cf8",
   "metadata": {},
   "outputs": [
    {
     "data": {
      "text/plain": [
       "(1391, 7)"
      ]
     },
     "execution_count": 178,
     "metadata": {},
     "output_type": "execute_result"
    }
   ],
   "source": [
    "tech_bals.shape"
   ]
  },
  {
   "cell_type": "code",
   "execution_count": 179,
   "id": "a73e844d",
   "metadata": {},
   "outputs": [
    {
     "data": {
      "text/plain": [
       "334"
      ]
     },
     "execution_count": 179,
     "metadata": {},
     "output_type": "execute_result"
    }
   ],
   "source": [
    "tech_bals.tc_pt_study_id.isna().sum()"
   ]
  },
  {
   "cell_type": "code",
   "execution_count": 180,
   "id": "4e9e2057",
   "metadata": {},
   "outputs": [],
   "source": [
    "tech_bals = tech_bals.loc[~tech_bals.tc_pt_study_id.isna(), :]"
   ]
  },
  {
   "cell_type": "code",
   "execution_count": 181,
   "id": "1a927898",
   "metadata": {},
   "outputs": [
    {
     "data": {
      "text/plain": [
       "(1057, 7)"
      ]
     },
     "execution_count": 181,
     "metadata": {},
     "output_type": "execute_result"
    }
   ],
   "source": [
    "tech_bals.shape"
   ]
  },
  {
   "cell_type": "code",
   "execution_count": 182,
   "id": "a814f1f9",
   "metadata": {},
   "outputs": [
    {
     "data": {
      "text/plain": [
       "5"
      ]
     },
     "execution_count": 182,
     "metadata": {},
     "output_type": "execute_result"
    }
   ],
   "source": [
    "tech_bals.tc_pt_study_id.duplicated().sum()"
   ]
  },
  {
   "cell_type": "code",
   "execution_count": 183,
   "id": "5c0a8223",
   "metadata": {},
   "outputs": [],
   "source": [
    "tech_bals = tech_bals.loc[~tech_bals.tc_pt_study_id.str.contains(\"community\"), :]"
   ]
  },
  {
   "cell_type": "code",
   "execution_count": 184,
   "id": "ecf03d26",
   "metadata": {},
   "outputs": [],
   "source": [
    "tech_bals = tech_bals.loc[~tech_bals.record_id.isin([749, 540, 1032]), :]"
   ]
  },
  {
   "cell_type": "code",
   "execution_count": 185,
   "id": "da064e0b",
   "metadata": {},
   "outputs": [
    {
     "data": {
      "text/plain": [
       "0"
      ]
     },
     "execution_count": 185,
     "metadata": {},
     "output_type": "execute_result"
    }
   ],
   "source": [
    "tech_bals.tc_pt_study_id.duplicated().sum()"
   ]
  },
  {
   "cell_type": "code",
   "execution_count": 186,
   "id": "6e8b4b44",
   "metadata": {},
   "outputs": [
    {
     "data": {
      "text/plain": [
       "(1050, 7)"
      ]
     },
     "execution_count": 186,
     "metadata": {},
     "output_type": "execute_result"
    }
   ],
   "source": [
    "tech_bals.shape"
   ]
  },
  {
   "cell_type": "markdown",
   "id": "63aed17e",
   "metadata": {
    "tags": []
   },
   "source": [
    "## 7.2 Add U19 SCRIPT RedCap records"
   ]
  },
  {
   "cell_type": "code",
   "execution_count": 187,
   "id": "b6bf759d-ad71-4f57-87dd-1395dad38fd4",
   "metadata": {},
   "outputs": [],
   "source": [
    "p = os.path.join(\n",
    "    inout.get_path_from_settings('resources_path'),\n",
    "    'edw/from_2022-03-23-v5-data-clean/redcap_4339_bal_sample.csv.gz'\n",
    ")"
   ]
  },
  {
   "cell_type": "code",
   "execution_count": 188,
   "id": "5a8ca015",
   "metadata": {},
   "outputs": [],
   "source": [
    "rc_bals = pd.read_csv(p)"
   ]
  },
  {
   "cell_type": "code",
   "execution_count": 189,
   "id": "6b871cc8",
   "metadata": {},
   "outputs": [],
   "source": [
    "interesting_cols = [\n",
    "    \"pt_study_id\", \"bal_barcode\", \"bar_barcode\", \"bal_dt\", \"bal_time\", \"accession_numbers_id\", \n",
    "    \"bal_add_sample_collect\", \"ir_id\"\n",
    "]"
   ]
  },
  {
   "cell_type": "code",
   "execution_count": 190,
   "id": "93174161",
   "metadata": {},
   "outputs": [],
   "source": [
    "rc_bals = rc_bals.loc[:, interesting_cols]"
   ]
  },
  {
   "cell_type": "code",
   "execution_count": 191,
   "id": "2a8f846f",
   "metadata": {},
   "outputs": [
    {
     "data": {
      "text/plain": [
       "(1604, 8)"
      ]
     },
     "execution_count": 191,
     "metadata": {},
     "output_type": "execute_result"
    }
   ],
   "source": [
    "rc_bals.shape"
   ]
  },
  {
   "cell_type": "code",
   "execution_count": 192,
   "id": "635a7bd7",
   "metadata": {},
   "outputs": [],
   "source": [
    "rc_bals = rc_bals.loc[rc_bals.bal_add_sample_collect != \" No additional samples collected \", :]"
   ]
  },
  {
   "cell_type": "markdown",
   "id": "0d352e6a",
   "metadata": {},
   "source": [
    "With spaces around! 🤦🏻‍♂️ I know! 🤷🏻‍♂️"
   ]
  },
  {
   "cell_type": "code",
   "execution_count": 193,
   "id": "3ec08ff6",
   "metadata": {},
   "outputs": [
    {
     "data": {
      "text/plain": [
       "(1290, 8)"
      ]
     },
     "execution_count": 193,
     "metadata": {},
     "output_type": "execute_result"
    }
   ],
   "source": [
    "rc_bals.shape"
   ]
  },
  {
   "cell_type": "code",
   "execution_count": 194,
   "id": "bed272d2",
   "metadata": {},
   "outputs": [
    {
     "data": {
      "text/plain": [
       "bal_barcode              247\n",
       "bar_barcode             1285\n",
       "accession_numbers_id      43\n",
       "bal_dt                     3\n",
       "dtype: int64"
      ]
     },
     "execution_count": 194,
     "metadata": {},
     "output_type": "execute_result"
    }
   ],
   "source": [
    "rc_bals[[\"bal_barcode\", \"bar_barcode\", \"accession_numbers_id\", \"bal_dt\"]].isna().sum()"
   ]
  },
  {
   "cell_type": "markdown",
   "id": "7506969c-facc-4048-8068-b23802ab454b",
   "metadata": {},
   "source": [
    "rc_bals.loc[rc_bals.bal_dt.isna(), \"pt_study_id\"]"
   ]
  },
  {
   "cell_type": "markdown",
   "id": "814feeb9",
   "metadata": {},
   "source": [
    "After manual inspection: these are incomplete forms, but marked as complete. Just exclude these rows"
   ]
  },
  {
   "cell_type": "code",
   "execution_count": 196,
   "id": "38b474b1",
   "metadata": {},
   "outputs": [],
   "source": [
    "rc_bals = rc_bals.loc[~rc_bals.bal_dt.isna(), :]"
   ]
  },
  {
   "cell_type": "code",
   "execution_count": 197,
   "id": "26e61bfb",
   "metadata": {},
   "outputs": [],
   "source": [
    "by_pt_and_bal_dt = rc_bals.groupby([\"pt_study_id\", \"bal_dt\"]).count().ir_id"
   ]
  },
  {
   "cell_type": "code",
   "execution_count": null,
   "id": "21a240b9",
   "metadata": {},
   "outputs": [],
   "source": [
    "by_pt_and_bal_dt.value_counts(dropna=False)"
   ]
  },
  {
   "cell_type": "markdown",
   "id": "36eb1e18-e900-4836-930a-9e7ab5101d61",
   "metadata": {},
   "source": [
    "by_pt_and_bal_dt.loc[by_pt_and_bal_dt > 1]"
   ]
  },
  {
   "cell_type": "markdown",
   "id": "7b18da87",
   "metadata": {},
   "source": [
    "Just one record with duplicated date & patient, great!"
   ]
  },
  {
   "cell_type": "code",
   "execution_count": 200,
   "id": "1c8a25de",
   "metadata": {},
   "outputs": [],
   "source": [
    "rc_bals = rc_bals.groupby([\"pt_study_id\", \"bal_dt\"]).head(1)"
   ]
  },
  {
   "cell_type": "code",
   "execution_count": 201,
   "id": "987a9a95",
   "metadata": {},
   "outputs": [
    {
     "data": {
      "text/plain": [
       "(1286, 8)"
      ]
     },
     "execution_count": 201,
     "metadata": {},
     "output_type": "execute_result"
    }
   ],
   "source": [
    "rc_bals.shape"
   ]
  },
  {
   "cell_type": "code",
   "execution_count": 202,
   "id": "11440134",
   "metadata": {},
   "outputs": [],
   "source": [
    "rc_bals.loc[rc_bals.bar_barcode == \"N/a\", \"bar_barcode\"] = np.nan"
   ]
  },
  {
   "cell_type": "code",
   "execution_count": 203,
   "id": "f98cd588",
   "metadata": {},
   "outputs": [],
   "source": [
    "second_bals = rc_bals.loc[~rc_bals.bar_barcode.isna(), :].copy()"
   ]
  },
  {
   "cell_type": "code",
   "execution_count": 204,
   "id": "f2d2f5a2",
   "metadata": {},
   "outputs": [],
   "source": [
    "second_bals.bal_barcode = second_bals.bar_barcode"
   ]
  },
  {
   "cell_type": "code",
   "execution_count": 205,
   "id": "bdf23879",
   "metadata": {},
   "outputs": [],
   "source": [
    "rc_bals = pd.concat([rc_bals, second_bals])"
   ]
  },
  {
   "cell_type": "code",
   "execution_count": 206,
   "id": "77a63abd",
   "metadata": {},
   "outputs": [],
   "source": [
    "rc_bals.loc[rc_bals.bal_barcode == \"na\", \"bal_barcode\"] = np.nan"
   ]
  },
  {
   "cell_type": "code",
   "execution_count": 207,
   "id": "84f8eff0",
   "metadata": {},
   "outputs": [
    {
     "data": {
      "text/plain": [
       "(1290, 8)"
      ]
     },
     "execution_count": 207,
     "metadata": {},
     "output_type": "execute_result"
    }
   ],
   "source": [
    "rc_bals.shape"
   ]
  },
  {
   "cell_type": "code",
   "execution_count": 208,
   "id": "c3aa8857",
   "metadata": {},
   "outputs": [],
   "source": [
    "bals = tech_bals.merge(\n",
    "    rc_bals, \n",
    "    left_on=\"tc_pt_study_id\", \n",
    "    right_on=\"bal_barcode\",\n",
    "    how=\"outer\"\n",
    ")"
   ]
  },
  {
   "cell_type": "code",
   "execution_count": 209,
   "id": "bff61663",
   "metadata": {},
   "outputs": [],
   "source": [
    "bals = bals.loc[~(bals.bal_barcode.isna() & ~bals.tc_pt_study_id.isna()), :]"
   ]
  },
  {
   "cell_type": "code",
   "execution_count": 210,
   "id": "12729b9e",
   "metadata": {},
   "outputs": [
    {
     "data": {
      "text/plain": [
       "(1290, 15)"
      ]
     },
     "execution_count": 210,
     "metadata": {},
     "output_type": "execute_result"
    }
   ],
   "source": [
    "bals.shape"
   ]
  },
  {
   "cell_type": "markdown",
   "id": "16b37308",
   "metadata": {},
   "source": [
    "## 7.3 Add single-cell sequenced BALs"
   ]
  },
  {
   "cell_type": "markdown",
   "id": "eaf39554-1f74-4a69-9442-5003b1ac8638",
   "metadata": {},
   "source": [
    "TODO: update this table with new sequencing runs"
   ]
  },
  {
   "cell_type": "code",
   "execution_count": 211,
   "id": "30d824fd-44b3-4a70-b5be-6d99021c6a34",
   "metadata": {},
   "outputs": [],
   "source": [
    "p = os.path.join(\n",
    "    inout.get_path_from_settings('resources_path'),\n",
    "    'edw/from_2022-03-23-v5-data-clean/Blobomic samples table.csv.gz'\n",
    ")"
   ]
  },
  {
   "cell_type": "code",
   "execution_count": 212,
   "id": "62aca275",
   "metadata": {},
   "outputs": [],
   "source": [
    "seq_bals = pd.read_csv(p)"
   ]
  },
  {
   "cell_type": "code",
   "execution_count": 213,
   "id": "29ffcb68",
   "metadata": {},
   "outputs": [],
   "source": [
    "seq_bals = seq_bals.loc[seq_bals.Project.str.contains(\"SCRIPT\"), :]"
   ]
  },
  {
   "cell_type": "code",
   "execution_count": 214,
   "id": "c120ea66",
   "metadata": {},
   "outputs": [],
   "source": [
    "seq_bals = seq_bals.loc[seq_bals.Biosample.str.contains(\"-BAL-\"), :]"
   ]
  },
  {
   "cell_type": "code",
   "execution_count": 215,
   "id": "fd8abd96",
   "metadata": {},
   "outputs": [],
   "source": [
    "seq_bals = seq_bals.loc[~seq_bals.Biosample.str.contains(\" and \"), :]"
   ]
  },
  {
   "cell_type": "code",
   "execution_count": 216,
   "id": "6c6375db",
   "metadata": {},
   "outputs": [],
   "source": [
    "seq_bals.Biosample = seq_bals.Biosample.str.split(\"/\").str[0]"
   ]
  },
  {
   "cell_type": "code",
   "execution_count": 217,
   "id": "8f8915f5",
   "metadata": {},
   "outputs": [],
   "source": [
    "seq_bals.Biosample = seq_bals.Biosample.str.replace(r\"(\\d)_\\d$\", r\"\\1\", regex=True)"
   ]
  },
  {
   "cell_type": "code",
   "execution_count": 218,
   "id": "9775f733",
   "metadata": {},
   "outputs": [],
   "source": [
    "seq_bals = seq_bals.loc[~seq_bals.Biosample.duplicated(), :]"
   ]
  },
  {
   "cell_type": "code",
   "execution_count": 219,
   "id": "f40e0e88",
   "metadata": {},
   "outputs": [],
   "source": [
    "bals = bals.merge(seq_bals, left_on=\"tc_pt_study_id\", right_on=\"Biosample\", how=\"left\")"
   ]
  },
  {
   "cell_type": "code",
   "execution_count": 220,
   "id": "5ed7acdf",
   "metadata": {},
   "outputs": [
    {
     "data": {
      "text/plain": [
       "(1290, 22)"
      ]
     },
     "execution_count": 220,
     "metadata": {},
     "output_type": "execute_result"
    }
   ],
   "source": [
    "bals.shape"
   ]
  },
  {
   "cell_type": "markdown",
   "id": "de330047",
   "metadata": {},
   "source": [
    "## 7.4 Merge to data"
   ]
  },
  {
   "cell_type": "code",
   "execution_count": 221,
   "id": "1b519f7f",
   "metadata": {},
   "outputs": [],
   "source": [
    "by_pt_and_bal_dt = bals.groupby([\"pt_study_id\", \"bal_dt\"]).count().ir_id"
   ]
  },
  {
   "cell_type": "code",
   "execution_count": 222,
   "id": "40c6594b",
   "metadata": {},
   "outputs": [],
   "source": [
    "bals = bals.groupby([\"pt_study_id\", \"bal_dt\"]).head(1)"
   ]
  },
  {
   "cell_type": "code",
   "execution_count": 223,
   "id": "0606778d",
   "metadata": {},
   "outputs": [
    {
     "data": {
      "text/plain": [
       "(1286, 22)"
      ]
     },
     "execution_count": 223,
     "metadata": {},
     "output_type": "execute_result"
    }
   ],
   "source": [
    "bals.shape"
   ]
  },
  {
   "cell_type": "code",
   "execution_count": 224,
   "id": "17236c3e",
   "metadata": {},
   "outputs": [],
   "source": [
    "bals.bal_dt = pd.to_datetime(bals.bal_dt)"
   ]
  },
  {
   "cell_type": "code",
   "execution_count": 225,
   "id": "26e966b3",
   "metadata": {},
   "outputs": [],
   "source": [
    "merged = data.merge(\n",
    "    bals,\n",
    "    left_on=[\"pt_study_id\", \"day_bucket_starts\"],\n",
    "    right_on=[\"pt_study_id\", \"bal_dt\"],\n",
    "    how=\"outer\"\n",
    ")"
   ]
  },
  {
   "cell_type": "code",
   "execution_count": 226,
   "id": "d1cf26ac",
   "metadata": {},
   "outputs": [],
   "source": [
    "merged = merged.loc[~merged.icu_rank.isna(), :]"
   ]
  },
  {
   "cell_type": "code",
   "execution_count": 227,
   "id": "35e39d1e",
   "metadata": {},
   "outputs": [
    {
     "name": "stdout",
     "output_type": "stream",
     "text": [
      "Number of patients: 601\n",
      "Number of ICU-days: 13391\n"
     ]
    }
   ],
   "source": [
    "print(f\"Number of patients: {data.pt_study_id.nunique()}\")\n",
    "print(f\"Number of ICU-days: {data.shape[0]}\")"
   ]
  },
  {
   "cell_type": "code",
   "execution_count": 228,
   "id": "74550a6b",
   "metadata": {},
   "outputs": [],
   "source": [
    "data = merged"
   ]
  },
  {
   "cell_type": "markdown",
   "id": "c1c76aab",
   "metadata": {},
   "source": [
    "# 8. Merge pneumonia episode adjudications"
   ]
  },
  {
   "cell_type": "markdown",
   "id": "a613fc9a",
   "metadata": {},
   "source": [
    "Many thanks to Cathy for [the notebook](https://github.com/NUSCRIPT/cereal/blob/master/z04-pneumonia_episode_cure_bin12-15-21.ipynb). Use data from Redcap, because the data on fsmresfiles is incomplete (see [here](https://github.com/NUSCRIPT/script_etl_eda/issues/200))"
   ]
  },
  {
   "cell_type": "code",
   "execution_count": 229,
   "id": "80fbd73d-417a-4a4b-bed0-09e92d09ecf9",
   "metadata": {},
   "outputs": [],
   "source": [
    "p = os.path.join(\n",
    "    inout.get_path_from_settings('resources_path'),\n",
    "    'edw/from_2022-03-23-v5-data-clean/redcap_4339_pneumonia_episode_category_assessment.csv'\n",
    ")"
   ]
  },
  {
   "cell_type": "code",
   "execution_count": 230,
   "id": "de6d2e9d",
   "metadata": {},
   "outputs": [],
   "source": [
    "epi = pd.read_csv(p)"
   ]
  },
  {
   "cell_type": "code",
   "execution_count": 231,
   "id": "7d604b49",
   "metadata": {},
   "outputs": [],
   "source": [
    "epi.loc[~epi.clin_cap.isna(), \"etiology\"] = epi.clin_cap[~epi.clin_cap.isna()]\n",
    "epi.loc[~epi.clin_hap.isna(), \"etiology\"] = epi.clin_hap[~epi.clin_hap.isna()]\n",
    "epi.loc[~epi.clin_vap.isna(), \"etiology\"] = epi.clin_vap[~epi.clin_vap.isna()]"
   ]
  },
  {
   "cell_type": "code",
   "execution_count": 232,
   "id": "7188466d-4532-45dd-a38a-6320435186bb",
   "metadata": {},
   "outputs": [],
   "source": [
    "epi.etiology = epi.etiology.str.strip().replace({\n",
    "    \"Bacterial/Etiology defined\": \"Bacterial\",\n",
    "    \"Bacterial/viral co-infection\": \"Bacterial/viral\",\n",
    "    \"Viral/Etiology defined\": \"Viral\",\n",
    "    \"Culture-negative (%PMNs > 50%)\": \"Culture-negative\",\n",
    "    \"Culture-negative (%PMNs < 50%)\": \"Culture-negative\"\n",
    "})"
   ]
  },
  {
   "cell_type": "code",
   "execution_count": 233,
   "id": "0c2fb512",
   "metadata": {},
   "outputs": [
    {
     "data": {
      "text/plain": [
       "Bacterial           240\n",
       "Bacterial/viral     183\n",
       "Viral               163\n",
       "Culture-negative    130\n",
       "Indeterminate         4\n",
       "Name: etiology, dtype: int64"
      ]
     },
     "execution_count": 233,
     "metadata": {},
     "output_type": "execute_result"
    }
   ],
   "source": [
    "epi.etiology.value_counts()"
   ]
  },
  {
   "cell_type": "code",
   "execution_count": 234,
   "id": "6ea97805-0309-4c69-873f-a41babf91a1b",
   "metadata": {},
   "outputs": [],
   "source": [
    "p = os.path.join(\n",
    "    inout.get_path_from_settings('resources_path'),\n",
    "    'edw/from_2022-03-23-v5-data-clean/redcap_4339_pneumonia_episode_outcome.csv'\n",
    ")"
   ]
  },
  {
   "cell_type": "code",
   "execution_count": 235,
   "id": "79cf1e62",
   "metadata": {},
   "outputs": [],
   "source": [
    "adj = pd.read_csv(p)"
   ]
  },
  {
   "cell_type": "markdown",
   "id": "23ededea",
   "metadata": {},
   "source": [
    "Drop Incomplete and Unverified records (according to Helen), leave only Complete"
   ]
  },
  {
   "cell_type": "code",
   "execution_count": 236,
   "id": "b58ba073",
   "metadata": {},
   "outputs": [
    {
     "data": {
      "text/plain": [
       " Complete       779\n",
       " Incomplete      24\n",
       " Unverified       1\n",
       "Name: pneumonia_episode_outcome_complete, dtype: int64"
      ]
     },
     "execution_count": 236,
     "metadata": {},
     "output_type": "execute_result"
    }
   ],
   "source": [
    "adj.pneumonia_episode_outcome_complete.value_counts()"
   ]
  },
  {
   "cell_type": "code",
   "execution_count": 237,
   "id": "c4409282",
   "metadata": {},
   "outputs": [],
   "source": [
    "adj = adj.loc[adj.pneumonia_episode_outcome_complete.str.strip().eq(\"Complete\"), :]"
   ]
  },
  {
   "cell_type": "code",
   "execution_count": 238,
   "id": "56370d2f",
   "metadata": {},
   "outputs": [
    {
     "data": {
      "text/plain": [
       "(779, 101)"
      ]
     },
     "execution_count": 238,
     "metadata": {},
     "output_type": "execute_result"
    }
   ],
   "source": [
    "adj.shape"
   ]
  },
  {
   "cell_type": "code",
   "execution_count": 239,
   "id": "34f27992",
   "metadata": {},
   "outputs": [],
   "source": [
    "epi = epi.loc[epi.pneumonia_episode_category_assessment_complete.str.strip().eq(\"Complete\"), :]"
   ]
  },
  {
   "cell_type": "code",
   "execution_count": 240,
   "id": "f5ab7fcb",
   "metadata": {},
   "outputs": [
    {
     "data": {
      "text/plain": [
       "(808, 34)"
      ]
     },
     "execution_count": 240,
     "metadata": {},
     "output_type": "execute_result"
    }
   ],
   "source": [
    "epi.shape"
   ]
  },
  {
   "cell_type": "code",
   "execution_count": 241,
   "id": "59828a61",
   "metadata": {},
   "outputs": [],
   "source": [
    "epi = epi.loc[:, [\"pt_study_id\", \"pneu_assess_dt\", \"pt_category\", \"etiology\"]]"
   ]
  },
  {
   "cell_type": "code",
   "execution_count": 242,
   "id": "c0e0ef80",
   "metadata": {},
   "outputs": [],
   "source": [
    "adj = adj.merge(\n",
    "    epi, \n",
    "    left_on=[\"pt_study_id\", \"pneu_episode_out_num_2\"], \n",
    "    right_on=[\"pt_study_id\", \"pneu_assess_dt\"],\n",
    "    how=\"inner\"\n",
    ")"
   ]
  },
  {
   "cell_type": "markdown",
   "id": "05a208fb-42fa-493a-a1d7-e61543e8f223",
   "metadata": {},
   "source": [
    "Load ABX stop separate file from after clinical committee review"
   ]
  },
  {
   "cell_type": "code",
   "execution_count": 243,
   "id": "9b4127b8-b34f-4458-8768-e53e2b466346",
   "metadata": {},
   "outputs": [],
   "source": [
    "p = os.path.join(\n",
    "    inout.get_path_from_settings('resources_path'),\n",
    "    'edw/from_2022-03-23-v5-data-clean/Episode_end_dates_checks8-4-22.xlsx'\n",
    ")"
   ]
  },
  {
   "cell_type": "code",
   "execution_count": 244,
   "id": "cc61d56f-193b-4de1-af80-97c968f1dbb0",
   "metadata": {},
   "outputs": [],
   "source": [
    "abx_stop = pd.read_excel(p)"
   ]
  },
  {
   "cell_type": "markdown",
   "id": "1090066c",
   "metadata": {},
   "source": [
    "## 8.1 Add `cured` flag and length of episode"
   ]
  },
  {
   "cell_type": "markdown",
   "id": "cd7156e2",
   "metadata": {},
   "source": [
    "The logic is complicated.\n",
    "\n",
    "`cured` flag will be: `Cure` for cured, `No` for not cured, `Unknown` for indeterminate and `NA` for not adjudicated episoded.\n",
    "\n",
    "If episode is viral-only, it is cured if `clin_impression_viral___1`, unknown if `clin_impression_viral___4` and not cured otherwise. It's duration is by `viral_retest_proc_other_dt` or `viral_retest_bal` or `viral_retest_npop` or `viral_retest_no_pcr_clear`, or max 14 days.\n",
    "\n",
    "If episode is not viral-only, it is cured if `clin_impression_dXX___1`, unknown if `clin_impression_dXX___5` and not cured otherwise. It's duration is XX days from the field."
   ]
  },
  {
   "cell_type": "code",
   "execution_count": 245,
   "id": "5a66a566",
   "metadata": {},
   "outputs": [],
   "source": [
    "adj[\"cured\"] = np.nan\n",
    "adj[\"cured_src\"] = np.nan\n",
    "adj[\"episode_duration\"] = np.nan\n",
    "adj[\"episode_duration_src\"] = np.nan"
   ]
  },
  {
   "cell_type": "code",
   "execution_count": 246,
   "id": "333f6e1c",
   "metadata": {},
   "outputs": [],
   "source": [
    "adj.pneu_episode_out_num_2 = pd.to_datetime(adj.pneu_episode_out_num_2)\n",
    "adj.viral_retest_bal = pd.to_datetime(adj.viral_retest_bal)\n",
    "adj.viral_retest_npop = pd.to_datetime(adj.viral_retest_npop)\n",
    "adj.viral_retest_no_pcr_clear = pd.to_datetime(adj.viral_retest_no_pcr_clear)\n",
    "abx_stop[\"Episode Date\"] = pd.to_datetime(abx_stop[\"Episode Date\"])"
   ]
  },
  {
   "cell_type": "markdown",
   "id": "fe0f16b6",
   "metadata": {},
   "source": [
    "Let's check if any outcome has viral impression checked _as well as_ non-viral"
   ]
  },
  {
   "cell_type": "code",
   "execution_count": 247,
   "id": "774cbeba",
   "metadata": {},
   "outputs": [],
   "source": [
    "pd.Series.true_idx = lambda self: self.replace({False: np.nan}).dropna().index"
   ]
  },
  {
   "cell_type": "code",
   "execution_count": 248,
   "id": "df9f9b72",
   "metadata": {},
   "outputs": [],
   "source": [
    "viral_imp = (~adj.clin_impression_viral.isna()).true_idx()"
   ]
  },
  {
   "cell_type": "code",
   "execution_count": 249,
   "id": "79d07a3a",
   "metadata": {},
   "outputs": [],
   "source": [
    "non_viral_imp = (~adj.clin_impression_d78.isna()).true_idx()"
   ]
  },
  {
   "cell_type": "code",
   "execution_count": 250,
   "id": "b38995a8",
   "metadata": {},
   "outputs": [
    {
     "data": {
      "text/plain": [
       "set()"
      ]
     },
     "execution_count": 250,
     "metadata": {},
     "output_type": "execute_result"
    }
   ],
   "source": [
    "set(viral_imp).intersection(set(non_viral_imp))"
   ]
  },
  {
   "cell_type": "markdown",
   "id": "7247dfa8",
   "metadata": {},
   "source": [
    "Fortunately, none"
   ]
  },
  {
   "cell_type": "markdown",
   "id": "387d74ca-f53f-4eb9-b023-c6d76acff3ac",
   "metadata": {},
   "source": [
    "#### Load `day_antibiotics_stop`"
   ]
  },
  {
   "cell_type": "code",
   "execution_count": 251,
   "id": "2fe8115a-329c-4b09-8969-a3fd4a2c6a81",
   "metadata": {},
   "outputs": [],
   "source": [
    "adj = adj.merge(\n",
    "    abx_stop,\n",
    "    left_on=[\"pt_study_id\", \"pneu_episode_out_num_2\"],\n",
    "    right_on=[\"Study_ID\", \"Episode Date\"],\n",
    "    how=\"left\"\n",
    ")"
   ]
  },
  {
   "cell_type": "code",
   "execution_count": 252,
   "id": "53f56b39-b661-4ecd-a37c-82f4ec68f8f3",
   "metadata": {},
   "outputs": [],
   "source": [
    "adj[\"ABX Stop Date\"] = pd.to_datetime(adj[\"ABX Stop Date\"])"
   ]
  },
  {
   "cell_type": "markdown",
   "id": "0d3f8427",
   "metadata": {},
   "source": [
    "#### Let's process viral episodes"
   ]
  },
  {
   "cell_type": "markdown",
   "id": "91ab6caa",
   "metadata": {},
   "source": [
    "Cured and unknown?"
   ]
  },
  {
   "cell_type": "code",
   "execution_count": 253,
   "id": "d404bf26-6311-4931-baad-086976b7bd73",
   "metadata": {},
   "outputs": [],
   "source": [
    "def simplify_impression(impr):\n",
    "    impr = impr.str.replace(r\"\\([^\\)]+\\)\", \"\", regex=True)\n",
    "    impr = impr.str.replace(\"\\s+\", \"\", regex=True)\n",
    "    impr = impr.str.replace(\n",
    "        \"Superinfectionpneumonia\", \"Super\", regex=False\n",
    "    ).str.replace(\n",
    "        \"Extrapulmonaryinfection\", \"Extra\", regex=False\n",
    "    ).str.replace(\n",
    "        \"Prophylaxisonly\", \"Prophylaxis\", regex=False\n",
    "    ).str.replace(\n",
    "        \"Prophylaxis-consideredcure\", \"Prophylaxis\", regex=False\n",
    "    )\n",
    "    impr = impr.str.split(\",\").apply(\n",
    "        lambda x: tuple(x) if isinstance(x, list) else x\n",
    "    )\n",
    "    return impr"
   ]
  },
  {
   "cell_type": "code",
   "execution_count": 254,
   "id": "e7d5b4c3-070e-475b-8401-54b3768f505b",
   "metadata": {},
   "outputs": [],
   "source": [
    "adj.clin_impression_viral = simplify_impression(adj.clin_impression_viral) "
   ]
  },
  {
   "cell_type": "code",
   "execution_count": 255,
   "id": "8f6480db-f038-49ff-9161-01cefbc66f48",
   "metadata": {},
   "outputs": [
    {
     "data": {
      "text/plain": [
       "(Super,)                  61\n",
       "(Cure,)                   47\n",
       "(Persistence,)            17\n",
       "(Indeterminate,)          13\n",
       "(Super, Extra)             8\n",
       "(Persistence, Extra)       3\n",
       "(Indeterminate, Extra)     3\n",
       "(Cure, Extra)              3\n",
       "(Persistence, Super)       2\n",
       "(Super, Indeterminate)     1\n",
       "Name: clin_impression_viral, dtype: int64"
      ]
     },
     "execution_count": 255,
     "metadata": {},
     "output_type": "execute_result"
    }
   ],
   "source": [
    "adj.clin_impression_viral.value_counts()"
   ]
  },
  {
   "cell_type": "markdown",
   "id": "2f8ca919",
   "metadata": {},
   "source": [
    "We see 1 case of `Superinfection, Indeterminate` which should not be. Ignoring it now"
   ]
  },
  {
   "cell_type": "code",
   "execution_count": 256,
   "id": "654d41be-0c1d-4ba0-8225-498c6d4ab326",
   "metadata": {},
   "outputs": [],
   "source": [
    "pd.Series.tuple_has = lambda self, val: self.apply(\n",
    "    lambda x: val in x if isinstance(x, tuple) else False\n",
    ")"
   ]
  },
  {
   "cell_type": "code",
   "execution_count": 257,
   "id": "a4d8620c-5470-4032-807a-50c8f042ccd1",
   "metadata": {},
   "outputs": [],
   "source": [
    "adj.loc[adj.clin_impression_viral.tuple_has(\"Cure\"), \"cured\"] = \"Cured\"\n",
    "adj.loc[adj.clin_impression_viral.tuple_has(\"Cure\"), \"cured_src\"] = \"clin_impr_viral\"\n",
    "\n",
    "adj.loc[adj.clin_impression_viral.tuple_has(\"Super\"), \"cured\"] = \"Not cured\"\n",
    "adj.loc[adj.clin_impression_viral.tuple_has(\"Super\"), \"cured_src\"] = \"clin_impr_viral\"\n",
    "\n",
    "adj.loc[adj.clin_impression_viral.tuple_has(\"Persistence\"), \"cured\"] = \"Not cured\"\n",
    "adj.loc[adj.clin_impression_viral.tuple_has(\"Persistence\"), \"cured_src\"] = \"clin_impr_viral\"\n",
    "\n",
    "adj.loc[\n",
    "    adj.clin_impression_viral.tuple_has(\"Indeterminate\")\n",
    "    & adj.cured.isna(), \n",
    "    \"cured\"\n",
    "] = \"Indeterminate\"\n",
    "adj.loc[\n",
    "    adj.clin_impression_viral.tuple_has(\"Indeterminate\")\n",
    "    & adj.cured.isna(), \n",
    "    \"cured_src\"\n",
    "] = \"clin_impr_viral\""
   ]
  },
  {
   "cell_type": "markdown",
   "id": "cfac8cf0",
   "metadata": {},
   "source": [
    "Set episode length according to `viral_retest_proc`"
   ]
  },
  {
   "cell_type": "code",
   "execution_count": 258,
   "id": "c20aba12-1551-4c0e-aaee-e3748d50c278",
   "metadata": {},
   "outputs": [],
   "source": [
    "adj.viral_retest_proc = adj.viral_retest_proc.str.strip()"
   ]
  },
  {
   "cell_type": "code",
   "execution_count": 259,
   "id": "61a37ced-8828-4694-954f-9e93465dfd10",
   "metadata": {},
   "outputs": [
    {
     "data": {
      "text/plain": [
       "No                                                           63\n",
       "Yes by BAL                                                   34\n",
       "Yes by NP/OP (no BAL available or subsequently completed)    14\n",
       "Name: viral_retest_proc, dtype: int64"
      ]
     },
     "execution_count": 259,
     "metadata": {},
     "output_type": "execute_result"
    }
   ],
   "source": [
    "adj.viral_retest_proc.value_counts()"
   ]
  },
  {
   "cell_type": "code",
   "execution_count": 260,
   "id": "e265117a",
   "metadata": {},
   "outputs": [
    {
     "name": "stdout",
     "output_type": "stream",
     "text": [
      "Setting 34 episodes duration from viral_retest_bal\n"
     ]
    }
   ],
   "source": [
    "idx = (~adj.clin_impression_viral.isna()) & adj.viral_retest_proc.eq(\"Yes by BAL\")\n",
    "print(f\"Setting {idx.sum()} episodes duration from viral_retest_bal\")\n",
    "adj.loc[idx, \"episode_duration\"] = (adj.viral_retest_bal[idx] - adj.pneu_episode_out_num_2[idx]).dt.days\n",
    "adj.loc[idx, \"episode_duration_src\"] = \"viral_retest_bal\""
   ]
  },
  {
   "cell_type": "code",
   "execution_count": 261,
   "id": "bbe6b322",
   "metadata": {},
   "outputs": [
    {
     "name": "stdout",
     "output_type": "stream",
     "text": [
      "Setting 14 episodes duration from viral_retest_npop\n"
     ]
    }
   ],
   "source": [
    "idx = (~adj.clin_impression_viral.isna()) & adj.viral_retest_proc.str.contains(\"NP/OP\")\n",
    "print(f\"Setting {idx.sum()} episodes duration from viral_retest_npop\")\n",
    "adj.loc[idx, \"episode_duration\"] = (adj.viral_retest_npop[idx] - adj.pneu_episode_out_num_2[idx]).dt.days\n",
    "adj.loc[idx, \"episode_duration_src\"] = \"viral_retest_npop\""
   ]
  },
  {
   "cell_type": "code",
   "execution_count": 262,
   "id": "7520950e",
   "metadata": {},
   "outputs": [
    {
     "name": "stdout",
     "output_type": "stream",
     "text": [
      "Setting 63 episodes duration from viral_retest_no_pcr_clear\n"
     ]
    }
   ],
   "source": [
    "idx = (~adj.clin_impression_viral.isna()) & adj.viral_retest_proc.eq(\"No\")\n",
    "print(f\"Setting {idx.sum()} episodes duration from viral_retest_no_pcr_clear\")\n",
    "adj.loc[idx, \"episode_duration\"] = (\n",
    "    adj.viral_retest_no_pcr_clear[idx] - adj.pneu_episode_out_num_2[idx]\n",
    ").dt.days\n",
    "adj.loc[idx, \"episode_duration_src\"] = \"viral_retest_no_pcr_clear\""
   ]
  },
  {
   "cell_type": "markdown",
   "id": "1c004a26",
   "metadata": {},
   "source": [
    "#### Let's process non-viral episodes"
   ]
  },
  {
   "cell_type": "code",
   "execution_count": 263,
   "id": "7ad694cb-fa3b-4ba1-ac86-1f4c30fd8b9f",
   "metadata": {},
   "outputs": [],
   "source": [
    "adj.clin_impression_d78 = simplify_impression(adj.clin_impression_d78)\n",
    "adj.clin_impression_d10 = simplify_impression(adj.clin_impression_d10)\n",
    "adj.clin_impression_d14 = simplify_impression(adj.clin_impression_d14)"
   ]
  },
  {
   "cell_type": "code",
   "execution_count": 264,
   "id": "ee7f0e35-67cb-4985-ac84-35e76b16d465",
   "metadata": {},
   "outputs": [
    {
     "data": {
      "text/plain": [
       "(Cure,)                                165\n",
       "(Indeterminate,)                        92\n",
       "(Persistence,)                          37\n",
       "(Cure, Extra)                           36\n",
       "(Extra, Indeterminate)                  32\n",
       "(Super,)                                18\n",
       "(Persistence, Super)                    17\n",
       "(Cure, Prophylaxis)                     12\n",
       "(Persistence, Extra)                    10\n",
       "(Indeterminate, Prophylaxis)             9\n",
       "(Super, Extra)                           4\n",
       "(Persistence, Prophylaxis)               3\n",
       "(Cure, Extra, Prophylaxis)               2\n",
       "(Extra, Indeterminate, Prophylaxis)      1\n",
       "(Persistence, Super, Extra)              1\n",
       "Name: clin_impression_d78, dtype: int64"
      ]
     },
     "execution_count": 264,
     "metadata": {},
     "output_type": "execute_result"
    }
   ],
   "source": [
    "adj.clin_impression_d78.value_counts()"
   ]
  },
  {
   "cell_type": "code",
   "execution_count": 265,
   "id": "bff98d51-fb7c-4d3b-8752-eb89f3346eb7",
   "metadata": {},
   "outputs": [
    {
     "data": {
      "text/plain": [
       "(Indeterminate,)                59\n",
       "(Cure,)                         31\n",
       "(Persistence,)                  26\n",
       "(Extra, Indeterminate)          15\n",
       "(Cure, Extra)                   14\n",
       "(Persistence, Super)            10\n",
       "(Super,)                         5\n",
       "(Persistence, Extra)             5\n",
       "(Cure, Prophylaxis)              2\n",
       "(Persistence, Prophylaxis)       1\n",
       "(Indeterminate, Prophylaxis)     1\n",
       "Name: clin_impression_d10, dtype: int64"
      ]
     },
     "execution_count": 265,
     "metadata": {},
     "output_type": "execute_result"
    }
   ],
   "source": [
    "adj.clin_impression_d10.value_counts()"
   ]
  },
  {
   "cell_type": "code",
   "execution_count": 266,
   "id": "0f75b728-1313-4bd8-aac9-275c29febe0b",
   "metadata": {},
   "outputs": [
    {
     "data": {
      "text/plain": [
       "(Cure,)                       36\n",
       "(Indeterminate,)              27\n",
       "(Persistence,)                21\n",
       "(Cure, Extra)                  5\n",
       "(Extra, Indeterminate)         4\n",
       "(Persistence, Super)           4\n",
       "(Cure, Prophylaxis)            3\n",
       "(Super,)                       3\n",
       "(Persistence, Extra)           3\n",
       "(Super, Extra)                 2\n",
       "(Indeterminate, Extra)         1\n",
       "(Persistence, Prophylaxis)     1\n",
       "(Super, Prophylaxis)           1\n",
       "Name: clin_impression_d14, dtype: int64"
      ]
     },
     "execution_count": 266,
     "metadata": {},
     "output_type": "execute_result"
    }
   ],
   "source": [
    "adj.clin_impression_d14.value_counts()"
   ]
  },
  {
   "cell_type": "markdown",
   "id": "19d243da",
   "metadata": {},
   "source": [
    "This adds some overview to the data, so we can figure out some checks and rules:\n",
    "1. No `cured` status is paired with `persistence` or `superinfection` in current day or later (very good)\n",
    "2. No `indeterminate` status is paired with `cured`, `persistence` on `superinfection` in current day (very good)\n",
    "3. These seem to be cases when `indeterminate` is the last impression at d7/8 or d10 (before d14)\n",
    "4. `Prophylaxis` is never alone"
   ]
  },
  {
   "cell_type": "markdown",
   "id": "f8eeab04",
   "metadata": {},
   "source": [
    "Rules:\n",
    "1. Cured at d7 means `cured, episode_duration=7`\n",
    "2. Cured at d10 means `cured, episode_duration=10`\n",
    "3. Cured at d14 means `cured, episode_duration=14`\n",
    "4. Indeterminated at d7 and absent d10/d14 readings means `indeterminate, episode_duration=7`\n",
    "5. Indeterminated at d10 and absent d14 readings means `indeterminate, episode_duration=10`\n",
    "6. Indeterminated at d14 means `indeterminate, episode_duration=day_antibiotics_stop or 14`\n",
    "7. Persistense or superinfection at d14 means `not cured, episode_duration=day_antibiotics_stop or 14`\n",
    "8. Persistense or superinfection at d10 and not set before means `not cured, episode_duration=10`\n",
    "9. Persistense or superinfection at d7 and not set before means `not cured, episode_duration=7`\n",
    "10. Non-pneumonia control episode means `episode_type=non-pneu-ctrl`\n",
    "11. All remaining should be final episodes, means `overall_success, episode_duration=til-last-day`"
   ]
  },
  {
   "cell_type": "markdown",
   "id": "656f5f46",
   "metadata": {},
   "source": [
    "### Rule 1: Cured at d7 means `cured, episode_duration=7`"
   ]
  },
  {
   "cell_type": "code",
   "execution_count": 267,
   "id": "03fd2c05",
   "metadata": {},
   "outputs": [],
   "source": [
    "idx = adj.clin_impression_d78.tuple_has(\"Cure\")"
   ]
  },
  {
   "cell_type": "code",
   "execution_count": 268,
   "id": "446b381b",
   "metadata": {},
   "outputs": [],
   "source": [
    "adj.loc[idx, \"cured\"] = \"Cured\"\n",
    "adj.loc[idx, \"cured_src\"] = \"clin_impr_d78\"\n",
    "adj.loc[idx, \"episode_duration\"] = 7\n",
    "adj.loc[idx, \"episode_duration_src\"] = \"clin_impr_d78\""
   ]
  },
  {
   "cell_type": "markdown",
   "id": "96d1d85d",
   "metadata": {},
   "source": [
    "### Rule 2: Cured at d10 means `cured, episode_duration=10`"
   ]
  },
  {
   "cell_type": "code",
   "execution_count": 269,
   "id": "113a2738",
   "metadata": {},
   "outputs": [],
   "source": [
    "idx = adj.clin_impression_d10.tuple_has(\"Cure\") & adj.cured.isna()"
   ]
  },
  {
   "cell_type": "code",
   "execution_count": 270,
   "id": "62bdbaaf",
   "metadata": {},
   "outputs": [],
   "source": [
    "adj.loc[idx, \"cured\"] = \"Cured\"\n",
    "adj.loc[idx, \"cured_src\"] = \"clin_impr_d10\"\n",
    "adj.loc[idx, \"episode_duration\"] = 10\n",
    "adj.loc[idx, \"episode_duration_src\"] = \"clin_impr_d10\""
   ]
  },
  {
   "cell_type": "markdown",
   "id": "9eb3a972",
   "metadata": {},
   "source": [
    "### Rule 3: Cured at d14 means `cured, episode_duration=14`"
   ]
  },
  {
   "cell_type": "code",
   "execution_count": 271,
   "id": "48179708",
   "metadata": {},
   "outputs": [],
   "source": [
    "idx = adj.clin_impression_d14.tuple_has(\"Cure\") & adj.cured.isna()"
   ]
  },
  {
   "cell_type": "code",
   "execution_count": 272,
   "id": "836d3a33",
   "metadata": {},
   "outputs": [],
   "source": [
    "adj.loc[idx, \"cured\"] = \"Cured\"\n",
    "adj.loc[idx, \"cured_src\"] = \"clin_impr_d14\"\n",
    "adj.loc[idx, \"episode_duration\"] = 14\n",
    "adj.loc[idx, \"episode_duration_src\"] = \"clin_impr_d14\""
   ]
  },
  {
   "cell_type": "markdown",
   "id": "9a51ed13",
   "metadata": {},
   "source": [
    "### Rule 4: Indeterminated at d7 and absent d10/d14 readings means `indeterminate, episode_duration=7`"
   ]
  },
  {
   "cell_type": "code",
   "execution_count": 273,
   "id": "4f2cf3b0",
   "metadata": {},
   "outputs": [],
   "source": [
    "d10_present = ~adj.clin_impression_d10.isna()"
   ]
  },
  {
   "cell_type": "code",
   "execution_count": 274,
   "id": "f9e74614",
   "metadata": {},
   "outputs": [],
   "source": [
    "d14_present = ~adj.clin_impression_d14.isna()"
   ]
  },
  {
   "cell_type": "code",
   "execution_count": 275,
   "id": "d24af65b",
   "metadata": {},
   "outputs": [],
   "source": [
    "idx = adj.clin_impression_d78.tuple_has(\"Indeterminate\") & ~d10_present & ~d14_present"
   ]
  },
  {
   "cell_type": "code",
   "execution_count": 276,
   "id": "4e4b8cfa",
   "metadata": {},
   "outputs": [],
   "source": [
    "adj.loc[idx, \"cured\"] = \"Indeterminate\"\n",
    "adj.loc[idx, \"cured_src\"] = \"clin_impr_d78~d10~d14\"\n",
    "adj.loc[idx, \"episode_duration\"] = 7\n",
    "adj.loc[idx, \"episode_duration_src\"] = \"clin_impr_d78~d10~d14\""
   ]
  },
  {
   "cell_type": "markdown",
   "id": "e9d187d8",
   "metadata": {},
   "source": [
    "### Rule 5: Indeterminated at d10 and absent d14 readings means `indeterminate, episode_duration=10`"
   ]
  },
  {
   "cell_type": "code",
   "execution_count": 277,
   "id": "bf4822e9",
   "metadata": {},
   "outputs": [],
   "source": [
    "idx = adj.clin_impression_d10.tuple_has(\"Indeterminate\") & ~d14_present"
   ]
  },
  {
   "cell_type": "code",
   "execution_count": 278,
   "id": "f7ba9ff2",
   "metadata": {},
   "outputs": [],
   "source": [
    "adj.loc[idx, \"cured\"] = \"Indeterminate\"\n",
    "adj.loc[idx, \"cured_src\"] = \"clin_impr_d10~d14\"\n",
    "adj.loc[idx, \"episode_duration\"] = 10\n",
    "adj.loc[idx, \"episode_duration_src\"] = \"clin_impr_d10~d14\""
   ]
  },
  {
   "cell_type": "markdown",
   "id": "258fe143",
   "metadata": {},
   "source": [
    "### Rule 6. Indeterminated at d14 means `indeterminate, episode_duration=day_antibiotics_stop or 14`"
   ]
  },
  {
   "cell_type": "code",
   "execution_count": 279,
   "id": "afbd0e5c",
   "metadata": {},
   "outputs": [],
   "source": [
    "idx = adj.clin_impression_d14.tuple_has(\"Indeterminate\")"
   ]
  },
  {
   "cell_type": "code",
   "execution_count": 280,
   "id": "3f6960a0",
   "metadata": {},
   "outputs": [],
   "source": [
    "adj.loc[idx, \"cured\"] = \"Indeterminate\"\n",
    "adj.loc[idx, \"cured_src\"] = \"clin_impr_d14\""
   ]
  },
  {
   "cell_type": "code",
   "execution_count": 281,
   "id": "9fa8810b",
   "metadata": {},
   "outputs": [],
   "source": [
    "adj.loc[idx & adj[\"ABX Stop Date\"].isna(), \"episode_duration\"] = 14\n",
    "adj.loc[idx & adj[\"ABX Stop Date\"].isna(), \"episode_duration_src\"] = \"clin_impr_d14\""
   ]
  },
  {
   "cell_type": "code",
   "execution_count": 282,
   "id": "30b96470-dc32-46bb-bcc5-65a89d5f9689",
   "metadata": {},
   "outputs": [],
   "source": [
    "adj.loc[idx & ~adj[\"ABX Stop Date\"].isna(), \"episode_duration\"] = (adj[\"ABX Stop Date\"][\n",
    "    idx & ~adj[\"ABX Stop Date\"].isna()\n",
    "] - adj.pneu_episode_out_num_2[idx & ~adj[\"ABX Stop Date\"].isna()]).dt.days\n",
    "adj.loc[idx & ~adj[\"ABX Stop Date\"].isna(), \"episode_duration_src\"] = \"day_antibiotics_stop\""
   ]
  },
  {
   "cell_type": "markdown",
   "id": "6a9903f2",
   "metadata": {},
   "source": [
    "### Rule 7. Persistense or superinfection at d14 means `not cured, episode_duration=day_antibiotics_stop or 14`"
   ]
  },
  {
   "cell_type": "code",
   "execution_count": 283,
   "id": "67d822b6",
   "metadata": {},
   "outputs": [],
   "source": [
    "idx = adj.clin_impression_d14.tuple_has(\"Super\") | adj.clin_impression_d14.tuple_has(\"Persistence\")"
   ]
  },
  {
   "cell_type": "code",
   "execution_count": 284,
   "id": "e4e99293",
   "metadata": {},
   "outputs": [],
   "source": [
    "adj.loc[idx, \"cured\"] = \"Not cured\"\n",
    "adj.loc[idx, \"cured_src\"] = \"clin_impr_d14\""
   ]
  },
  {
   "cell_type": "code",
   "execution_count": 285,
   "id": "9415562e",
   "metadata": {},
   "outputs": [],
   "source": [
    "adj.loc[idx & adj[\"ABX Stop Date\"].isna(), \"episode_duration\"] = 14\n",
    "adj.loc[idx & adj[\"ABX Stop Date\"].isna(), \"episode_duration_src\"] = \"clin_impr_d14\""
   ]
  },
  {
   "cell_type": "code",
   "execution_count": 286,
   "id": "baec560c-f7c3-4071-81e4-d440c6cb38a6",
   "metadata": {},
   "outputs": [],
   "source": [
    "adj.loc[idx & ~adj[\"ABX Stop Date\"].isna(), \"episode_duration\"] = (adj[\"ABX Stop Date\"][\n",
    "    idx & ~adj[\"ABX Stop Date\"].isna()\n",
    "] - adj.pneu_episode_out_num_2[idx & ~adj[\"ABX Stop Date\"].isna()]).dt.days\n",
    "adj.loc[idx & ~adj[\"ABX Stop Date\"].isna(), \"episode_duration_src\"] = \"day_antibiotics_stop\""
   ]
  },
  {
   "cell_type": "markdown",
   "id": "ceffbfca",
   "metadata": {},
   "source": [
    "### Rule 8. Persistense or superinfection at d10 and not set before means `not cured, episode_duration=10`"
   ]
  },
  {
   "cell_type": "code",
   "execution_count": 287,
   "id": "f6682486",
   "metadata": {},
   "outputs": [],
   "source": [
    "idx = (\n",
    "    adj.clin_impression_d10.tuple_has(\"Super\") | adj.clin_impression_d10.tuple_has(\"Persistence\")\n",
    ") & adj.cured.isna()"
   ]
  },
  {
   "cell_type": "code",
   "execution_count": 288,
   "id": "865150ab",
   "metadata": {},
   "outputs": [],
   "source": [
    "adj.loc[idx, \"cured\"] = \"Not cured\"\n",
    "adj.loc[idx, \"cured_src\"] = \"clin_impr_d10\""
   ]
  },
  {
   "cell_type": "code",
   "execution_count": 289,
   "id": "295f300d",
   "metadata": {},
   "outputs": [],
   "source": [
    "adj.loc[idx, \"episode_duration\"] = 10\n",
    "adj.loc[idx, \"episode_duration_src\"] = \"clin_impr_d10\""
   ]
  },
  {
   "cell_type": "markdown",
   "id": "8fc1fae1",
   "metadata": {},
   "source": [
    "### Rule 9. Persistense or superinfection at d7 and not set before means `not cured, episode_duration=7`"
   ]
  },
  {
   "cell_type": "code",
   "execution_count": 290,
   "id": "3a7f1e43",
   "metadata": {},
   "outputs": [],
   "source": [
    "idx = (\n",
    "    adj.clin_impression_d78.tuple_has(\"Super\") | adj.clin_impression_d78.tuple_has(\"Persistence\")\n",
    ") & adj.cured.isna()"
   ]
  },
  {
   "cell_type": "code",
   "execution_count": 291,
   "id": "9a82726a",
   "metadata": {},
   "outputs": [],
   "source": [
    "adj.loc[idx, \"cured\"] = \"Not cured\"\n",
    "adj.loc[idx, \"cured_src\"] = \"clin_impr_d78\""
   ]
  },
  {
   "cell_type": "code",
   "execution_count": 292,
   "id": "3a5de169",
   "metadata": {},
   "outputs": [],
   "source": [
    "adj.loc[idx, \"episode_duration\"] = 7\n",
    "adj.loc[idx, \"episode_duration_src\"] = \"clin_impr_d78\""
   ]
  },
  {
   "cell_type": "markdown",
   "id": "a44ae219",
   "metadata": {},
   "source": [
    "### Rule 10. Non-pneumonia control episode means `episode_type=non-pneu-ctrl`"
   ]
  },
  {
   "cell_type": "code",
   "execution_count": 293,
   "id": "81a8708a",
   "metadata": {},
   "outputs": [
    {
     "data": {
      "text/plain": [
       " Clinical VAP (on ventilator >48 hours or reintubated < 24 hours from extubation)                                                         330\n",
       " Clinical HAP (current admission >48 hours or discharged from a healthcare facility within the last 7 days where admission >24 hours)     215\n",
       " Clinical CAP (not hospitalized within the last 7 days)                                                                                   137\n",
       " Non-pneumonia control                                                                                                                     96\n",
       "Name: pt_category, dtype: int64"
      ]
     },
     "execution_count": 293,
     "metadata": {},
     "output_type": "execute_result"
    }
   ],
   "source": [
    "adj.pt_category.value_counts(dropna=False)"
   ]
  },
  {
   "cell_type": "code",
   "execution_count": 294,
   "id": "29e45622-65bc-4b14-be2e-eb988a439967",
   "metadata": {},
   "outputs": [],
   "source": [
    "adj.loc[adj.pt_category.str.contains(\"CAP\"), \"episode_type\"] = \"CAP\"\n",
    "adj.loc[adj.pt_category.str.contains(\"HAP\"), \"episode_type\"] = \"HAP\"\n",
    "adj.loc[adj.pt_category.str.contains(\"VAP\"), \"episode_type\"] = \"VAP\"\n",
    "adj.loc[adj.pt_category.str.contains(\"Non-pneumonia\"), \"episode_type\"] = \"Non-PNA-ctrl\""
   ]
  },
  {
   "cell_type": "code",
   "execution_count": 295,
   "id": "78cae1ad",
   "metadata": {},
   "outputs": [
    {
     "data": {
      "text/plain": [
       "VAP             330\n",
       "HAP             215\n",
       "CAP             137\n",
       "Non-PNA-ctrl     96\n",
       "Name: episode_type, dtype: int64"
      ]
     },
     "execution_count": 295,
     "metadata": {},
     "output_type": "execute_result"
    }
   ],
   "source": [
    "adj.episode_type.value_counts()"
   ]
  },
  {
   "cell_type": "markdown",
   "id": "354fd1ae",
   "metadata": {},
   "source": [
    "### Rule 11. All remaining should be final episodes, means `overall_success, episode_duration=til-last-day`"
   ]
  },
  {
   "cell_type": "code",
   "execution_count": 296,
   "id": "a58b7e36",
   "metadata": {},
   "outputs": [
    {
     "data": {
      "text/plain": [
       "Cured            316\n",
       "Not cured        149\n",
       "Indeterminate    132\n",
       "NaN               85\n",
       "Name: cured, dtype: int64"
      ]
     },
     "execution_count": 296,
     "metadata": {},
     "output_type": "execute_result"
    }
   ],
   "source": [
    "adj.loc[adj.episode_type != \"Non-PNA-ctrl\", \"cured\"].value_counts(dropna=False)"
   ]
  },
  {
   "cell_type": "code",
   "execution_count": 297,
   "id": "2eeeb1d1",
   "metadata": {},
   "outputs": [],
   "source": [
    "idx = adj.episode_type.ne(\"Non-PNA-ctrl\") & adj.cured.isna()"
   ]
  },
  {
   "cell_type": "code",
   "execution_count": 298,
   "id": "a45b25fb",
   "metadata": {},
   "outputs": [
    {
     "data": {
      "text/plain": [
       "0.0    84\n",
       "1.0     1\n",
       "Name: success, dtype: int64"
      ]
     },
     "execution_count": 298,
     "metadata": {},
     "output_type": "execute_result"
    }
   ],
   "source": [
    "adj[idx].success.value_counts(dropna=False)"
   ]
  },
  {
   "cell_type": "markdown",
   "id": "939ef480",
   "metadata": {},
   "source": [
    "All, except one, remaining cases are `Not cured`"
   ]
  },
  {
   "cell_type": "code",
   "execution_count": 299,
   "id": "c984742d",
   "metadata": {},
   "outputs": [],
   "source": [
    "adj.loc[idx & adj.success.eq(0), \"cured\"] = \"Not cured\"\n",
    "adj.loc[idx & adj.success.eq(1), \"cured\"] = \"Cured\"\n",
    "adj.loc[idx, \"cured_src\"] = \"success\"\n",
    "adj.loc[idx, \"episode_duration\"] = \"max-day\"\n",
    "adj.loc[idx, \"episode_duration_src\"] = \"success\""
   ]
  },
  {
   "cell_type": "markdown",
   "id": "00ecdddc",
   "metadata": {},
   "source": [
    "Summary"
   ]
  },
  {
   "cell_type": "code",
   "execution_count": 300,
   "id": "a8248cf5",
   "metadata": {},
   "outputs": [
    {
     "data": {
      "text/html": [
       "<div>\n",
       "<style scoped>\n",
       "    .dataframe tbody tr th:only-of-type {\n",
       "        vertical-align: middle;\n",
       "    }\n",
       "\n",
       "    .dataframe tbody tr th {\n",
       "        vertical-align: top;\n",
       "    }\n",
       "\n",
       "    .dataframe thead th {\n",
       "        text-align: right;\n",
       "    }\n",
       "</style>\n",
       "<table border=\"1\" class=\"dataframe\">\n",
       "  <thead>\n",
       "    <tr style=\"text-align: right;\">\n",
       "      <th></th>\n",
       "      <th>episode_type</th>\n",
       "      <th>cured</th>\n",
       "      <th>0</th>\n",
       "    </tr>\n",
       "  </thead>\n",
       "  <tbody>\n",
       "    <tr>\n",
       "      <th>0</th>\n",
       "      <td>VAP</td>\n",
       "      <td>Cured</td>\n",
       "      <td>141</td>\n",
       "    </tr>\n",
       "    <tr>\n",
       "      <th>1</th>\n",
       "      <td>VAP</td>\n",
       "      <td>Not cured</td>\n",
       "      <td>109</td>\n",
       "    </tr>\n",
       "    <tr>\n",
       "      <th>2</th>\n",
       "      <td>HAP</td>\n",
       "      <td>Cured</td>\n",
       "      <td>103</td>\n",
       "    </tr>\n",
       "    <tr>\n",
       "      <th>3</th>\n",
       "      <td>Non-PNA-ctrl</td>\n",
       "      <td>NaN</td>\n",
       "      <td>96</td>\n",
       "    </tr>\n",
       "    <tr>\n",
       "      <th>4</th>\n",
       "      <td>VAP</td>\n",
       "      <td>Indeterminate</td>\n",
       "      <td>80</td>\n",
       "    </tr>\n",
       "    <tr>\n",
       "      <th>5</th>\n",
       "      <td>HAP</td>\n",
       "      <td>Not cured</td>\n",
       "      <td>75</td>\n",
       "    </tr>\n",
       "    <tr>\n",
       "      <th>6</th>\n",
       "      <td>CAP</td>\n",
       "      <td>Cured</td>\n",
       "      <td>73</td>\n",
       "    </tr>\n",
       "    <tr>\n",
       "      <th>7</th>\n",
       "      <td>CAP</td>\n",
       "      <td>Not cured</td>\n",
       "      <td>49</td>\n",
       "    </tr>\n",
       "    <tr>\n",
       "      <th>8</th>\n",
       "      <td>HAP</td>\n",
       "      <td>Indeterminate</td>\n",
       "      <td>37</td>\n",
       "    </tr>\n",
       "    <tr>\n",
       "      <th>9</th>\n",
       "      <td>CAP</td>\n",
       "      <td>Indeterminate</td>\n",
       "      <td>15</td>\n",
       "    </tr>\n",
       "  </tbody>\n",
       "</table>\n",
       "</div>"
      ],
      "text/plain": [
       "   episode_type          cured    0\n",
       "0           VAP          Cured  141\n",
       "1           VAP      Not cured  109\n",
       "2           HAP          Cured  103\n",
       "3  Non-PNA-ctrl            NaN   96\n",
       "4           VAP  Indeterminate   80\n",
       "5           HAP      Not cured   75\n",
       "6           CAP          Cured   73\n",
       "7           CAP      Not cured   49\n",
       "8           HAP  Indeterminate   37\n",
       "9           CAP  Indeterminate   15"
      ]
     },
     "execution_count": 300,
     "metadata": {},
     "output_type": "execute_result"
    }
   ],
   "source": [
    "adj.loc[:, [\"episode_type\", \"cured\"]].value_counts(dropna=False).reset_index()"
   ]
  },
  {
   "cell_type": "markdown",
   "id": "f7375331-665c-4ffe-bce2-018690d64074",
   "metadata": {},
   "source": [
    "## 8.2 Add overall treatment status"
   ]
  },
  {
   "cell_type": "code",
   "execution_count": 301,
   "id": "050d6d33-0833-479d-8a0a-f0ec65560288",
   "metadata": {},
   "outputs": [
    {
     "data": {
      "text/plain": [
       " Persistent inflammation only                                                                                115\n",
       " Persistence                                                                                                  35\n",
       " Superinfection pneumonia                                                                                     20\n",
       " Antibiotics for other indication (not prophylaxis) , Persistent inflammation only                            11\n",
       " Antibiotics for other indication (not prophylaxis)                                                           10\n",
       " Recurrence                                                                                                   10\n",
       " Persistence , Superinfection pneumonia                                                                        8\n",
       " Persistence , Recurrence , Superinfection pneumonia                                                           4\n",
       " Antibiotics for other indication (not prophylaxis) , Persistence                                              3\n",
       " Persistence , Recurrence                                                                                      3\n",
       " Antibiotics for other indication (not prophylaxis) , Superinfection pneumonia                                 2\n",
       " Antibiotics for other indication (not prophylaxis) , Recurrence , Superinfection pneumonia                    1\n",
       " Antibiotics for other indication (not prophylaxis) , Persistence , Recurrence , Superinfection pneumonia      1\n",
       " Antibiotics for other indication (not prophylaxis) , Persistence , Superinfection pneumonia                   1\n",
       " Recurrence , Superinfection pneumonia                                                                         1\n",
       " Persistence , Persistent inflammation only                                                                    1\n",
       " Antibiotics for other indication (not prophylaxis) , Recurrence                                               1\n",
       "Name: cause_failure, dtype: int64"
      ]
     },
     "execution_count": 301,
     "metadata": {},
     "output_type": "execute_result"
    }
   ],
   "source": [
    "adj.cause_failure.value_counts()"
   ]
  },
  {
   "cell_type": "code",
   "execution_count": 302,
   "id": "812b6e0e-0202-4813-ab8e-528bc01b8c0f",
   "metadata": {},
   "outputs": [],
   "source": [
    "def simplify_cause_failure(impr):\n",
    "    impr = impr.str.replace(r\"\\([^\\)]+\\)\", \"\", regex=True)\n",
    "    impr = impr.str.replace(r\"^\\s+|(?<=,)\\s+|\\s+(?=,)|\\s+$\", \"\", regex=True)\n",
    "    impr = impr.str.replace(\n",
    "        \"Persistent inflammation only\", \"Inflam\", regex=False\n",
    "    ).str.replace(\n",
    "        \"Superinfection pneumonia\", \"Super\", regex=False\n",
    "    ).str.replace(\n",
    "        \"Antibiotics for other indication\", \"Abx\", regex=False\n",
    "    )\n",
    "    impr = impr.str.split(\",\").apply(\n",
    "        lambda x: tuple(x) if isinstance(x, list) else x\n",
    "    )\n",
    "    return impr"
   ]
  },
  {
   "cell_type": "code",
   "execution_count": 303,
   "id": "333bd43e-6868-46b0-a326-00180ba36f02",
   "metadata": {},
   "outputs": [
    {
     "data": {
      "text/plain": [
       "(Inflam,)                                115\n",
       "(Persistence,)                            35\n",
       "(Super,)                                  20\n",
       "(Abx, Inflam)                             11\n",
       "(Abx,)                                    10\n",
       "(Recurrence,)                             10\n",
       "(Persistence, Super)                       8\n",
       "(Persistence, Recurrence, Super)           4\n",
       "(Abx, Persistence)                         3\n",
       "(Persistence, Recurrence)                  3\n",
       "(Abx, Super)                               2\n",
       "(Abx, Recurrence, Super)                   1\n",
       "(Abx, Persistence, Recurrence, Super)      1\n",
       "(Abx, Persistence, Super)                  1\n",
       "(Recurrence, Super)                        1\n",
       "(Persistence, Inflam)                      1\n",
       "(Abx, Recurrence)                          1\n",
       "Name: cause_failure, dtype: int64"
      ]
     },
     "execution_count": 303,
     "metadata": {},
     "output_type": "execute_result"
    }
   ],
   "source": [
    "simplify_cause_failure(adj.cause_failure).value_counts()"
   ]
  },
  {
   "cell_type": "code",
   "execution_count": 304,
   "id": "3004bd00-ca97-42b4-b15a-6f5d105d9c17",
   "metadata": {},
   "outputs": [],
   "source": [
    "adj.cause_failure = simplify_cause_failure(adj.cause_failure).str.join(\",\")"
   ]
  },
  {
   "cell_type": "code",
   "execution_count": 305,
   "id": "ea0faf7c-54bc-4671-ad6b-098a9d1d2db6",
   "metadata": {},
   "outputs": [],
   "source": [
    "adj_cols = [\"pt_study_id\", \"pneu_episode_out_num_2\", \"etiology\", \"cured\", \"cured_src\",\n",
    "            \"episode_duration\", \"episode_duration_src\", \"episode_type\", \"cause_failure\"]"
   ]
  },
  {
   "cell_type": "markdown",
   "id": "4afa6676-5fc5-4659-a755-d3f17209e0ca",
   "metadata": {},
   "source": [
    "## 8.3 Merge with data"
   ]
  },
  {
   "cell_type": "markdown",
   "id": "bab9a8a4-73c5-4dae-9c06-93eb033eaec4",
   "metadata": {},
   "source": [
    "adj.groupby(['pt_study_id','pneu_episode_out_num_2']).ir_id.count().value_counts()"
   ]
  },
  {
   "cell_type": "code",
   "execution_count": 307,
   "id": "2e84a897",
   "metadata": {},
   "outputs": [],
   "source": [
    "merged = data.merge(\n",
    "    adj.loc[:, adj_cols],\n",
    "    left_on=[\"pt_study_id\", \"bal_dt\"],\n",
    "    right_on=['pt_study_id','pneu_episode_out_num_2'],\n",
    "    how=\"left\"\n",
    ")"
   ]
  },
  {
   "cell_type": "code",
   "execution_count": 308,
   "id": "63846585",
   "metadata": {},
   "outputs": [],
   "source": [
    "data = merged"
   ]
  },
  {
   "cell_type": "code",
   "execution_count": 309,
   "id": "5d9c53d8",
   "metadata": {},
   "outputs": [
    {
     "name": "stdout",
     "output_type": "stream",
     "text": [
      "Number of patients: 601\n",
      "Number of ICU-days: 13391\n"
     ]
    }
   ],
   "source": [
    "print(f\"Number of patients: {data.pt_study_id.nunique()}\")\n",
    "print(f\"Number of ICU-days: {data.shape[0]}\")"
   ]
  },
  {
   "cell_type": "markdown",
   "id": "f3b8e763-95d2-4720-a854-9ddbfbd5b87a",
   "metadata": {},
   "source": [
    "## 8.4 Additional logic for episode duration"
   ]
  },
  {
   "cell_type": "markdown",
   "id": "4393ecec-ec14-4b9b-9edb-af3b1457f7cc",
   "metadata": {},
   "source": [
    "### 1. Set `max-day` episode duration to actual duration"
   ]
  },
  {
   "cell_type": "code",
   "execution_count": 310,
   "id": "6ebcfe14-9011-40ea-98d9-e1297bb96664",
   "metadata": {},
   "outputs": [],
   "source": [
    "idx = data.episode_duration.eq(\"max-day\")"
   ]
  },
  {
   "cell_type": "markdown",
   "id": "d80af5da-fca8-4aaf-a6be-262b0fb54023",
   "metadata": {},
   "source": [
    "Check that all such records are at the last ICU stay"
   ]
  },
  {
   "cell_type": "code",
   "execution_count": 311,
   "id": "e8e3df2f-4c87-4c2f-85e5-e0e9a82f140b",
   "metadata": {},
   "outputs": [],
   "source": [
    "last_stay = data.groupby(\"pt_study_id\").icu_rank.max()"
   ]
  },
  {
   "cell_type": "code",
   "execution_count": 312,
   "id": "47256e97-5b1e-4f57-87e6-12830d9bc2d1",
   "metadata": {},
   "outputs": [],
   "source": [
    "last_stay_df = last_stay[data.pt_study_id].values"
   ]
  },
  {
   "cell_type": "code",
   "execution_count": 313,
   "id": "519ee6f7-be56-44f0-875c-693a1e622066",
   "metadata": {},
   "outputs": [
    {
     "data": {
      "text/plain": [
       "1"
      ]
     },
     "execution_count": 313,
     "metadata": {},
     "output_type": "execute_result"
    }
   ],
   "source": [
    "data.icu_rank[idx].ne(last_stay_df[idx]).sum()"
   ]
  },
  {
   "cell_type": "markdown",
   "id": "319b86ec-c55d-4621-8e88-e8d8466f5313",
   "metadata": {},
   "source": [
    "Who is this one patient?"
   ]
  },
  {
   "cell_type": "markdown",
   "id": "08fa7de5-38fa-4c39-83cd-4e870d8acaf8",
   "metadata": {},
   "source": [
    "data.pt_study_id[idx][data.icu_rank[idx].ne(last_stay_df[idx])]"
   ]
  },
  {
   "cell_type": "markdown",
   "id": "a86456ff-7255-455b-84ba-0773dbfcd653",
   "metadata": {},
   "source": [
    "After manual checking: ICU stay #3 is right after ICU stay #2 (adjacent days). We should probably start merging them.\n",
    "\n",
    "I will manually adjust for that below"
   ]
  },
  {
   "cell_type": "markdown",
   "id": "05fa4dbe-eba2-440c-9c10-634f07417f77",
   "metadata": {},
   "source": [
    "Set the episode duration"
   ]
  },
  {
   "cell_type": "code",
   "execution_count": 315,
   "id": "893ae70b-45fe-4667-abf2-fe3b2aa33976",
   "metadata": {},
   "outputs": [],
   "source": [
    "last_day = data.set_index(\"pt_study_id\").groupby(\"pt_study_id\").ICU_Day.tail(1)"
   ]
  },
  {
   "cell_type": "code",
   "execution_count": 316,
   "id": "a7a02cef-1663-47d7-82a2-78970867bc8b",
   "metadata": {},
   "outputs": [],
   "source": [
    "data.loc[idx, \"episode_duration\"] = last_day[data.pt_study_id[idx]].values - data.ICU_Day[idx] + 1"
   ]
  },
  {
   "cell_type": "code",
   "execution_count": 317,
   "id": "cc3d8725-45ce-46c0-94d8-9c52fe292f25",
   "metadata": {},
   "outputs": [],
   "source": [
    "data.loc[2568, \"episode_duration\"] = 6"
   ]
  },
  {
   "cell_type": "code",
   "execution_count": 318,
   "id": "30964039-e32c-4032-8b39-41b6181a68b3",
   "metadata": {},
   "outputs": [],
   "source": [
    "data.episode_duration = data.episode_duration.astype(float)"
   ]
  },
  {
   "cell_type": "markdown",
   "id": "809364dc-4654-4a4e-863f-2fab42ce22f2",
   "metadata": {},
   "source": [
    "Check this outlier"
   ]
  },
  {
   "cell_type": "code",
   "execution_count": 319,
   "id": "b000d087-e199-42f4-997f-e0d38cc568aa",
   "metadata": {},
   "outputs": [
    {
     "data": {
      "text/plain": [
       "104.0"
      ]
     },
     "execution_count": 319,
     "metadata": {},
     "output_type": "execute_result"
    }
   ],
   "source": [
    "data.episode_duration.max()"
   ]
  },
  {
   "cell_type": "markdown",
   "id": "bacbbd03-d5ef-4b32-a390-32c76cf5f564",
   "metadata": {},
   "source": [
    "### 3. Set episode duration based on extubation for `Cured` episodes"
   ]
  },
  {
   "cell_type": "code",
   "execution_count": 320,
   "id": "8049cee4-ebf1-44ea-9dd0-7a89d55fbc5a",
   "metadata": {},
   "outputs": [],
   "source": [
    "idx = data.cured.eq(\"Cured\")"
   ]
  },
  {
   "cell_type": "code",
   "execution_count": 321,
   "id": "c5ab4045-4fc2-4ae0-9ebf-1ef674c39b81",
   "metadata": {},
   "outputs": [],
   "source": [
    "first_extubated_day = {}\n",
    "for i, r in data.loc[idx, :].iterrows():\n",
    "    first_extubated_day[i] = data.ICU_Day[\n",
    "        data.pt_study_id.eq(r.pt_study_id)\n",
    "        & data.icu_rank.eq(r.icu_rank)\n",
    "        & data.ICU_Day.gt(r.ICU_Day)\n",
    "        & data.on_intub.eq(0)\n",
    "    ].min()\n",
    "first_extubated_day = pd.Series(first_extubated_day)"
   ]
  },
  {
   "cell_type": "code",
   "execution_count": 322,
   "id": "f22936db-8181-40e1-8539-9f4ba00fd608",
   "metadata": {},
   "outputs": [],
   "source": [
    "first_extubated_day = first_extubated_day.dropna()"
   ]
  },
  {
   "cell_type": "code",
   "execution_count": 323,
   "id": "374953d7-f403-4064-ab1a-e13eb820086d",
   "metadata": {},
   "outputs": [],
   "source": [
    "extubation_based_episode_duration = (first_extubated_day - data.ICU_Day[first_extubated_day.index])"
   ]
  },
  {
   "cell_type": "markdown",
   "id": "28b7b215-84f0-46de-a773-91cb90ff004b",
   "metadata": {},
   "source": [
    "How many records have shorter duration?"
   ]
  },
  {
   "cell_type": "code",
   "execution_count": 324,
   "id": "b763656e-067c-4990-ad19-82420df04e2b",
   "metadata": {},
   "outputs": [
    {
     "data": {
      "text/plain": [
       "True     137\n",
       "False    106\n",
       "dtype: int64"
      ]
     },
     "execution_count": 324,
     "metadata": {},
     "output_type": "execute_result"
    }
   ],
   "source": [
    "extubation_based_episode_duration.lt(\n",
    "    data.episode_duration[extubation_based_episode_duration.index]\n",
    ").value_counts(dropna=False)"
   ]
  },
  {
   "cell_type": "markdown",
   "id": "036e1080-ed9b-4e4a-b7d1-60e11b472d36",
   "metadata": {},
   "source": [
    "Let's pick only those which are shorter"
   ]
  },
  {
   "cell_type": "code",
   "execution_count": 325,
   "id": "1164fbe4-a1b2-4bb2-b30d-836cbf4818cc",
   "metadata": {},
   "outputs": [],
   "source": [
    "extubation_based_episode_duration = extubation_based_episode_duration[\n",
    "    extubation_based_episode_duration.lt(\n",
    "        data.episode_duration[extubation_based_episode_duration.index]\n",
    "    )\n",
    "]"
   ]
  },
  {
   "cell_type": "markdown",
   "id": "d4a07ece-9850-4a2f-93eb-ba1b5bdda05a",
   "metadata": {},
   "source": [
    "What is the distribution of the difference between episode duration obtained from Redcap and this extubation-based episode duration?"
   ]
  },
  {
   "cell_type": "code",
   "execution_count": 326,
   "id": "242d61b4-b119-416e-86f5-567de423977d",
   "metadata": {},
   "outputs": [
    {
     "data": {
      "image/png": "[encoded data removed]",
      "text/plain": [
       "<Figure size 432x216 with 1 Axes>"
      ]
     },
     "metadata": {
      "needs_background": "light"
     },
     "output_type": "display_data"
    }
   ],
   "source": [
    "fig, ax = plt.subplots(figsize=(6, 3))\n",
    "ax.hist(\n",
    "    extubation_based_episode_duration - data.episode_duration[extubation_based_episode_duration.index],\n",
    "    bins=20\n",
    ");"
   ]
  },
  {
   "cell_type": "code",
   "execution_count": 327,
   "id": "eb3317e6-b07a-44d3-b197-c792624f0c40",
   "metadata": {},
   "outputs": [],
   "source": [
    "data.loc[\n",
    "    extubation_based_episode_duration.index, \n",
    "    \"episode_duration\"\n",
    "] = extubation_based_episode_duration"
   ]
  },
  {
   "cell_type": "markdown",
   "id": "c118ae42-56da-48f5-bddf-0422aad3b50d",
   "metadata": {},
   "source": [
    "### 4. Find overlapping episodes"
   ]
  },
  {
   "cell_type": "code",
   "execution_count": 328,
   "id": "8f3aab6e-cb8f-4b3a-80d6-e6d0efd3af8b",
   "metadata": {},
   "outputs": [],
   "source": [
    "idx = ~data.episode_duration.isna()"
   ]
  },
  {
   "cell_type": "code",
   "execution_count": 329,
   "id": "d961ba87-6b92-47d4-b3a9-367465b14834",
   "metadata": {},
   "outputs": [],
   "source": [
    "next_episode_idx = []\n",
    "for i, r in data.loc[idx, :].iterrows():\n",
    "    next_episode = data.loc[\n",
    "        data.pt_study_id.eq(r.pt_study_id)\n",
    "        & (data.icu_rank.gt(r.icu_rank) \n",
    "           | (data.icu_rank.eq(r.icu_rank) \n",
    "              & data.ICU_Day.gt(r.ICU_Day)))\n",
    "        & data.episode_type.isin([\"CAP\", \"HAP\", \"VAP\"])\n",
    "    ].head(1)\n",
    "    if next_episode.size > 0:\n",
    "        next_idx = next_episode.index[0]\n",
    "        next_episode_idx.append((i, next_idx))\n",
    "next_episode_idx = pd.DataFrame(\n",
    "    next_episode_idx, \n",
    "    columns=[\"this_episode\", \"next_episode_index\"]\n",
    ")"
   ]
  },
  {
   "cell_type": "code",
   "execution_count": 330,
   "id": "7df5f3c5-57d2-41af-b748-de035e7739a6",
   "metadata": {},
   "outputs": [],
   "source": [
    "delta = data.day_bucket_starts[next_episode_idx.next_episode_index].values - (\n",
    "    data.day_bucket_starts[next_episode_idx.this_episode]\n",
    "    + pd.to_timedelta(data.episode_duration[next_episode_idx.this_episode], unit=\"d\")\n",
    ")"
   ]
  },
  {
   "cell_type": "code",
   "execution_count": 331,
   "id": "c84c13bf-6c07-4eb4-8a1f-5beeab555b8e",
   "metadata": {},
   "outputs": [],
   "source": [
    "overlapping = delta.loc[delta < pd.Timedelta(0)]"
   ]
  },
  {
   "cell_type": "markdown",
   "id": "16853ee0-2962-49f4-80e1-4e8fa19281e5",
   "metadata": {},
   "source": [
    "List of all overlapping episodes"
   ]
  },
  {
   "cell_type": "markdown",
   "id": "223bad7a-842e-44da-99af-5b9418321316",
   "metadata": {},
   "source": [
    "data.loc[overlapping.index, [\"pt_study_id\", \"icu_rank\", \"ICU_Day\", \"day_bucket_starts\",\n",
    "                             \"episode_type\", \"etiology\", \"cured\"]]"
   ]
  },
  {
   "cell_type": "markdown",
   "id": "03a57c16-8f33-4067-aad8-f13a0d9d6807",
   "metadata": {},
   "source": [
    "Here we're interested in VAPs only.\n",
    "\n",
    "We will exclude Viral VAPs from analysis, because the Episode duration for such episodes is inaccurate and tricky. Also, majority of such episodes are first episodes in our dataset, these patients had previous episodes in other places and were transferred."
   ]
  },
  {
   "cell_type": "markdown",
   "id": "b847e879-7020-44d4-b1a2-aa92677f0e20",
   "metadata": {},
   "source": [
    "Check which viral VAPs are first episodes in our data"
   ]
  },
  {
   "cell_type": "code",
   "execution_count": 333,
   "id": "f802635b-f6f6-4e12-b413-82be8e943a57",
   "metadata": {},
   "outputs": [],
   "source": [
    "viral_vap_patients = data.loc[\n",
    "    data.episode_type.eq(\"VAP\") & data.etiology.eq(\"Viral\")\n",
    "].pt_study_id"
   ]
  },
  {
   "cell_type": "code",
   "execution_count": 334,
   "id": "b7c9a8c0-e8f4-4492-9ea7-239f06bda7b0",
   "metadata": {},
   "outputs": [],
   "source": [
    "patient_first_ep = data.loc[\n",
    "    data.episode_type.isin([\"CAP\", \"HAP\", \"VAP\"])\n",
    "].groupby(\"pt_study_id\").head(1)"
   ]
  },
  {
   "cell_type": "code",
   "execution_count": 335,
   "id": "01d20395-fa76-4023-9c51-533caf65a98d",
   "metadata": {},
   "outputs": [
    {
     "data": {
      "text/plain": [
       "array([ True,  True,  True,  True,  True,  True,  True, False,  True,\n",
       "        True,  True,  True,  True,  True,  True,  True,  True,  True,\n",
       "        True,  True,  True,  True,  True,  True, False,  True,  True,\n",
       "        True,  True,  True,  True,  True,  True,  True,  True,  True,\n",
       "        True,  True, False,  True,  True,  True,  True,  True,  True,\n",
       "        True,  True,  True,  True])"
      ]
     },
     "execution_count": 335,
     "metadata": {},
     "output_type": "execute_result"
    }
   ],
   "source": [
    "viral_vap_patients.index.isin(patient_first_ep.index)"
   ]
  },
  {
   "cell_type": "markdown",
   "id": "e4855d58-0c0b-4283-a6fc-6bb3c11ecf7f",
   "metadata": {},
   "source": [
    "viral_vap_patients[~viral_vap_patients.index.isin(patient_first_ep.index)]"
   ]
  },
  {
   "cell_type": "markdown",
   "id": "10f97404-2ce5-4b90-ad64-0c390f7eb103",
   "metadata": {},
   "source": [
    "### 5. Manual fixes after reviews by clinicians"
   ]
  },
  {
   "cell_type": "code",
   "execution_count": 337,
   "id": "705a5b87-5046-48f5-899c-b5814921ffbb",
   "metadata": {},
   "outputs": [],
   "source": [
    "data.loc[3605, [\"cured\", \"cured_src\", \"episode_duration\", \"episode_duration_src\"]] = [\"Cured\", \"clin_impr_d14\", 14, \"clin_impr_d14\"]\n",
    "data.loc[\n",
    "    3610, \n",
    "    [\"cured\", \"cured_src\", \"episode_duration\", \"episode_duration_src\", \"etiology\", \"episode_type\"]\n",
    "] = np.nan"
   ]
  },
  {
   "cell_type": "code",
   "execution_count": 338,
   "id": "b18e44c1-461d-453e-acfc-817af00ba503",
   "metadata": {},
   "outputs": [],
   "source": [
    "data.loc[12709, [\"cured_src\", \"episode_duration\", \"episode_duration_src\"]] = [\"clin_impr_d14\", 18, \"day_antibiotics_stop\"]\n",
    "data.loc[\n",
    "    12715, \n",
    "    [\"cured\", \"cured_src\", \"episode_duration\", \"episode_duration_src\", \"etiology\", \"episode_type\"]\n",
    "] = np.nan"
   ]
  },
  {
   "cell_type": "markdown",
   "id": "63a7ebd8-5a77-4eff-856b-21fcc9e6b860",
   "metadata": {},
   "source": [
    "### 6. Recheck overlapping episodes"
   ]
  },
  {
   "cell_type": "code",
   "execution_count": 339,
   "id": "3de0f2ba-2800-414f-8acb-f6383146ab63",
   "metadata": {},
   "outputs": [],
   "source": [
    "idx = ~data.episode_duration.isna()"
   ]
  },
  {
   "cell_type": "code",
   "execution_count": 340,
   "id": "12cf2fba-2a6a-4251-a76d-37dd29f490ce",
   "metadata": {},
   "outputs": [],
   "source": [
    "next_episode_idx = []\n",
    "for i, r in data.loc[idx, :].iterrows():\n",
    "    next_episode = data.loc[\n",
    "        data.pt_study_id.eq(r.pt_study_id)\n",
    "        & (data.icu_rank.gt(r.icu_rank) \n",
    "           | (data.icu_rank.eq(r.icu_rank) \n",
    "              & data.ICU_Day.gt(r.ICU_Day)))\n",
    "        & data.episode_type.isin([\"CAP\", \"HAP\", \"VAP\"])\n",
    "    ].head(1)\n",
    "    if next_episode.size > 0:\n",
    "        next_idx = next_episode.index[0]\n",
    "        next_episode_idx.append((i, next_idx))\n",
    "next_episode_idx = pd.DataFrame(\n",
    "    next_episode_idx, \n",
    "    columns=[\"this_episode\", \"next_episode_index\"]\n",
    ")"
   ]
  },
  {
   "cell_type": "code",
   "execution_count": 341,
   "id": "6c2ed4f4-db0d-4e46-b532-872da5165d2b",
   "metadata": {},
   "outputs": [],
   "source": [
    "delta = data.day_bucket_starts[next_episode_idx.next_episode_index].values - (\n",
    "    data.day_bucket_starts[next_episode_idx.this_episode]\n",
    "    + pd.to_timedelta(data.episode_duration[next_episode_idx.this_episode], unit=\"d\")\n",
    ")"
   ]
  },
  {
   "cell_type": "code",
   "execution_count": 342,
   "id": "fc77de8d-4e2d-4d7c-be28-323739fe5fee",
   "metadata": {},
   "outputs": [],
   "source": [
    "overlapping = delta.loc[delta < pd.Timedelta(0)]"
   ]
  },
  {
   "cell_type": "markdown",
   "id": "fd304ea2-4c83-471e-92d1-889de2816158",
   "metadata": {},
   "source": [
    "List of all overlapping episodes"
   ]
  },
  {
   "cell_type": "markdown",
   "id": "93cef54b-c4f1-49df-8a3a-158ff22d06f9",
   "metadata": {},
   "source": [
    "data.loc[overlapping.index, [\"pt_study_id\", \"icu_rank\", \"ICU_Day\", \"day_bucket_starts\",\n",
    "                             \"episode_type\", \"etiology\", \"cured\"]]"
   ]
  },
  {
   "cell_type": "code",
   "execution_count": 344,
   "id": "419ba67b-24e3-41ea-aaf3-2dc7e90aa0fb",
   "metadata": {},
   "outputs": [
    {
     "name": "stdout",
     "output_type": "stream",
     "text": [
      "Number of patients: 601\n",
      "Number of ICU-days: 13391\n"
     ]
    }
   ],
   "source": [
    "print(f\"Number of patients: {data.pt_study_id.nunique()}\")\n",
    "print(f\"Number of ICU-days: {data.shape[0]}\")"
   ]
  },
  {
   "cell_type": "markdown",
   "id": "29971e52-96ff-4c86-bf9c-3baf4f6e7237",
   "metadata": {},
   "source": [
    "# 9. Clean columns and names"
   ]
  },
  {
   "cell_type": "code",
   "execution_count": 345,
   "id": "dceb26d2-da15-4ab3-969c-574bdfc43433",
   "metadata": {},
   "outputs": [],
   "source": [
    "to_drop = \"\"\"admission_datetime\n",
    "discharge_datetime_x\n",
    "discharge_datetime_y\n",
    "icu_start_dt\n",
    "icu_stop_dt\n",
    "date_x\n",
    "date_y\n",
    "person_id\n",
    "measurement_datetime\n",
    "patient_ir_id_y\n",
    "cohort_patient_id\n",
    "patient_x\n",
    "patient_y\n",
    "First_intub_start\n",
    "First_intub_stop\n",
    "Second_intub_start\n",
    "Second_intub_stop\n",
    "Third_intub_start\n",
    "Third_intub_stop\n",
    "Fourth_intub_start\n",
    "Fourth_intub_stop\n",
    "Fifth_intub_start\n",
    "Fifth_intub_stop\n",
    "first_recorded_ecmo\n",
    "last_recorded_ecmo\n",
    "P_F_ratio_points\n",
    "PF_dt\n",
    "intub_flag\n",
    "platelet_points\n",
    "Platelet_dt\n",
    "bilirubin_points\n",
    "bilirubin_dt\n",
    "htn_points\n",
    "map_dts\n",
    "length_of_time_on_med_in_min\n",
    "gcs_points\n",
    "gcs_dts\n",
    "verbal_score_estimated_ind\n",
    "renal_points\n",
    "creatinine_dt\n",
    "HD_or_CRRT_flag\n",
    "patient_ir_id_x\n",
    "Death_date\n",
    "discharge_disposition_name\n",
    "external_transfer_flag\n",
    "admission_source_name\n",
    "binary_outcome\n",
    "\n",
    "\"\"\".strip().split(\"\\n\")\n",
    "data.drop(to_drop, axis=1, inplace=True)"
   ]
  },
  {
   "cell_type": "code",
   "execution_count": 346,
   "id": "26161696-41cf-4565-9192-8b9700edaef3",
   "metadata": {},
   "outputs": [],
   "source": [
    "data = data.rename(columns={\n",
    "    'on_ecmo': 'ECMO_flag',\n",
    "    'on_intub': 'Intubation_flag',\n",
    "    'HD_flag': 'Hemodialysis_flag',\n",
    "    'mean_body_temp': 'Temperature', \n",
    "    'mean_heart_rate': 'Heart_rate',\n",
    "    'mean_sys_blood_press': 'Systolic_blood_pressure', \n",
    "    'mean_dia_blood_press': 'Diastolic_blood_pressure',\n",
    "    'map': 'Mean_arterial_pressure', \n",
    "    'mcg/kg/min': 'Norepinephrine_rate', \n",
    "    'mean_resp_rate': 'Respiratory_rate',\n",
    "    'mean_oxigen_sat': 'Oxygen_saturation', \n",
    "    'urine_output': 'Urine_output', \n",
    "    'eye_opening_score': 'GCS_eye_opening',\n",
    "    'best_motor_response_score': 'GCS_motor_response', \n",
    "    'best_verbal_response_score': 'GCS_verbal_response', \n",
    "    'rass_score': 'RASS_score', \n",
    "    'Peep': 'PEEP',\n",
    "    'Static_Compliance': 'Lung_Compliance', \n",
    "    'n_peep_changes': 'PEEP_changes',\n",
    "    'n_set_rate_changes': 'Respiratory_rate_changes', \n",
    "    'n_fio2_changes': 'FiO2_changes', \n",
    "    'mean_abg_ph': 'ABG_pH', \n",
    "    'mean_abg_paco2': 'ABG_PaCO2',\n",
    "    'mean_abg_pao2':  'ABG_PaO2', \n",
    "    'PF_ratio': 'PaO2FIO2_ratio', \n",
    "    'WBC count': 'WBC_count', \n",
    "    'Platelet': 'Platelets',  \n",
    "    'creatinine': 'Creatinine',\n",
    "    'bilirubin': 'Bilirubin',\n",
    "    'D-dimer': 'D_dimer',\n",
    "    'Lactic Acid': 'Lactic_acid',\n",
    "    \n",
    "    'SOFA2':'SOFA_score', #adding this row as recalculated it above \n",
    "    \n",
    "    'pt_study_id': 'patient',\n",
    "    'icu_rank': 'stay',\n",
    "    'ICU_Day': 'day',\n",
    "    'death_date':'Death_date',\n",
    "    \n",
    "    'num_aliquot_cryopres': 'Cryopreserved_samples',\n",
    "    'ID': 'Single_cell_library',\n",
    "    'Chemistry': 'Single_cell_chemistry',\n",
    "    'etiology': 'Episode_etiology',\n",
    "    'cured': 'Episode_is_cured',\n",
    "    'cured_src': 'Episode_is_cured_source',\n",
    "    'episode_duration': 'Episode_duration',\n",
    "    'episode_duration_src': 'Episode_duration_source',\n",
    "    'episode_type': 'Episode_category',\n",
    "    'cause_failure': 'Global_cause_failure'\n",
    "\n",
    "})"
   ]
  },
  {
   "cell_type": "code",
   "execution_count": 347,
   "id": "9b331864-1e9c-4195-8365-cc34a5c5d46c",
   "metadata": {
    "tags": []
   },
   "outputs": [],
   "source": [
    "to_drop = \"\"\"\n",
    "ir_id_x\n",
    "SOFA\n",
    "ir_id_y\n",
    "case_number\n",
    "lung_transplant\n",
    "meta_orignl_load_dts\n",
    "meta_load_exectn_guid\n",
    "administration_date\n",
    "hypotension_points\n",
    "htn_med_name\n",
    "dosage\n",
    "mean_abg_bicarb\n",
    "\"\"\".strip().split(\"\\n\")\n",
    "data.drop(to_drop, axis=1, inplace=True)"
   ]
  },
  {
   "cell_type": "code",
   "execution_count": 348,
   "id": "f8cce52b-39d8-4fe6-89b7-fb73a327a8b1",
   "metadata": {},
   "outputs": [],
   "source": [
    "data = data.rename(columns={\n",
    "    'stay': 'ICU_stay',\n",
    "    'day': 'ICU_day',\n",
    "})"
   ]
  },
  {
   "cell_type": "code",
   "execution_count": 349,
   "id": "173cf2fb-f89a-44d8-8ba1-fc9487e434e7",
   "metadata": {},
   "outputs": [],
   "source": [
    "parameters_order = [\n",
    "    # Patient-level things\n",
    "\n",
    "    'Patient_id', 'patient', 'External_transfer_flag',\n",
    "       'Admission_source_name', 'Discharge_disposition', 'Binary_outcome',\n",
    "       'Death_date', 'Global_cause_failure', \n",
    "            'Patient_category', 'COVID_status', #add back in later\n",
    "    \n",
    "    'Age', 'Ethnicity', 'Gender', 'Race', 'Smoking_status',\n",
    "       'BMI', 'Admit_APS_score', 'Admit_SOFA_score',  'Cumulative_ICU_days', 'Number_of_ICU_stays',\n",
    "       'Tracheostomy_flag', 'Cumulative_intubation_days',\n",
    "    \n",
    "    # Stay-level things\n",
    "    'icu_stay_start_datetime', 'icu_stay_stop_datetime', 'ICU_stay',\n",
    "    # Day-level things\n",
    "    'day_bucket_starts', 'ICU_day', 'SOFA_score', #CAG 7-21 changed from SOFA to SOFA_score\n",
    "    # Day-level parameters\n",
    "    'ECMO_flag', 'Intubation_flag',\n",
    "    'Hemodialysis_flag', 'CRRT_flag', 'Temperature', 'Heart_rate',\n",
    "    'Systolic_blood_pressure', 'Diastolic_blood_pressure',\n",
    "    'Mean_arterial_pressure', 'Norepinephrine_rate', \n",
    "    'Norepinephrine_flag', #CAG 7-21 added this \n",
    "    'Respiratory_rate',\n",
    "    'Oxygen_saturation', 'Urine_output', 'GCS_eye_opening',\n",
    "    'GCS_motor_response', 'GCS_verbal_response', 'RASS_score', 'PEEP',\n",
    "    'FiO2', 'Plateau_Pressure', 'Lung_Compliance', 'PEEP_changes',\n",
    "    'Respiratory_rate_changes', 'FiO2_changes', 'ABG_pH', 'ABG_PaCO2',\n",
    "    'ABG_PaO2', 'PaO2FIO2_ratio', 'WBC_count', 'Lymphocytes', 'Neutrophils',\n",
    "    'Hemoglobin', 'Platelets', 'Bicarbonate', 'Creatinine', 'Albumin',\n",
    "    'Bilirubin', 'CRP', 'D_dimer', 'Ferritin', 'LDH', 'Lactic_acid',\n",
    "    'Procalcitonin',\n",
    "    \n",
    "    # BAL things\n",
    "    'bal_barcode', 'bar_barcode', 'Cryopreserved_samples', 'Single_cell_library', \n",
    "    'Single_cell_chemistry',\n",
    "    # Episode things\n",
    "    'Episode_category', 'Episode_etiology', 'Episode_is_cured', \n",
    "    'Episode_is_cured_source', 'Episode_duration', 'Episode_duration_source', \n",
    "\n",
    "]\n",
    "data = data[parameters_order].copy()"
   ]
  },
  {
   "cell_type": "code",
   "execution_count": 350,
   "id": "a96ba52d-7be7-489f-bbcc-f5a9da92bd9e",
   "metadata": {},
   "outputs": [
    {
     "data": {
      "text/plain": [
       "(13391, 83)"
      ]
     },
     "execution_count": 350,
     "metadata": {},
     "output_type": "execute_result"
    }
   ],
   "source": [
    "data.shape"
   ]
  },
  {
   "cell_type": "code",
   "execution_count": 351,
   "id": "9c3aeeac-83df-4dc5-b8d9-48a48a73e668",
   "metadata": {},
   "outputs": [],
   "source": [
    "data.External_transfer_flag = data.External_transfer_flag.astype(int)"
   ]
  },
  {
   "cell_type": "code",
   "execution_count": 352,
   "id": "1fab5d3e-c99c-4a02-8106-37b14d47a3b8",
   "metadata": {},
   "outputs": [],
   "source": [
    "data.ECMO_flag = data.ECMO_flag.astype(int)\n",
    "data.Intubation_flag = data.Intubation_flag.astype(int)"
   ]
  },
  {
   "cell_type": "code",
   "execution_count": 353,
   "id": "3cdb098f",
   "metadata": {},
   "outputs": [],
   "source": [
    "data.ICU_stay = data.ICU_stay.astype(int)\n",
    "data.ICU_day = data.ICU_day.astype(int)\n",
    "data.patient = data.patient.astype(int)"
   ]
  },
  {
   "cell_type": "code",
   "execution_count": 354,
   "id": "8253182b-0191-4295-884e-96136cf45c62",
   "metadata": {},
   "outputs": [],
   "source": [
    "data.Age = data.Age.astype(int)\n",
    "data.Patient_id = data.Patient_id.astype(int)\n",
    "data.Binary_outcome = data.Binary_outcome.astype(int)\n",
    "data.Cumulative_ICU_days = data.Cumulative_ICU_days.astype(int)\n",
    "data.Number_of_ICU_stays = data.Number_of_ICU_stays.astype(int)\n",
    "data.Tracheostomy_flag = data.Tracheostomy_flag.astype(int)\n",
    "data.Cumulative_intubation_days = data.Cumulative_intubation_days.astype(int)\n",
    "data.SOFA_score = data.SOFA_score.astype(int)\n",
    "data.Norepinephrine_flag = data.Norepinephrine_flag.astype(int)"
   ]
  },
  {
   "cell_type": "markdown",
   "id": "b7d99e70-bc6b-4be6-bc79-1fd56ad89267",
   "metadata": {},
   "source": [
    "Set BAL flags"
   ]
  },
  {
   "cell_type": "code",
   "execution_count": 355,
   "id": "0472feee-2405-45b6-a504-891b82e1dc16",
   "metadata": {},
   "outputs": [],
   "source": [
    "data.insert(data.columns.get_loc(\"bal_barcode\"), \"has_bal\", ~data.bal_barcode.isna())"
   ]
  },
  {
   "cell_type": "code",
   "execution_count": 356,
   "id": "40287844-905a-4ea0-8d2d-19d3adf53b6b",
   "metadata": {},
   "outputs": [],
   "source": [
    "data.insert(\n",
    "    data.columns.get_loc(\"Single_cell_library\"), \"bal_sequenced\", ~data.Single_cell_library.isna()\n",
    ")"
   ]
  },
  {
   "cell_type": "markdown",
   "id": "301c5c94-3f3a-4e75-a9cf-70e97df3f679",
   "metadata": {},
   "source": [
    "# 10. Fill dialysis `NA` with `0` "
   ]
  },
  {
   "cell_type": "code",
   "execution_count": 357,
   "id": "a7e9384f-e5f9-4f78-b1ad-22f2ad72cdb5",
   "metadata": {},
   "outputs": [
    {
     "data": {
      "text/plain": [
       "NaN    12599\n",
       "1.0      792\n",
       "Name: Hemodialysis_flag, dtype: int64"
      ]
     },
     "execution_count": 357,
     "metadata": {},
     "output_type": "execute_result"
    }
   ],
   "source": [
    "data.Hemodialysis_flag.value_counts(dropna=False)\n"
   ]
  },
  {
   "cell_type": "code",
   "execution_count": 358,
   "id": "6fdef18c-94b1-4c83-afff-23a49a04b5b1",
   "metadata": {},
   "outputs": [],
   "source": [
    "data.Hemodialysis_flag.fillna(0, inplace=True)"
   ]
  },
  {
   "cell_type": "code",
   "execution_count": 359,
   "id": "3e60455e-5d8a-495a-9e91-e935c103f03c",
   "metadata": {},
   "outputs": [],
   "source": [
    "data.Hemodialysis_flag = data.Hemodialysis_flag.astype(int)"
   ]
  },
  {
   "cell_type": "code",
   "execution_count": 360,
   "id": "da72b311-6de9-47ad-b533-c3475e526409",
   "metadata": {},
   "outputs": [
    {
     "data": {
      "text/plain": [
       "NaN    11451\n",
       "1.0     1940\n",
       "Name: CRRT_flag, dtype: int64"
      ]
     },
     "execution_count": 360,
     "metadata": {},
     "output_type": "execute_result"
    }
   ],
   "source": [
    "data.CRRT_flag.value_counts(dropna=False)"
   ]
  },
  {
   "cell_type": "code",
   "execution_count": 361,
   "id": "fe21f575-c95f-4f65-926c-521fd304c1a8",
   "metadata": {},
   "outputs": [],
   "source": [
    "data.CRRT_flag.fillna(0, inplace=True)"
   ]
  },
  {
   "cell_type": "code",
   "execution_count": 362,
   "id": "e561130f-d0e0-4c09-8918-80cf2bebb5f2",
   "metadata": {},
   "outputs": [
    {
     "data": {
      "text/plain": [
       "0.0    11451\n",
       "1.0     1940\n",
       "Name: CRRT_flag, dtype: int64"
      ]
     },
     "execution_count": 362,
     "metadata": {},
     "output_type": "execute_result"
    }
   ],
   "source": [
    "data.CRRT_flag.value_counts()"
   ]
  },
  {
   "cell_type": "code",
   "execution_count": 363,
   "id": "9616162e-87c1-44f2-8762-0260af1da385",
   "metadata": {},
   "outputs": [],
   "source": [
    "data.CRRT_flag = data.CRRT_flag.astype(int)"
   ]
  },
  {
   "cell_type": "markdown",
   "id": "53420c2b-2d9b-494a-884d-1e1cd31199a3",
   "metadata": {},
   "source": [
    "# 11. Range curation"
   ]
  },
  {
   "cell_type": "code",
   "execution_count": 364,
   "id": "341bda8b-d49f-425e-8f5e-6873285cb21f",
   "metadata": {},
   "outputs": [],
   "source": [
    "columns_to_curate = [\n",
    "    'Mean_arterial_pressure', 'Norepinephrine_rate', \n",
    "    'Urine_output', 'GCS_eye_opening', 'GCS_motor_response',\n",
    "    'GCS_verbal_response', 'RASS_score', 'PaO2FIO2_ratio',\n",
    "    'Platelets', 'Creatinine', 'Bilirubin'\n",
    "]"
   ]
  },
  {
   "cell_type": "code",
   "execution_count": 365,
   "id": "b69f487a-8183-4beb-878e-ac6d740d7400",
   "metadata": {},
   "outputs": [
    {
     "data": {
      "image/png": "[encoded data removed]",
      "text/plain": [
       "<Figure size 1152x1152 with 11 Axes>"
      ]
     },
     "metadata": {
      "needs_background": "light"
     },
     "output_type": "display_data"
    }
   ],
   "source": [
    "columns = np.array(columns_to_curate)\n",
    "cols = np.pad(columns, (0, 12 - columns.size), constant_values=np.nan).reshape(4, 3)\n",
    "fig, axes = plt.subplots(\n",
    "    nrows=cols.shape[0], \n",
    "    ncols=cols.shape[1], \n",
    "    figsize=(16, 16), \n",
    "    gridspec_kw={\"wspace\": 0.4, \"hspace\": 0.5}\n",
    ")\n",
    "for row in range(axes.shape[0]):\n",
    "    for col in range(axes.shape[1]):\n",
    "        column = cols[row, col]\n",
    "        ax = axes[row, col]\n",
    "        if isinstance(column, str) and column in data:\n",
    "            ax.hist(\n",
    "                data[column], \n",
    "                bins=50,\n",
    "#                 log=True\n",
    "            )\n",
    "            ax.set_title(column + f\" {data[column].isna().sum() * 100 / data.shape[0]:.2f}% NA\")\n",
    "        else:\n",
    "            ax.remove()"
   ]
  },
  {
   "cell_type": "code",
   "execution_count": 366,
   "id": "5b8475f5-812b-4749-8ca2-ea66a06ba3f0",
   "metadata": {},
   "outputs": [],
   "source": [
    "allowed_range = {\n",
    "    \"Mean_arterial_pressure\": (20, 130),\n",
    "    \"Urine_output\": (0, 7000),\n",
    "    \"PaO2FIO2_ratio\": (0, 800),\n",
    "    \"Platelets\": (0, 800),\n",
    "    \"Creatinine\": (0, 8),\n",
    "    \"Bilirubin\": (0, 15),\n",
    "}"
   ]
  },
  {
   "cell_type": "code",
   "execution_count": 367,
   "id": "3ac8cda9-0b24-46a2-9261-8141ee4f8269",
   "metadata": {},
   "outputs": [
    {
     "name": "stdout",
     "output_type": "stream",
     "text": [
      "# of values outside of range (20, 130) for Mean_arterial_pressure = 79\n",
      "# of values outside of range (0, 7000) for Urine_output = 14\n",
      "# of values outside of range (0, 800) for PaO2FIO2_ratio = 25\n",
      "# of values outside of range (0, 800) for Platelets = 24\n",
      "# of values outside of range (0, 8) for Creatinine = 34\n",
      "# of values outside of range (0, 15) for Bilirubin = 307\n"
     ]
    }
   ],
   "source": [
    "for column in data.columns:\n",
    "    for c, ranges in allowed_range.items():\n",
    "        if column == c:\n",
    "            break\n",
    "        if c in column:\n",
    "            break\n",
    "    if c != column and c not in column:\n",
    "        continue\n",
    "    n_val = ((data[column] < ranges[0]) | (data[column] > ranges[1])).sum()\n",
    "    data.loc[(data[column] < ranges[0]) | (data[column] > ranges[1]), column] = np.nan\n",
    "    print(f\"# of values outside of range {ranges} for {column} = {n_val}\")\n"
   ]
  },
  {
   "cell_type": "code",
   "execution_count": 368,
   "id": "33044c49-85d8-40ee-b4a1-640097a70e29",
   "metadata": {},
   "outputs": [
    {
     "data": {
      "image/png": "[encoded data removed]",
      "text/plain": [
       "<Figure size 1152x1152 with 11 Axes>"
      ]
     },
     "metadata": {
      "needs_background": "light"
     },
     "output_type": "display_data"
    }
   ],
   "source": [
    "columns = np.array(columns_to_curate)\n",
    "cols = np.pad(columns, (0, 12 - columns.size), constant_values=np.nan).reshape(4, 3)\n",
    "fig, axes = plt.subplots(\n",
    "    nrows=cols.shape[0], \n",
    "    ncols=cols.shape[1], \n",
    "    figsize=(16, 16), \n",
    "    gridspec_kw={\"wspace\": 0.4, \"hspace\": 0.5}\n",
    ")\n",
    "for row in range(axes.shape[0]):\n",
    "    for col in range(axes.shape[1]):\n",
    "        column = cols[row, col]\n",
    "        ax = axes[row, col]\n",
    "        if isinstance(column, str) and column in data:\n",
    "            ax.hist(\n",
    "                data[column], \n",
    "                bins=50,\n",
    "#                 log=True\n",
    "            )\n",
    "            ax.set_title(column + f\" {data[column].isna().sum() * 100 / data.shape[0]:.2f}% NA\")\n",
    "        else:\n",
    "            ax.remove()"
   ]
  },
  {
   "cell_type": "markdown",
   "id": "41603d9d-08de-48db-b250-39784adf121b",
   "metadata": {},
   "source": [
    "# 12. Set Global cause failure to all patient-days"
   ]
  },
  {
   "cell_type": "markdown",
   "id": "cf1deca1-88d3-4dff-b166-3df35476ed2a",
   "metadata": {},
   "source": [
    "Check noone has 2 global causes"
   ]
  },
  {
   "cell_type": "code",
   "execution_count": 369,
   "id": "f80302ee-581c-4007-8baa-f893ed9ab54e",
   "metadata": {},
   "outputs": [
    {
     "data": {
      "text/plain": [
       "0"
      ]
     },
     "execution_count": 369,
     "metadata": {},
     "output_type": "execute_result"
    }
   ],
   "source": [
    "data.groupby(\"patient\").Global_cause_failure.nunique().gt(1).sum()"
   ]
  },
  {
   "cell_type": "code",
   "execution_count": 370,
   "id": "2f0088de-4cb3-471f-bc43-d14df38d37c6",
   "metadata": {},
   "outputs": [],
   "source": [
    "global_cause = data.loc[\n",
    "    :, \n",
    "    [\"patient\", \"Global_cause_failure\"]\n",
    "].dropna().drop_duplicates().set_index(\"patient\")"
   ]
  },
  {
   "cell_type": "code",
   "execution_count": 371,
   "id": "b649b5e6-5eb8-4ac9-828f-990a23d859ab",
   "metadata": {},
   "outputs": [],
   "source": [
    "global_cause.Global_cause_failure = global_cause.Global_cause_failure.str.replace(\n",
    "    \"Inflam\", \"Persistent inflammation only\", regex=False\n",
    ").str.replace(\n",
    "    \"Super\", \"Superinfection pneumonia\", regex=False\n",
    ").str.replace(\n",
    "    \"Abx\", \"Antibiotics for other indication\", regex=False\n",
    ")"
   ]
  },
  {
   "cell_type": "code",
   "execution_count": 372,
   "id": "ca331cca-6df2-468f-beab-208bb737d655",
   "metadata": {},
   "outputs": [],
   "source": [
    "idx = data.patient.isin(global_cause.index)\n",
    "data.loc[\n",
    "    idx, \n",
    "    \"Global_cause_failure\"\n",
    "] = global_cause.Global_cause_failure[data.patient[idx]].values"
   ]
  },
  {
   "cell_type": "markdown",
   "id": "e981dc2c-23e0-4c6b-9e0c-d7e4550e0a82",
   "metadata": {},
   "source": [
    "# 13. Save"
   ]
  },
  {
   "cell_type": "code",
   "execution_count": 373,
   "id": "d18791ed-ae28-4f55-9d10-0a01bb67370e",
   "metadata": {},
   "outputs": [],
   "source": [
    "data = data.set_index(\n",
    "    data.patient.astype(str) + \"/\" + data.ICU_stay.astype(str) + \"/\" + data.ICU_day.astype(str)\n",
    ")"
   ]
  },
  {
   "cell_type": "code",
   "execution_count": 374,
   "id": "c5a3a2b9-b042-4e78-8a33-6b1fc595829b",
   "metadata": {},
   "outputs": [],
   "source": [
    "data.sort_values([\"patient\", \"ICU_stay\", \"ICU_day\"], inplace=True)"
   ]
  },
  {
   "cell_type": "code",
   "execution_count": 375,
   "id": "e99b5c50-709a-42a5-9588-236888e8f386",
   "metadata": {},
   "outputs": [],
   "source": [
    "export.full_frame(\n",
    "    user=user,\n",
    "    p=f'{outfolder}/01_assembled_data.csv.gz',\n",
    "    df=data,\n",
    "    index='true'\n",
    ") "
   ]
  },
  {
   "cell_type": "markdown",
   "id": "be660743-5fb5-467a-a39a-869e4ef3fdd8",
   "metadata": {},
   "source": [
    "Necessary step to check, because of pandas rounding when saving/loading"
   ]
  },
  {
   "cell_type": "code",
   "execution_count": 384,
   "id": "983ca6b7-d63e-4591-9d0d-dd5f363acbdf",
   "metadata": {},
   "outputs": [],
   "source": [
    "p = os.path.join(\n",
    "    inout.get_path_from_settings('materials_path'),\n",
    "    'general/01_assembling_data/01_assembled_data.csv.gz'\n",
    ")"
   ]
  },
  {
   "cell_type": "code",
   "execution_count": 385,
   "id": "80efbcd4-5c55-40f3-9d04-c3e372062e92",
   "metadata": {},
   "outputs": [],
   "source": [
    "new = pd.read_csv(p, index_col=0)"
   ]
  },
  {
   "cell_type": "code",
   "execution_count": 386,
   "id": "6be4e74c-d592-4657-96ad-e4138102594d",
   "metadata": {},
   "outputs": [],
   "source": [
    "new.reset_index(drop=True, inplace=True)"
   ]
  },
  {
   "cell_type": "markdown",
   "id": "2adbe70a-58c1-4299-bbd4-90be0a8ae06a",
   "metadata": {
    "tags": []
   },
   "source": [
    "# 14. Check against previous version dataset "
   ]
  },
  {
   "cell_type": "markdown",
   "id": "e1bd3ae4-bff0-4381-9547-0aa92c042b65",
   "metadata": {},
   "source": [
    "p = os.path.join(\n",
    "    inout.get_path_from_settings('resources_path'),\n",
    "    'edw/from_2022-03-23-v5-data-clean/11data-v2-admit_sofa_aps7-11-22.csv.gz'\n",
    ")"
   ]
  },
  {
   "cell_type": "markdown",
   "id": "a1d6ab53-c3df-441f-bd28-6a8b118539e2",
   "metadata": {},
   "source": [
    "current = pd.read_csv(p, index_col=0)"
   ]
  },
  {
   "cell_type": "markdown",
   "id": "262dde40-9fb8-4662-a3e0-7f5968b63c23",
   "metadata": {},
   "source": [
    "current = current.rename(columns={\n",
    "    'stay': 'ICU_stay',\n",
    "    'day': 'ICU_day',\n",
    "})"
   ]
  },
  {
   "cell_type": "markdown",
   "id": "2cb6b3fc-b08a-4f80-9fe7-fff68389295b",
   "metadata": {},
   "source": [
    "current = current.fillna(-999)\n",
    "new = new.fillna(-999)"
   ]
  },
  {
   "cell_type": "markdown",
   "id": "9d78fa8d-5179-437d-b874-4fd3f72b1dfa",
   "metadata": {},
   "source": [
    "for k, v in current.eq(new).sum().iteritems():\n",
    "    if k not in new:\n",
    "        print(f\"Column {k} absent\")\n",
    "        continue\n",
    "    if v < new.shape[0]:\n",
    "        if pd.api.types.is_numeric_dtype(current[k]):\n",
    "            diff = new[k] - current[k]\n",
    "            print(f\"{k}: {new.shape[0] - v} diff, mean={diff.mean()}\")\n",
    "        else:\n",
    "            diff = new[k].ne(current[k])\n",
    "            print(f\"{k}: {new.shape[0] - v} diff\")"
   ]
  }
 ],
 "metadata": {
  "kernelspec": {
   "display_name": "“VirvEnvJuly22forCD”",
   "language": "python",
   "name": "jupyter-kernel-py37"
  },
  "language_info": {
   "codemirror_mode": {
    "name": "ipython",
    "version": 3
   },
   "file_extension": ".py",
   "mimetype": "text/x-python",
   "name": "python",
   "nbconvert_exporter": "python",
   "pygments_lexer": "ipython3",
   "version": "3.8.12"
  }
 },
 "nbformat": 4,
 "nbformat_minor": 5
}
