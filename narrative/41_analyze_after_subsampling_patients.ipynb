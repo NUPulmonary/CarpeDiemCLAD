{
 "cells": [
  {
   "cell_type": "code",
   "execution_count": 1,
   "id": "b461c432",
   "metadata": {},
   "outputs": [],
   "source": [
    "%load_ext autoreload\n",
    "%autoreload 2\n",
    "%config InlineBackend.figure_format = \"retina\""
   ]
  },
  {
   "cell_type": "code",
   "execution_count": 2,
   "id": "a5b71eb4",
   "metadata": {},
   "outputs": [
    {
     "data": {
      "text/html": [
       "<style>.container { width:90% !important; }</style>"
      ],
      "text/plain": [
       "<IPython.core.display.HTML object>"
      ]
     },
     "metadata": {},
     "output_type": "display_data"
    }
   ],
   "source": [
    "import os\n",
    "import sys\n",
    "import numpy as np\n",
    "import pandas as pd\n",
    "import seaborn as sns\n",
    "import matplotlib as mpl\n",
    "import matplotlib.pyplot as plt\n",
    "\n",
    "sys.path.append('./../src/')\n",
    "from manuscript import sankey_side_by_side as sankey\n",
    "from manuscript import clustering, datasets, inout, export\n",
    "\n",
    "from manuscript import iterate_subsamples_over_notebooks\n",
    "\n",
    "pd.options.display.max_columns = 200\n",
    "mpl.rcParams[\"figure.figsize\"] = (10, 8)\n",
    "mpl.rcParams[\"pdf.fonttype\"] = 42\n",
    "mpl.rcParams[\"font.family\"] = \"Arial\"\n",
    "\n",
    "import IPython.display\n",
    "IPython.display.display(IPython.display.HTML(\"<style>.container { width:90% !important; }</style>\"))\n",
    "\n",
    "fonts = inout.get_resource_path('fonts')\n",
    "for f in os.listdir(fonts):\n",
    "    if f.endswith(\".ttf\"):\n",
    "        mpl.font_manager.fontManager.addfont(f\"{fonts}/{f}\")"
   ]
  },
  {
   "cell_type": "code",
   "execution_count": 3,
   "id": "fa558426",
   "metadata": {},
   "outputs": [],
   "source": [
    "import matplotlib.pyplot as plt"
   ]
  },
  {
   "cell_type": "code",
   "execution_count": 4,
   "id": "72f7b282-08f2-478e-837e-877eca948f52",
   "metadata": {},
   "outputs": [],
   "source": [
    "in_user = 'general'     # defines top hierarchy of input folder\n",
    "in_mainstem = '40_iterate_after_subsampling_patients'    \n",
    "\n",
    "\n",
    "out_user = 'general'     # defines top hierarchy of output folder\n",
    "outfolder = '41_analyze_after_subsampling_patients'    # name of notebook\n",
    "save = True"
   ]
  },
  {
   "cell_type": "code",
   "execution_count": 5,
   "id": "62ba6270",
   "metadata": {},
   "outputs": [],
   "source": [
    "def dump_figure(name):\n",
    "    if save:\n",
    "        export.image(\n",
    "            out_user,\n",
    "            f'{outfolder}/{name}',\n",
    "        )"
   ]
  },
  {
   "cell_type": "code",
   "execution_count": 6,
   "id": "34a9ea63-a5e5-4503-b4b8-c4ee3701f355",
   "metadata": {},
   "outputs": [],
   "source": [
    "def dump_table(df, name):\n",
    "    if save:\n",
    "        export.full_frame(\n",
    "            out_user, \n",
    "            f'{outfolder}/{name}', \n",
    "            df, \n",
    "            index=True,\n",
    "            date=False\n",
    "        )"
   ]
  },
  {
   "cell_type": "code",
   "execution_count": 7,
   "id": "e4656865",
   "metadata": {},
   "outputs": [],
   "source": [
    "failed = []"
   ]
  },
  {
   "cell_type": "code",
   "execution_count": 8,
   "id": "ac9c51f5",
   "metadata": {},
   "outputs": [],
   "source": [
    "def get_stats(subpath):\n",
    "    agg = []\n",
    "\n",
    "    for boot in ['all'] + [int(x) for x in range(1, 501)]:\n",
    "    # for boot in [int(x) for x in range(200, 232)]:\n",
    "\n",
    "        if boot != 'all':\n",
    "            boot = f'{boot}'.zfill(4)\n",
    "\n",
    "\n",
    "        outstem = f'{in_mainstem}/{boot}/'\n",
    "\n",
    "\n",
    "        p = inout.get_material_path(\n",
    "            os.path.join(in_user, outstem, subpath)\n",
    "        ) #  outstemaa\n",
    "\n",
    "        df = pd.read_excel(p)\n",
    "        df.loc[:, 'boot'] = boot\n",
    "        agg.append(df)\n",
    "        \n",
    "    df = pd.concat(agg)\n",
    "    return df\n",
    "#    "
   ]
  },
  {
   "cell_type": "code",
   "execution_count": 9,
   "id": "9dcd2786",
   "metadata": {},
   "outputs": [],
   "source": [
    "df = get_stats('06_covid-analysis/n-days-per-cluster_stats.xlsx')"
   ]
  },
  {
   "cell_type": "code",
   "execution_count": 10,
   "id": "04d823e1",
   "metadata": {},
   "outputs": [],
   "source": [
    "df['significant'] = df['pval_adj'] < 0.05\n",
    "df['longer_in_covid'] = df['group2_median'] > df['group1_median']"
   ]
  },
  {
   "cell_type": "code",
   "execution_count": 11,
   "id": "84fb3ca8",
   "metadata": {},
   "outputs": [
    {
     "data": {
      "text/html": [
       "<div>\n",
       "<style scoped>\n",
       "    .dataframe tbody tr th:only-of-type {\n",
       "        vertical-align: middle;\n",
       "    }\n",
       "\n",
       "    .dataframe tbody tr th {\n",
       "        vertical-align: top;\n",
       "    }\n",
       "\n",
       "    .dataframe thead th {\n",
       "        text-align: right;\n",
       "    }\n",
       "</style>\n",
       "<table border=\"1\" class=\"dataframe\">\n",
       "  <thead>\n",
       "    <tr style=\"text-align: right;\">\n",
       "      <th></th>\n",
       "      <th>variable</th>\n",
       "      <th>value</th>\n",
       "      <th>group1</th>\n",
       "      <th>group2</th>\n",
       "      <th>group1_size</th>\n",
       "      <th>group2_size</th>\n",
       "      <th>pval</th>\n",
       "      <th>group1_median</th>\n",
       "      <th>group2_median</th>\n",
       "      <th>pval_adj</th>\n",
       "      <th>boot</th>\n",
       "      <th>significant</th>\n",
       "      <th>longer_in_covid</th>\n",
       "    </tr>\n",
       "  </thead>\n",
       "  <tbody>\n",
       "    <tr>\n",
       "      <th>2</th>\n",
       "      <td>cluster</td>\n",
       "      <td>5</td>\n",
       "      <td>False</td>\n",
       "      <td>True</td>\n",
       "      <td>79</td>\n",
       "      <td>129</td>\n",
       "      <td>1.264980e-04</td>\n",
       "      <td>1.0</td>\n",
       "      <td>3.0</td>\n",
       "      <td>0.000354</td>\n",
       "      <td>all</td>\n",
       "      <td>True</td>\n",
       "      <td>True</td>\n",
       "    </tr>\n",
       "    <tr>\n",
       "      <th>4</th>\n",
       "      <td>cluster</td>\n",
       "      <td>10</td>\n",
       "      <td>False</td>\n",
       "      <td>True</td>\n",
       "      <td>132</td>\n",
       "      <td>115</td>\n",
       "      <td>3.983523e-07</td>\n",
       "      <td>2.0</td>\n",
       "      <td>3.0</td>\n",
       "      <td>0.000002</td>\n",
       "      <td>all</td>\n",
       "      <td>True</td>\n",
       "      <td>True</td>\n",
       "    </tr>\n",
       "    <tr>\n",
       "      <th>5</th>\n",
       "      <td>cluster</td>\n",
       "      <td>11</td>\n",
       "      <td>False</td>\n",
       "      <td>True</td>\n",
       "      <td>47</td>\n",
       "      <td>51</td>\n",
       "      <td>1.099036e-05</td>\n",
       "      <td>2.0</td>\n",
       "      <td>15.0</td>\n",
       "      <td>0.000038</td>\n",
       "      <td>all</td>\n",
       "      <td>True</td>\n",
       "      <td>True</td>\n",
       "    </tr>\n",
       "    <tr>\n",
       "      <th>6</th>\n",
       "      <td>cluster</td>\n",
       "      <td>1</td>\n",
       "      <td>False</td>\n",
       "      <td>True</td>\n",
       "      <td>115</td>\n",
       "      <td>89</td>\n",
       "      <td>1.624799e-07</td>\n",
       "      <td>2.0</td>\n",
       "      <td>4.0</td>\n",
       "      <td>0.000002</td>\n",
       "      <td>all</td>\n",
       "      <td>True</td>\n",
       "      <td>True</td>\n",
       "    </tr>\n",
       "    <tr>\n",
       "      <th>9</th>\n",
       "      <td>cluster</td>\n",
       "      <td>13</td>\n",
       "      <td>False</td>\n",
       "      <td>True</td>\n",
       "      <td>35</td>\n",
       "      <td>80</td>\n",
       "      <td>5.631732e-03</td>\n",
       "      <td>2.0</td>\n",
       "      <td>4.0</td>\n",
       "      <td>0.011263</td>\n",
       "      <td>all</td>\n",
       "      <td>True</td>\n",
       "      <td>True</td>\n",
       "    </tr>\n",
       "    <tr>\n",
       "      <th>12</th>\n",
       "      <td>cluster</td>\n",
       "      <td>2</td>\n",
       "      <td>False</td>\n",
       "      <td>True</td>\n",
       "      <td>83</td>\n",
       "      <td>52</td>\n",
       "      <td>4.271449e-07</td>\n",
       "      <td>2.0</td>\n",
       "      <td>8.0</td>\n",
       "      <td>0.000002</td>\n",
       "      <td>all</td>\n",
       "      <td>True</td>\n",
       "      <td>True</td>\n",
       "    </tr>\n",
       "    <tr>\n",
       "      <th>0</th>\n",
       "      <td>cluster</td>\n",
       "      <td>3</td>\n",
       "      <td>False</td>\n",
       "      <td>True</td>\n",
       "      <td>168</td>\n",
       "      <td>58</td>\n",
       "      <td>2.834774e-03</td>\n",
       "      <td>3.0</td>\n",
       "      <td>2.0</td>\n",
       "      <td>0.006614</td>\n",
       "      <td>all</td>\n",
       "      <td>True</td>\n",
       "      <td>False</td>\n",
       "    </tr>\n",
       "    <tr>\n",
       "      <th>3</th>\n",
       "      <td>cluster</td>\n",
       "      <td>6</td>\n",
       "      <td>False</td>\n",
       "      <td>True</td>\n",
       "      <td>47</td>\n",
       "      <td>75</td>\n",
       "      <td>2.950588e-02</td>\n",
       "      <td>2.0</td>\n",
       "      <td>4.0</td>\n",
       "      <td>0.051635</td>\n",
       "      <td>all</td>\n",
       "      <td>False</td>\n",
       "      <td>True</td>\n",
       "    </tr>\n",
       "    <tr>\n",
       "      <th>11</th>\n",
       "      <td>cluster</td>\n",
       "      <td>14</td>\n",
       "      <td>False</td>\n",
       "      <td>True</td>\n",
       "      <td>130</td>\n",
       "      <td>34</td>\n",
       "      <td>4.353034e-01</td>\n",
       "      <td>2.0</td>\n",
       "      <td>2.5</td>\n",
       "      <td>0.468788</td>\n",
       "      <td>all</td>\n",
       "      <td>False</td>\n",
       "      <td>True</td>\n",
       "    </tr>\n",
       "    <tr>\n",
       "      <th>13</th>\n",
       "      <td>cluster</td>\n",
       "      <td>12</td>\n",
       "      <td>False</td>\n",
       "      <td>True</td>\n",
       "      <td>14</td>\n",
       "      <td>16</td>\n",
       "      <td>2.670864e-01</td>\n",
       "      <td>5.0</td>\n",
       "      <td>11.0</td>\n",
       "      <td>0.311601</td>\n",
       "      <td>all</td>\n",
       "      <td>False</td>\n",
       "      <td>True</td>\n",
       "    </tr>\n",
       "    <tr>\n",
       "      <th>1</th>\n",
       "      <td>cluster</td>\n",
       "      <td>4</td>\n",
       "      <td>False</td>\n",
       "      <td>True</td>\n",
       "      <td>235</td>\n",
       "      <td>117</td>\n",
       "      <td>6.098098e-02</td>\n",
       "      <td>2.0</td>\n",
       "      <td>2.0</td>\n",
       "      <td>0.094859</td>\n",
       "      <td>all</td>\n",
       "      <td>False</td>\n",
       "      <td>False</td>\n",
       "    </tr>\n",
       "    <tr>\n",
       "      <th>7</th>\n",
       "      <td>cluster</td>\n",
       "      <td>7</td>\n",
       "      <td>False</td>\n",
       "      <td>True</td>\n",
       "      <td>263</td>\n",
       "      <td>70</td>\n",
       "      <td>1.489834e-01</td>\n",
       "      <td>3.0</td>\n",
       "      <td>2.0</td>\n",
       "      <td>0.208577</td>\n",
       "      <td>all</td>\n",
       "      <td>False</td>\n",
       "      <td>False</td>\n",
       "    </tr>\n",
       "    <tr>\n",
       "      <th>8</th>\n",
       "      <td>cluster</td>\n",
       "      <td>8</td>\n",
       "      <td>False</td>\n",
       "      <td>True</td>\n",
       "      <td>78</td>\n",
       "      <td>28</td>\n",
       "      <td>6.205633e-01</td>\n",
       "      <td>3.0</td>\n",
       "      <td>2.0</td>\n",
       "      <td>0.620563</td>\n",
       "      <td>all</td>\n",
       "      <td>False</td>\n",
       "      <td>False</td>\n",
       "    </tr>\n",
       "    <tr>\n",
       "      <th>10</th>\n",
       "      <td>cluster</td>\n",
       "      <td>9</td>\n",
       "      <td>False</td>\n",
       "      <td>True</td>\n",
       "      <td>103</td>\n",
       "      <td>23</td>\n",
       "      <td>2.487819e-01</td>\n",
       "      <td>2.0</td>\n",
       "      <td>2.0</td>\n",
       "      <td>0.311601</td>\n",
       "      <td>all</td>\n",
       "      <td>False</td>\n",
       "      <td>False</td>\n",
       "    </tr>\n",
       "  </tbody>\n",
       "</table>\n",
       "</div>"
      ],
      "text/plain": [
       "   variable  value  group1  group2  group1_size  group2_size          pval  \\\n",
       "2   cluster      5   False    True           79          129  1.264980e-04   \n",
       "4   cluster     10   False    True          132          115  3.983523e-07   \n",
       "5   cluster     11   False    True           47           51  1.099036e-05   \n",
       "6   cluster      1   False    True          115           89  1.624799e-07   \n",
       "9   cluster     13   False    True           35           80  5.631732e-03   \n",
       "12  cluster      2   False    True           83           52  4.271449e-07   \n",
       "0   cluster      3   False    True          168           58  2.834774e-03   \n",
       "3   cluster      6   False    True           47           75  2.950588e-02   \n",
       "11  cluster     14   False    True          130           34  4.353034e-01   \n",
       "13  cluster     12   False    True           14           16  2.670864e-01   \n",
       "1   cluster      4   False    True          235          117  6.098098e-02   \n",
       "7   cluster      7   False    True          263           70  1.489834e-01   \n",
       "8   cluster      8   False    True           78           28  6.205633e-01   \n",
       "10  cluster      9   False    True          103           23  2.487819e-01   \n",
       "\n",
       "    group1_median  group2_median  pval_adj boot  significant  longer_in_covid  \n",
       "2             1.0            3.0  0.000354  all         True             True  \n",
       "4             2.0            3.0  0.000002  all         True             True  \n",
       "5             2.0           15.0  0.000038  all         True             True  \n",
       "6             2.0            4.0  0.000002  all         True             True  \n",
       "9             2.0            4.0  0.011263  all         True             True  \n",
       "12            2.0            8.0  0.000002  all         True             True  \n",
       "0             3.0            2.0  0.006614  all         True            False  \n",
       "3             2.0            4.0  0.051635  all        False             True  \n",
       "11            2.0            2.5  0.468788  all        False             True  \n",
       "13            5.0           11.0  0.311601  all        False             True  \n",
       "1             2.0            2.0  0.094859  all        False            False  \n",
       "7             3.0            2.0  0.208577  all        False            False  \n",
       "8             3.0            2.0  0.620563  all        False            False  \n",
       "10            2.0            2.0  0.311601  all        False            False  "
      ]
     },
     "execution_count": 11,
     "metadata": {},
     "output_type": "execute_result"
    }
   ],
   "source": [
    "df[df['boot']=='all'].sort_values(['significant', 'longer_in_covid'], ascending=False)"
   ]
  },
  {
   "cell_type": "code",
   "execution_count": 12,
   "id": "e441872e",
   "metadata": {},
   "outputs": [],
   "source": [
    "df = df[df['boot']!='all'].copy()"
   ]
  },
  {
   "cell_type": "code",
   "execution_count": 13,
   "id": "e056b4ec",
   "metadata": {},
   "outputs": [],
   "source": [
    "if not df[df['significant']]['boot'].nunique() == df['boot'].nunique():\n",
    "    raise AssertionError('at least one iteration did not have any significant differnce')"
   ]
  },
  {
   "cell_type": "code",
   "execution_count": 14,
   "id": "7e12fd72",
   "metadata": {},
   "outputs": [
    {
     "data": {
      "image/png": "[encoded data removed]",
      "text/plain": [
       "<Figure size 720x576 with 2 Axes>"
      ]
     },
     "metadata": {
      "image/png": {
       "height": 488,
       "width": 567
      },
      "needs_background": "light"
     },
     "output_type": "display_data"
    }
   ],
   "source": [
    "sns.heatmap(\n",
    "    df[df['significant']].groupby(['boot', 'longer_in_covid']).size().to_frame('c').reset_index().pivot(\n",
    "        index='boot', columns='longer_in_covid', values='c'\n",
    "    ).fillna(0).groupby([False, True]).size().to_frame('tot').reset_index().pivot(\n",
    "        index=False, columns=True, values='tot').fillna(0).reindex(index=range(0, 18), columns=range(0, 18)).fillna(0) / 5\n",
    ")\n",
    "\n",
    "plt.xlabel('Clusters with longer LOS in COVID', fontsize=20)\n",
    "plt.ylabel('Clusters with shorter LOS in COVID', fontsize=20)\n",
    "dump_figure('absolute_clusters.pdf')"
   ]
  },
  {
   "cell_type": "code",
   "execution_count": 15,
   "id": "06d80300",
   "metadata": {},
   "outputs": [
    {
     "data": {
      "text/html": [
       "<div>\n",
       "<style scoped>\n",
       "    .dataframe tbody tr th:only-of-type {\n",
       "        vertical-align: middle;\n",
       "    }\n",
       "\n",
       "    .dataframe tbody tr th {\n",
       "        vertical-align: top;\n",
       "    }\n",
       "\n",
       "    .dataframe thead th {\n",
       "        text-align: right;\n",
       "    }\n",
       "</style>\n",
       "<table border=\"1\" class=\"dataframe\">\n",
       "  <thead>\n",
       "    <tr style=\"text-align: right;\">\n",
       "      <th></th>\n",
       "      <th>variable</th>\n",
       "      <th>value</th>\n",
       "      <th>group1</th>\n",
       "      <th>group2</th>\n",
       "      <th>group1_size</th>\n",
       "      <th>group2_size</th>\n",
       "      <th>pval</th>\n",
       "      <th>group1_median</th>\n",
       "      <th>group2_median</th>\n",
       "      <th>pval_adj</th>\n",
       "      <th>boot</th>\n",
       "      <th>significant</th>\n",
       "      <th>longer_in_covid</th>\n",
       "    </tr>\n",
       "  </thead>\n",
       "  <tbody>\n",
       "    <tr>\n",
       "      <th>0</th>\n",
       "      <td>cluster</td>\n",
       "      <td>1</td>\n",
       "      <td>False</td>\n",
       "      <td>True</td>\n",
       "      <td>43</td>\n",
       "      <td>38</td>\n",
       "      <td>4.972036e-04</td>\n",
       "      <td>2.0</td>\n",
       "      <td>6.5</td>\n",
       "      <td>1.740213e-03</td>\n",
       "      <td>0001</td>\n",
       "      <td>True</td>\n",
       "      <td>True</td>\n",
       "    </tr>\n",
       "    <tr>\n",
       "      <th>1</th>\n",
       "      <td>cluster</td>\n",
       "      <td>3</td>\n",
       "      <td>False</td>\n",
       "      <td>True</td>\n",
       "      <td>177</td>\n",
       "      <td>99</td>\n",
       "      <td>7.648643e-02</td>\n",
       "      <td>2.0</td>\n",
       "      <td>3.0</td>\n",
       "      <td>1.273530e-01</td>\n",
       "      <td>0001</td>\n",
       "      <td>False</td>\n",
       "      <td>True</td>\n",
       "    </tr>\n",
       "    <tr>\n",
       "      <th>2</th>\n",
       "      <td>cluster</td>\n",
       "      <td>4</td>\n",
       "      <td>False</td>\n",
       "      <td>True</td>\n",
       "      <td>91</td>\n",
       "      <td>87</td>\n",
       "      <td>8.496074e-06</td>\n",
       "      <td>2.0</td>\n",
       "      <td>4.0</td>\n",
       "      <td>5.947252e-05</td>\n",
       "      <td>0001</td>\n",
       "      <td>True</td>\n",
       "      <td>True</td>\n",
       "    </tr>\n",
       "    <tr>\n",
       "      <th>3</th>\n",
       "      <td>cluster</td>\n",
       "      <td>13</td>\n",
       "      <td>False</td>\n",
       "      <td>True</td>\n",
       "      <td>82</td>\n",
       "      <td>111</td>\n",
       "      <td>1.389403e-08</td>\n",
       "      <td>2.0</td>\n",
       "      <td>5.0</td>\n",
       "      <td>1.945164e-07</td>\n",
       "      <td>0001</td>\n",
       "      <td>True</td>\n",
       "      <td>True</td>\n",
       "    </tr>\n",
       "    <tr>\n",
       "      <th>4</th>\n",
       "      <td>cluster</td>\n",
       "      <td>12</td>\n",
       "      <td>False</td>\n",
       "      <td>True</td>\n",
       "      <td>18</td>\n",
       "      <td>36</td>\n",
       "      <td>2.758727e-02</td>\n",
       "      <td>3.5</td>\n",
       "      <td>13.5</td>\n",
       "      <td>6.437029e-02</td>\n",
       "      <td>0001</td>\n",
       "      <td>False</td>\n",
       "      <td>True</td>\n",
       "    </tr>\n",
       "    <tr>\n",
       "      <th>...</th>\n",
       "      <td>...</td>\n",
       "      <td>...</td>\n",
       "      <td>...</td>\n",
       "      <td>...</td>\n",
       "      <td>...</td>\n",
       "      <td>...</td>\n",
       "      <td>...</td>\n",
       "      <td>...</td>\n",
       "      <td>...</td>\n",
       "      <td>...</td>\n",
       "      <td>...</td>\n",
       "      <td>...</td>\n",
       "      <td>...</td>\n",
       "    </tr>\n",
       "    <tr>\n",
       "      <th>9</th>\n",
       "      <td>cluster</td>\n",
       "      <td>10</td>\n",
       "      <td>False</td>\n",
       "      <td>True</td>\n",
       "      <td>111</td>\n",
       "      <td>24</td>\n",
       "      <td>7.998282e-02</td>\n",
       "      <td>2.0</td>\n",
       "      <td>3.5</td>\n",
       "      <td>1.599656e-01</td>\n",
       "      <td>0500</td>\n",
       "      <td>False</td>\n",
       "      <td>True</td>\n",
       "    </tr>\n",
       "    <tr>\n",
       "      <th>10</th>\n",
       "      <td>cluster</td>\n",
       "      <td>6</td>\n",
       "      <td>False</td>\n",
       "      <td>True</td>\n",
       "      <td>11</td>\n",
       "      <td>38</td>\n",
       "      <td>4.619659e-01</td>\n",
       "      <td>3.0</td>\n",
       "      <td>5.5</td>\n",
       "      <td>5.442979e-01</td>\n",
       "      <td>0500</td>\n",
       "      <td>False</td>\n",
       "      <td>True</td>\n",
       "    </tr>\n",
       "    <tr>\n",
       "      <th>11</th>\n",
       "      <td>cluster</td>\n",
       "      <td>9</td>\n",
       "      <td>False</td>\n",
       "      <td>True</td>\n",
       "      <td>189</td>\n",
       "      <td>36</td>\n",
       "      <td>2.400202e-01</td>\n",
       "      <td>3.0</td>\n",
       "      <td>2.0</td>\n",
       "      <td>3.733647e-01</td>\n",
       "      <td>0500</td>\n",
       "      <td>False</td>\n",
       "      <td>False</td>\n",
       "    </tr>\n",
       "    <tr>\n",
       "      <th>12</th>\n",
       "      <td>cluster</td>\n",
       "      <td>5</td>\n",
       "      <td>False</td>\n",
       "      <td>True</td>\n",
       "      <td>104</td>\n",
       "      <td>20</td>\n",
       "      <td>6.252399e-02</td>\n",
       "      <td>2.5</td>\n",
       "      <td>3.5</td>\n",
       "      <td>1.458893e-01</td>\n",
       "      <td>0500</td>\n",
       "      <td>False</td>\n",
       "      <td>True</td>\n",
       "    </tr>\n",
       "    <tr>\n",
       "      <th>13</th>\n",
       "      <td>cluster</td>\n",
       "      <td>11</td>\n",
       "      <td>False</td>\n",
       "      <td>True</td>\n",
       "      <td>3</td>\n",
       "      <td>10</td>\n",
       "      <td>1.896173e-01</td>\n",
       "      <td>1.0</td>\n",
       "      <td>13.0</td>\n",
       "      <td>3.318304e-01</td>\n",
       "      <td>0500</td>\n",
       "      <td>False</td>\n",
       "      <td>True</td>\n",
       "    </tr>\n",
       "  </tbody>\n",
       "</table>\n",
       "<p>6999 rows × 13 columns</p>\n",
       "</div>"
      ],
      "text/plain": [
       "   variable  value  group1  group2  group1_size  group2_size          pval  \\\n",
       "0   cluster      1   False    True           43           38  4.972036e-04   \n",
       "1   cluster      3   False    True          177           99  7.648643e-02   \n",
       "2   cluster      4   False    True           91           87  8.496074e-06   \n",
       "3   cluster     13   False    True           82          111  1.389403e-08   \n",
       "4   cluster     12   False    True           18           36  2.758727e-02   \n",
       "..      ...    ...     ...     ...          ...          ...           ...   \n",
       "9   cluster     10   False    True          111           24  7.998282e-02   \n",
       "10  cluster      6   False    True           11           38  4.619659e-01   \n",
       "11  cluster      9   False    True          189           36  2.400202e-01   \n",
       "12  cluster      5   False    True          104           20  6.252399e-02   \n",
       "13  cluster     11   False    True            3           10  1.896173e-01   \n",
       "\n",
       "    group1_median  group2_median      pval_adj  boot  significant  \\\n",
       "0             2.0            6.5  1.740213e-03  0001         True   \n",
       "1             2.0            3.0  1.273530e-01  0001        False   \n",
       "2             2.0            4.0  5.947252e-05  0001         True   \n",
       "3             2.0            5.0  1.945164e-07  0001         True   \n",
       "4             3.5           13.5  6.437029e-02  0001        False   \n",
       "..            ...            ...           ...   ...          ...   \n",
       "9             2.0            3.5  1.599656e-01  0500        False   \n",
       "10            3.0            5.5  5.442979e-01  0500        False   \n",
       "11            3.0            2.0  3.733647e-01  0500        False   \n",
       "12            2.5            3.5  1.458893e-01  0500        False   \n",
       "13            1.0           13.0  3.318304e-01  0500        False   \n",
       "\n",
       "    longer_in_covid  \n",
       "0              True  \n",
       "1              True  \n",
       "2              True  \n",
       "3              True  \n",
       "4              True  \n",
       "..              ...  \n",
       "9              True  \n",
       "10             True  \n",
       "11            False  \n",
       "12             True  \n",
       "13             True  \n",
       "\n",
       "[6999 rows x 13 columns]"
      ]
     },
     "execution_count": 15,
     "metadata": {},
     "output_type": "execute_result"
    }
   ],
   "source": [
    "df"
   ]
  },
  {
   "cell_type": "code",
   "execution_count": null,
   "id": "14e36f18",
   "metadata": {},
   "outputs": [],
   "source": []
  },
  {
   "cell_type": "code",
   "execution_count": 16,
   "id": "116cfa0a",
   "metadata": {},
   "outputs": [],
   "source": [
    "helper = df[df['significant']].groupby('boot')['longer_in_covid'].mean().to_frame('share')"
   ]
  },
  {
   "cell_type": "code",
   "execution_count": 17,
   "id": "9af52fd8",
   "metadata": {},
   "outputs": [],
   "source": [
    "f = helper['share'] < 0.5\n",
    "helper.loc[f, 'kind'] = 'mostly shorter in COVID'\n",
    "\n",
    "f = helper['share'] > 0.5\n",
    "helper.loc[f, 'kind'] = 'mostly longer in COVID'\n",
    "\n",
    "f = helper['share'] == 0\n",
    "helper.loc[f, 'kind'] = 'always shorter in COVID'\n",
    "\n",
    "f = helper['share'] == 1\n",
    "helper.loc[f, 'kind'] = 'always longer in COVID'\n",
    "\n",
    "f = helper['share'] == 0.5\n",
    "helper.loc[f, 'kind'] = 'equal in COVID'"
   ]
  },
  {
   "cell_type": "code",
   "execution_count": 18,
   "id": "aa1b3526",
   "metadata": {},
   "outputs": [
    {
     "data": {
      "image/png": "[encoded data removed]",
      "text/plain": [
       "<Figure size 720x576 with 1 Axes>"
      ]
     },
     "metadata": {
      "image/png": {
       "height": 487,
       "width": 710
      },
      "needs_background": "light"
     },
     "output_type": "display_data"
    }
   ],
   "source": [
    "sns.barplot(\n",
    "    y='kind',\n",
    "    x='share',\n",
    "    estimator=lambda x: 100*(len(x)/helper.shape[0]),\n",
    "    data=helper,\n",
    "    order=[\n",
    "        'always shorter in COVID',\n",
    "        'mostly shorter in COVID',\n",
    "        'equal in COVID',\n",
    "        'mostly longer in COVID',\n",
    "        'always longer in COVID',        \n",
    "    ],\n",
    "    color='grey'\n",
    ")\n",
    "\n",
    "plt.xlim(0, 100)\n",
    "plt.xlabel('Share [%]', fontsize=20)\n",
    "\n",
    "dump_figure('normalized_duration.pdf')"
   ]
  },
  {
   "cell_type": "code",
   "execution_count": 19,
   "id": "9c49b579",
   "metadata": {},
   "outputs": [
    {
     "data": {
      "text/plain": [
       "always longer in COVID    0.704\n",
       "mostly longer in COVID    0.294\n",
       "equal in COVID            0.002\n",
       "Name: kind, dtype: float64"
      ]
     },
     "execution_count": 19,
     "metadata": {},
     "output_type": "execute_result"
    }
   ],
   "source": [
    "helper['kind'].value_counts() / helper.shape[0]"
   ]
  },
  {
   "cell_type": "code",
   "execution_count": 20,
   "id": "929bcd8a",
   "metadata": {},
   "outputs": [
    {
     "data": {
      "text/plain": [
       "always longer in COVID    352\n",
       "mostly longer in COVID    147\n",
       "equal in COVID              1\n",
       "Name: kind, dtype: int64"
      ]
     },
     "execution_count": 20,
     "metadata": {},
     "output_type": "execute_result"
    }
   ],
   "source": [
    "helper['kind'].value_counts()"
   ]
  },
  {
   "cell_type": "code",
   "execution_count": null,
   "id": "1c24aeac",
   "metadata": {},
   "outputs": [],
   "source": []
  },
  {
   "cell_type": "code",
   "execution_count": null,
   "id": "28979298",
   "metadata": {},
   "outputs": [],
   "source": []
  },
  {
   "cell_type": "code",
   "execution_count": 21,
   "id": "a32f674a",
   "metadata": {},
   "outputs": [],
   "source": [
    "df = get_stats('06_covid-analysis/norm-transitions-binary_stats.xlsx')"
   ]
  },
  {
   "cell_type": "code",
   "execution_count": 22,
   "id": "2db10cd9",
   "metadata": {},
   "outputs": [],
   "source": [
    "df = df[df['variable']=='discharge'].copy()"
   ]
  },
  {
   "cell_type": "code",
   "execution_count": 23,
   "id": "f96552f0",
   "metadata": {},
   "outputs": [
    {
     "data": {
      "text/html": [
       "<div>\n",
       "<style scoped>\n",
       "    .dataframe tbody tr th:only-of-type {\n",
       "        vertical-align: middle;\n",
       "    }\n",
       "\n",
       "    .dataframe tbody tr th {\n",
       "        vertical-align: top;\n",
       "    }\n",
       "\n",
       "    .dataframe thead th {\n",
       "        text-align: right;\n",
       "    }\n",
       "</style>\n",
       "<table border=\"1\" class=\"dataframe\">\n",
       "  <thead>\n",
       "    <tr style=\"text-align: right;\">\n",
       "      <th></th>\n",
       "      <th>variable</th>\n",
       "      <th>value</th>\n",
       "      <th>group1</th>\n",
       "      <th>group2</th>\n",
       "      <th>group1_size</th>\n",
       "      <th>group2_size</th>\n",
       "      <th>pval</th>\n",
       "      <th>group1_median</th>\n",
       "      <th>group2_median</th>\n",
       "      <th>pval_adj</th>\n",
       "      <th>boot</th>\n",
       "    </tr>\n",
       "  </thead>\n",
       "  <tbody>\n",
       "    <tr>\n",
       "      <th>2</th>\n",
       "      <td>discharge</td>\n",
       "      <td>Lived</td>\n",
       "      <td>False</td>\n",
       "      <td>True</td>\n",
       "      <td>220</td>\n",
       "      <td>103</td>\n",
       "      <td>0.003140</td>\n",
       "      <td>0.375000</td>\n",
       "      <td>0.3125</td>\n",
       "      <td>0.003140</td>\n",
       "      <td>all</td>\n",
       "    </tr>\n",
       "    <tr>\n",
       "      <th>3</th>\n",
       "      <td>discharge</td>\n",
       "      <td>Died</td>\n",
       "      <td>False</td>\n",
       "      <td>True</td>\n",
       "      <td>175</td>\n",
       "      <td>87</td>\n",
       "      <td>0.000616</td>\n",
       "      <td>0.294118</td>\n",
       "      <td>0.2000</td>\n",
       "      <td>0.000821</td>\n",
       "      <td>all</td>\n",
       "    </tr>\n",
       "  </tbody>\n",
       "</table>\n",
       "</div>"
      ],
      "text/plain": [
       "    variable  value group1 group2  group1_size  group2_size      pval  \\\n",
       "2  discharge  Lived  False   True          220          103  0.003140   \n",
       "3  discharge   Died  False   True          175           87  0.000616   \n",
       "\n",
       "   group1_median  group2_median  pval_adj boot  \n",
       "2       0.375000         0.3125  0.003140  all  \n",
       "3       0.294118         0.2000  0.000821  all  "
      ]
     },
     "execution_count": 23,
     "metadata": {},
     "output_type": "execute_result"
    }
   ],
   "source": [
    "df[df['boot']=='all']"
   ]
  },
  {
   "cell_type": "code",
   "execution_count": null,
   "id": "c8b6f631",
   "metadata": {},
   "outputs": [],
   "source": []
  },
  {
   "cell_type": "code",
   "execution_count": 24,
   "id": "d187b3cf",
   "metadata": {},
   "outputs": [],
   "source": [
    "df = df[df['boot']!='all']"
   ]
  },
  {
   "cell_type": "code",
   "execution_count": 25,
   "id": "b6f8d796",
   "metadata": {},
   "outputs": [
    {
     "data": {
      "text/plain": [
       "500"
      ]
     },
     "execution_count": 25,
     "metadata": {},
     "output_type": "execute_result"
    }
   ],
   "source": [
    "df['boot'].nunique()"
   ]
  },
  {
   "cell_type": "code",
   "execution_count": 26,
   "id": "06c383de",
   "metadata": {},
   "outputs": [],
   "source": [
    "\n",
    "df['significant'] = df['pval_adj'] < 0.05\n",
    "# df['shorter_in_covid'] = df['group2_median'] < df['group1_median']"
   ]
  },
  {
   "cell_type": "code",
   "execution_count": 27,
   "id": "6e3e2ca8",
   "metadata": {},
   "outputs": [],
   "source": [
    "f = (df['group2_median'] < df['group1_median']) & (df['significant'])\n",
    "df.loc[f, 'kind'] = 'shorter in COVID and significant'\n",
    "\n",
    "f = (df['group2_median'] < df['group1_median']) & (~df['significant'])\n",
    "df.loc[f, 'kind'] = 'shorter in COVID not significant'\n",
    "\n",
    "f = (df['group2_median'] > df['group1_median']) & (df['significant'])\n",
    "df.loc[f, 'kind'] = 'longer in COVID and significant'\n",
    "\n",
    "f = (df['group2_median'] > df['group1_median']) & (~df['significant'])\n",
    "df.loc[f, 'kind'] = 'longer in COVID not significant'\n",
    "                                                   \n",
    "f = df['group2_median'] == df['group1_median']\n",
    "df.loc[f, 'kind'] = 'equal'"
   ]
  },
  {
   "cell_type": "code",
   "execution_count": 28,
   "id": "72cf2aa9",
   "metadata": {},
   "outputs": [
    {
     "data": {
      "image/png": "[encoded data removed]",
      "text/plain": [
       "<Figure size 720x576 with 1 Axes>"
      ]
     },
     "metadata": {
      "image/png": {
       "height": 487,
       "width": 744
      },
      "needs_background": "light"
     },
     "output_type": "display_data"
    }
   ],
   "source": [
    "helper = df[df['value']=='Lived']\n",
    "\n",
    "sns.barplot(\n",
    "    y='kind',\n",
    "    x='group1_median',\n",
    "    estimator=lambda x: 100*(len(x)/helper.shape[0]),\n",
    "    data=helper,\n",
    "    order=[\n",
    "        'shorter in COVID and significant',\n",
    "        'shorter in COVID not significant',\n",
    "        'equal',\n",
    "        'longer in COVID not significant',\n",
    "        'longer in COVID and significant'\n",
    "        \n",
    "        \n",
    "    ],\n",
    "\n",
    "\n",
    "  color='grey'\n",
    ")\n",
    "\n",
    "plt.xlim(0, 100)\n",
    "plt.xlabel('Share [%]', fontsize=20)\n",
    "\n",
    "dump_figure('lived.pdf')"
   ]
  },
  {
   "cell_type": "code",
   "execution_count": 29,
   "id": "a9b2572f",
   "metadata": {},
   "outputs": [
    {
     "data": {
      "text/plain": [
       "shorter in COVID and significant    0.936\n",
       "shorter in COVID not significant    0.060\n",
       "equal                               0.004\n",
       "Name: kind, dtype: float64"
      ]
     },
     "execution_count": 29,
     "metadata": {},
     "output_type": "execute_result"
    }
   ],
   "source": [
    "helper['kind'].value_counts() / helper.shape[0]"
   ]
  },
  {
   "cell_type": "code",
   "execution_count": 30,
   "id": "2a1dade3",
   "metadata": {},
   "outputs": [
    {
     "data": {
      "text/plain": [
       "shorter in COVID and significant    468\n",
       "shorter in COVID not significant     30\n",
       "equal                                 2\n",
       "Name: kind, dtype: int64"
      ]
     },
     "execution_count": 30,
     "metadata": {},
     "output_type": "execute_result"
    }
   ],
   "source": [
    "helper['kind'].value_counts()"
   ]
  },
  {
   "cell_type": "code",
   "execution_count": 31,
   "id": "fe6a405d",
   "metadata": {},
   "outputs": [
    {
     "data": {
      "image/png": "[encoded data removed]",
      "text/plain": [
       "<Figure size 720x576 with 1 Axes>"
      ]
     },
     "metadata": {
      "image/png": {
       "height": 487,
       "width": 744
      },
      "needs_background": "light"
     },
     "output_type": "display_data"
    }
   ],
   "source": [
    "helper = df[df['value']=='Died']\n",
    "\n",
    "sns.barplot(\n",
    "    y='kind',\n",
    "    x='group1_median',\n",
    "    estimator=lambda x: 100*(len(x)/helper.shape[0]),\n",
    "    data=helper,\n",
    "    order=[\n",
    "        'shorter in COVID and significant',\n",
    "        'shorter in COVID not significant',\n",
    "        'equal',\n",
    "        'longer in COVID not significant',\n",
    "        'longer in COVID and significant'\n",
    "        \n",
    "        \n",
    "    ],\n",
    "\n",
    "\n",
    "  color='grey'\n",
    ")\n",
    "\n",
    "plt.xlim(0, 100)\n",
    "plt.xlabel('Share [%]', fontsize=20)\n",
    "\n",
    "dump_figure('died.pdf')"
   ]
  },
  {
   "cell_type": "code",
   "execution_count": 32,
   "id": "8bc3d999",
   "metadata": {},
   "outputs": [
    {
     "data": {
      "text/plain": [
       "shorter in COVID and significant    0.954\n",
       "shorter in COVID not significant    0.046\n",
       "Name: kind, dtype: float64"
      ]
     },
     "execution_count": 32,
     "metadata": {},
     "output_type": "execute_result"
    }
   ],
   "source": [
    "helper['kind'].value_counts() / helper.shape[0]"
   ]
  },
  {
   "cell_type": "code",
   "execution_count": 33,
   "id": "000c0144",
   "metadata": {},
   "outputs": [
    {
     "data": {
      "text/plain": [
       "shorter in COVID and significant    477\n",
       "shorter in COVID not significant     23\n",
       "Name: kind, dtype: int64"
      ]
     },
     "execution_count": 33,
     "metadata": {},
     "output_type": "execute_result"
    }
   ],
   "source": [
    "helper['kind'].value_counts()"
   ]
  },
  {
   "cell_type": "code",
   "execution_count": null,
   "id": "908dd311",
   "metadata": {},
   "outputs": [],
   "source": []
  },
  {
   "cell_type": "code",
   "execution_count": null,
   "id": "6bb8de63",
   "metadata": {},
   "outputs": [],
   "source": []
  },
  {
   "cell_type": "code",
   "execution_count": 34,
   "id": "a5117c56",
   "metadata": {},
   "outputs": [],
   "source": [
    "df = get_stats('10_VAP_transitions/vap_sum_of_trans_7days_stats.xlsx')"
   ]
  },
  {
   "cell_type": "code",
   "execution_count": 35,
   "id": "78c0fa2e",
   "metadata": {},
   "outputs": [
    {
     "data": {
      "text/html": [
       "<div>\n",
       "<style scoped>\n",
       "    .dataframe tbody tr th:only-of-type {\n",
       "        vertical-align: middle;\n",
       "    }\n",
       "\n",
       "    .dataframe tbody tr th {\n",
       "        vertical-align: top;\n",
       "    }\n",
       "\n",
       "    .dataframe thead th {\n",
       "        text-align: right;\n",
       "    }\n",
       "</style>\n",
       "<table border=\"1\" class=\"dataframe\">\n",
       "  <thead>\n",
       "    <tr style=\"text-align: right;\">\n",
       "      <th></th>\n",
       "      <th>group1</th>\n",
       "      <th>group2</th>\n",
       "      <th>group1_size</th>\n",
       "      <th>group2_size</th>\n",
       "      <th>pval</th>\n",
       "      <th>group1_median</th>\n",
       "      <th>group2_median</th>\n",
       "      <th>group1_mean</th>\n",
       "      <th>group2_mean</th>\n",
       "      <th>pval_two_sided</th>\n",
       "      <th>pval_adj</th>\n",
       "      <th>pval_adj_two</th>\n",
       "      <th>boot</th>\n",
       "    </tr>\n",
       "  </thead>\n",
       "  <tbody>\n",
       "    <tr>\n",
       "      <th>0</th>\n",
       "      <td>Cured</td>\n",
       "      <td>Indeterminate</td>\n",
       "      <td>128</td>\n",
       "      <td>73</td>\n",
       "      <td>1.056864e-03</td>\n",
       "      <td>-0.017087</td>\n",
       "      <td>0.000000</td>\n",
       "      <td>-0.100837</td>\n",
       "      <td>0.005777</td>\n",
       "      <td>1.056864e-03</td>\n",
       "      <td>1.453947e-03</td>\n",
       "      <td>1.453947e-03</td>\n",
       "      <td>all</td>\n",
       "    </tr>\n",
       "    <tr>\n",
       "      <th>1</th>\n",
       "      <td>Cured</td>\n",
       "      <td>Not cured</td>\n",
       "      <td>128</td>\n",
       "      <td>78</td>\n",
       "      <td>4.363561e-09</td>\n",
       "      <td>-0.017087</td>\n",
       "      <td>0.004668</td>\n",
       "      <td>-0.100837</td>\n",
       "      <td>0.153731</td>\n",
       "      <td>4.363561e-09</td>\n",
       "      <td>1.309068e-08</td>\n",
       "      <td>1.309068e-08</td>\n",
       "      <td>all</td>\n",
       "    </tr>\n",
       "    <tr>\n",
       "      <th>2</th>\n",
       "      <td>Indeterminate</td>\n",
       "      <td>Not cured</td>\n",
       "      <td>73</td>\n",
       "      <td>78</td>\n",
       "      <td>1.453947e-03</td>\n",
       "      <td>0.000000</td>\n",
       "      <td>0.004668</td>\n",
       "      <td>0.005777</td>\n",
       "      <td>0.153731</td>\n",
       "      <td>1.453947e-03</td>\n",
       "      <td>1.453947e-03</td>\n",
       "      <td>1.453947e-03</td>\n",
       "      <td>all</td>\n",
       "    </tr>\n",
       "  </tbody>\n",
       "</table>\n",
       "</div>"
      ],
      "text/plain": [
       "          group1         group2  group1_size  group2_size          pval  \\\n",
       "0          Cured  Indeterminate          128           73  1.056864e-03   \n",
       "1          Cured      Not cured          128           78  4.363561e-09   \n",
       "2  Indeterminate      Not cured           73           78  1.453947e-03   \n",
       "\n",
       "   group1_median  group2_median  group1_mean  group2_mean  pval_two_sided  \\\n",
       "0      -0.017087       0.000000    -0.100837     0.005777    1.056864e-03   \n",
       "1      -0.017087       0.004668    -0.100837     0.153731    4.363561e-09   \n",
       "2       0.000000       0.004668     0.005777     0.153731    1.453947e-03   \n",
       "\n",
       "       pval_adj  pval_adj_two boot  \n",
       "0  1.453947e-03  1.453947e-03  all  \n",
       "1  1.309068e-08  1.309068e-08  all  \n",
       "2  1.453947e-03  1.453947e-03  all  "
      ]
     },
     "execution_count": 35,
     "metadata": {},
     "output_type": "execute_result"
    }
   ],
   "source": [
    "df[df['boot']=='all']"
   ]
  },
  {
   "cell_type": "code",
   "execution_count": 36,
   "id": "56d540ba",
   "metadata": {},
   "outputs": [],
   "source": [
    "df = df[df['boot']!='all'].copy()"
   ]
  },
  {
   "cell_type": "code",
   "execution_count": 37,
   "id": "d959a2ba",
   "metadata": {},
   "outputs": [],
   "source": [
    "df = df[(df['group1']=='Cured') & (df['group2']=='Not cured')].copy()"
   ]
  },
  {
   "cell_type": "code",
   "execution_count": 38,
   "id": "c2f9c2eb",
   "metadata": {},
   "outputs": [],
   "source": [
    "df['significant'] = df['pval_adj'] < 0.05"
   ]
  },
  {
   "cell_type": "code",
   "execution_count": 39,
   "id": "467f9a3a",
   "metadata": {},
   "outputs": [],
   "source": [
    "f = (df['group2_median'] < df['group1_median']) & (df['significant'])\n",
    "df.loc[f, 'kind'] = 'fewer in non-cured (significant)'\n",
    "\n",
    "f = (df['group2_median'] < df['group1_median']) & (~df['significant'])\n",
    "df.loc[f, 'kind'] = 'fewer in non-cured (not significant)'\n",
    "\n",
    "f = (df['group2_median'] > df['group1_median']) & (df['significant'])\n",
    "df.loc[f, 'kind'] = 'more in non-cured (significant)'\n",
    "\n",
    "f = (df['group2_median'] > df['group1_median']) & (~df['significant'])\n",
    "df.loc[f, 'kind'] = 'more in non-cured (not significant)'\n",
    "                                                   \n",
    "f = df['group2_median'] == df['group1_median']\n",
    "df.loc[f, 'kind'] = 'equal'"
   ]
  },
  {
   "cell_type": "code",
   "execution_count": 40,
   "id": "958d28d6",
   "metadata": {},
   "outputs": [
    {
     "data": {
      "image/png": "[encoded data removed]",
      "text/plain": [
       "<Figure size 720x576 with 1 Axes>"
      ]
     },
     "metadata": {
      "image/png": {
       "height": 487,
       "width": 754
      },
      "needs_background": "light"
     },
     "output_type": "display_data"
    }
   ],
   "source": [
    "helper = df.copy()\n",
    "\n",
    "sns.barplot(\n",
    "    y='kind',\n",
    "    x='group1_median',\n",
    "    estimator=lambda x: 100*(len(x)/helper.shape[0]),\n",
    "    data=helper,\n",
    "    order=[\n",
    "        'fewer in non-cured (significant)',\n",
    "        'fewer in non-cured (not significant)',\n",
    "        'equal',\n",
    "        'more in non-cured (not significant)',\n",
    "        'more in non-cured (significant)'\n",
    "    ],\n",
    "\n",
    "\n",
    "  color='grey'\n",
    ")\n",
    "\n",
    "plt.xlim(0, 100)\n",
    "plt.xlabel('Share [%]', fontsize=20)\n",
    "\n",
    "dump_figure('transitions.pdf')"
   ]
  },
  {
   "cell_type": "code",
   "execution_count": 41,
   "id": "f89dc041",
   "metadata": {},
   "outputs": [
    {
     "data": {
      "text/plain": [
       "more in non-cured (significant)    0.998\n",
       "equal                              0.002\n",
       "Name: kind, dtype: float64"
      ]
     },
     "execution_count": 41,
     "metadata": {},
     "output_type": "execute_result"
    }
   ],
   "source": [
    "helper['kind'].value_counts() / helper.shape[0]"
   ]
  },
  {
   "cell_type": "code",
   "execution_count": 42,
   "id": "3d716eae",
   "metadata": {},
   "outputs": [
    {
     "data": {
      "text/plain": [
       "more in non-cured (significant)    499\n",
       "equal                                1\n",
       "Name: kind, dtype: int64"
      ]
     },
     "execution_count": 42,
     "metadata": {},
     "output_type": "execute_result"
    }
   ],
   "source": [
    "helper['kind'].value_counts()"
   ]
  },
  {
   "cell_type": "code",
   "execution_count": null,
   "id": "dda14f72",
   "metadata": {},
   "outputs": [],
   "source": []
  }
 ],
 "metadata": {
  "kernelspec": {
   "display_name": "Python 3 (ipykernel)",
   "language": "python",
   "name": "python3"
  },
  "language_info": {
   "codemirror_mode": {
    "name": "ipython",
    "version": 3
   },
   "file_extension": ".py",
   "mimetype": "text/x-python",
   "name": "python",
   "nbconvert_exporter": "python",
   "pygments_lexer": "ipython3",
   "version": "3.8.12"
  }
 },
 "nbformat": 4,
 "nbformat_minor": 5
}
