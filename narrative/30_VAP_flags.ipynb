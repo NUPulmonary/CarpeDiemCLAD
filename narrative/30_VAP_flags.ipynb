{
 "cells": [
  {
   "cell_type": "code",
   "execution_count": 5,
   "id": "f484190e-f1b9-4415-b65b-52ca3beb3d8a",
   "metadata": {},
   "outputs": [],
   "source": [
    "import pandas as pd\n",
    "import numpy as np\n",
    "import os\n",
    "import sys\n",
    "\n",
    "sys.path.append('./../src/')\n",
    "from manuscript import sankey_side_by_side as sankey\n",
    "from manuscript import clustering, datasets, inout, export, stats\n",
    "\n",
    "pd.set_option('display.max_columns', None)"
   ]
  },
  {
   "cell_type": "code",
   "execution_count": 42,
   "id": "5892a6e1-d50c-455a-b5b6-600a99259f97",
   "metadata": {},
   "outputs": [],
   "source": [
    "user = 'general'     # defines top hierarchy of output folder\n",
    "outfolder = '30_VAP_flags'    # name of notebook\n",
    "\n",
    "def dump_table(df, name):\n",
    "    export.full_frame(\n",
    "        user, \n",
    "        f'{outfolder}/{name}', \n",
    "        df, \n",
    "        index=True,\n",
    "        date=True\n",
    "    )\n",
    "\n",
    "def dump_figure(name):\n",
    "    export.image(\n",
    "        user,\n",
    "        f'{outfolder}/{name}',\n",
    "    )"
   ]
  },
  {
   "cell_type": "code",
   "execution_count": 25,
   "id": "8e2fd23e-373d-48f3-839c-14130c2030dc",
   "metadata": {},
   "outputs": [],
   "source": [
    "data = pd.read_csv(\n",
    "    inout.get_material_path('CAG/05_join/05_data_umap_clusters_220901_1211.csv.gz'), \n",
    "    index_col=0)"
   ]
  },
  {
   "cell_type": "code",
   "execution_count": 26,
   "id": "94830588-cd73-4d34-b5c0-beea7016cde2",
   "metadata": {},
   "outputs": [
    {
     "data": {
      "text/plain": [
       "Episode_category  Episode_etiology\n",
       "CAP               Bacterial            40\n",
       "                  Bacterial/viral      17\n",
       "                  Culture-negative     32\n",
       "                  Viral                47\n",
       "HAP               Bacterial            69\n",
       "                  Bacterial/viral      25\n",
       "                  Culture-negative     56\n",
       "                  Indeterminate         2\n",
       "                  Viral                62\n",
       "VAP               Bacterial           117\n",
       "                  Bacterial/viral     126\n",
       "                  Culture-negative     34\n",
       "                  Indeterminate         2\n",
       "                  Viral                49\n",
       "dtype: int64"
      ]
     },
     "execution_count": 26,
     "metadata": {},
     "output_type": "execute_result"
    }
   ],
   "source": [
    "data.groupby(['Episode_category','Episode_etiology']).size()"
   ]
  },
  {
   "cell_type": "code",
   "execution_count": 27,
   "id": "3f3ad991-3fe5-4877-831e-4a9d2cb6be38",
   "metadata": {},
   "outputs": [],
   "source": [
    "# flag patients with adjudication data\n",
    "\n",
    "has_ep = data.sort_values(by=['Episode_category'], ascending=False)\n"
   ]
  },
  {
   "cell_type": "code",
   "execution_count": 28,
   "id": "0cd61e60-f7ff-4998-bdd6-99c9a2201dd6",
   "metadata": {},
   "outputs": [],
   "source": [
    "has_ep = has_ep.drop_duplicates(subset=['Patient_id'], keep='first')\n"
   ]
  },
  {
   "cell_type": "code",
   "execution_count": 29,
   "id": "67fc904d-d640-4b5e-8ef6-4f9023b0937e",
   "metadata": {},
   "outputs": [
    {
     "data": {
      "text/plain": [
       "585"
      ]
     },
     "execution_count": 29,
     "metadata": {},
     "output_type": "execute_result"
    }
   ],
   "source": [
    "has_ep.Episode_category.notnull().sum()"
   ]
  },
  {
   "cell_type": "code",
   "execution_count": 30,
   "id": "7fd82633-3548-4605-95ef-2dad806e945b",
   "metadata": {},
   "outputs": [],
   "source": [
    "has_ep['adjudicated']=np.where(has_ep.Episode_category.notnull(), 1, 0)"
   ]
  },
  {
   "cell_type": "code",
   "execution_count": 31,
   "id": "fffd50bd-d847-467f-9dd0-ca6b7db7158a",
   "metadata": {},
   "outputs": [
    {
     "data": {
      "text/plain": [
       "1    585\n",
       "Name: adjudicated, dtype: int64"
      ]
     },
     "execution_count": 31,
     "metadata": {},
     "output_type": "execute_result"
    }
   ],
   "source": [
    "has_ep.adjudicated.value_counts()"
   ]
  },
  {
   "cell_type": "code",
   "execution_count": 32,
   "id": "2a9bf817-6e16-4e5c-9602-61d6f6377cab",
   "metadata": {},
   "outputs": [],
   "source": [
    "has_ep2 = has_ep[['Patient_id', 'adjudicated']]"
   ]
  },
  {
   "cell_type": "code",
   "execution_count": 33,
   "id": "884ba83f-613b-4046-9a8c-ee4ab4527133",
   "metadata": {},
   "outputs": [],
   "source": [
    "data2 = pd.merge(data, has_ep2, how='left', on='Patient_id')\n",
    "#join back to main dataframe "
   ]
  },
  {
   "cell_type": "code",
   "execution_count": 34,
   "id": "c57cdb25-1312-433d-80c2-a2cf8e44ac48",
   "metadata": {},
   "outputs": [],
   "source": [
    "# subset VAP \n",
    "vap = data.loc[data['Episode_category']=='VAP',['Patient_id','Episode_etiology','Episode_is_cured']]\n",
    "\n",
    "# take only non-viral VAPs\n",
    "non_viral_vap = vap[~(vap.Episode_etiology=='Viral')]"
   ]
  },
  {
   "cell_type": "code",
   "execution_count": 35,
   "id": "bd697ccc-f7c2-4d96-8199-aa6951db3ea2",
   "metadata": {},
   "outputs": [
    {
     "name": "stderr",
     "output_type": "stream",
     "text": [
      "/var/folders/1z/56frjt7x07l1yhz_hksrdcbm7wmsv2/T/ipykernel_89687/1361285691.py:1: SettingWithCopyWarning: \n",
      "A value is trying to be set on a copy of a slice from a DataFrame.\n",
      "Try using .loc[row_indexer,col_indexer] = value instead\n",
      "\n",
      "See the caveats in the documentation: https://pandas.pydata.org/pandas-docs/stable/user_guide/indexing.html#returning-a-view-versus-a-copy\n",
      "  non_viral_vap['had_nonviral_vap']=1\n",
      "/var/folders/1z/56frjt7x07l1yhz_hksrdcbm7wmsv2/T/ipykernel_89687/1361285691.py:2: SettingWithCopyWarning: \n",
      "A value is trying to be set on a copy of a slice from a DataFrame.\n",
      "Try using .loc[row_indexer,col_indexer] = value instead\n",
      "\n",
      "See the caveats in the documentation: https://pandas.pydata.org/pandas-docs/stable/user_guide/indexing.html#returning-a-view-versus-a-copy\n",
      "  non_viral_vap['vap_NOTcured']=np.where(non_viral_vap['Episode_is_cured']=='Not cured', 1, 0)\n",
      "/var/folders/1z/56frjt7x07l1yhz_hksrdcbm7wmsv2/T/ipykernel_89687/1361285691.py:3: SettingWithCopyWarning: \n",
      "A value is trying to be set on a copy of a slice from a DataFrame.\n",
      "Try using .loc[row_indexer,col_indexer] = value instead\n",
      "\n",
      "See the caveats in the documentation: https://pandas.pydata.org/pandas-docs/stable/user_guide/indexing.html#returning-a-view-versus-a-copy\n",
      "  non_viral_vap['vap_indeterminate']=np.where(non_viral_vap['Episode_is_cured']=='Indeterminate', 1, 0)\n",
      "/var/folders/1z/56frjt7x07l1yhz_hksrdcbm7wmsv2/T/ipykernel_89687/1361285691.py:4: SettingWithCopyWarning: \n",
      "A value is trying to be set on a copy of a slice from a DataFrame.\n",
      "Try using .loc[row_indexer,col_indexer] = value instead\n",
      "\n",
      "See the caveats in the documentation: https://pandas.pydata.org/pandas-docs/stable/user_guide/indexing.html#returning-a-view-versus-a-copy\n",
      "  non_viral_vap['vap_indeterminate_notcured']=non_viral_vap['vap_indeterminate']+non_viral_vap['vap_NOTcured']\n"
     ]
    }
   ],
   "source": [
    "non_viral_vap['had_nonviral_vap']=1\n",
    "non_viral_vap['vap_NOTcured']=np.where(non_viral_vap['Episode_is_cured']=='Not cured', 1, 0)\n",
    "non_viral_vap['vap_indeterminate']=np.where(non_viral_vap['Episode_is_cured']=='Indeterminate', 1, 0)\n",
    "non_viral_vap['vap_indeterminate_notcured']=non_viral_vap['vap_indeterminate']+non_viral_vap['vap_NOTcured']"
   ]
  },
  {
   "cell_type": "code",
   "execution_count": 36,
   "id": "217adbc2-e314-4576-ae2d-d10468f11ff2",
   "metadata": {},
   "outputs": [],
   "source": [
    "#multiple VAPs per admission - take 1 if any vap and 1 if any vap indeterminate/not cured\n",
    "non_viral_vap = non_viral_vap.sort_values(by=['vap_indeterminate_notcured'], ascending=False)\n",
    "non_viral_vap_single = non_viral_vap.drop_duplicates(subset=['Patient_id'], keep='first')"
   ]
  },
  {
   "cell_type": "code",
   "execution_count": 37,
   "id": "35795225-9936-4bb8-9b6f-f69dd271d53c",
   "metadata": {},
   "outputs": [],
   "source": [
    "#take just columns of interest\n",
    "non_viral_vap_single_short=non_viral_vap_single[['Patient_id', 'had_nonviral_vap','vap_indeterminate_notcured']]\n"
   ]
  },
  {
   "cell_type": "code",
   "execution_count": 38,
   "id": "7fb8897e-e773-4258-b363-2420d220f871",
   "metadata": {},
   "outputs": [],
   "source": [
    "data3 = pd.merge(data2, non_viral_vap_single_short, how='left', on='Patient_id')\n",
    "#join back to main dataframe "
   ]
  },
  {
   "cell_type": "code",
   "execution_count": 39,
   "id": "ee226a85-f3ea-4038-bc3a-5ca85e20b080",
   "metadata": {},
   "outputs": [],
   "source": [
    "data3['had_nonviral_vap'] = data3['had_nonviral_vap'].fillna(0)\n",
    "data3['vap_indeterminate_notcured'] = data3['vap_indeterminate_notcured'].fillna(0)"
   ]
  },
  {
   "cell_type": "code",
   "execution_count": 40,
   "id": "0690428d-4408-4c03-a040-c41132813753",
   "metadata": {},
   "outputs": [
    {
     "data": {
      "text/plain": [
       "1    12495\n",
       "Name: adjudicated, dtype: int64"
      ]
     },
     "execution_count": 40,
     "metadata": {},
     "output_type": "execute_result"
    }
   ],
   "source": [
    "data3.adjudicated.value_counts()"
   ]
  },
  {
   "cell_type": "code",
   "execution_count": 43,
   "id": "e3ea9073-4645-4d9e-9027-03612cb1e881",
   "metadata": {},
   "outputs": [],
   "source": [
    "dump_table(data3, 'data_vap_flags.csv.gz')"
   ]
  },
  {
   "cell_type": "code",
   "execution_count": null,
   "id": "9ab4f4d8-c5e8-475d-bde5-450f4f306def",
   "metadata": {},
   "outputs": [],
   "source": []
  }
 ],
 "metadata": {
  "kernelspec": {
   "display_name": "“VirvEnvJuly22forCD”",
   "language": "python",
   "name": "jupyter-kernel-py37"
  },
  "language_info": {
   "codemirror_mode": {
    "name": "ipython",
    "version": 3
   },
   "file_extension": ".py",
   "mimetype": "text/x-python",
   "name": "python",
   "nbconvert_exporter": "python",
   "pygments_lexer": "ipython3",
   "version": "3.8.12"
  }
 },
 "nbformat": 4,
 "nbformat_minor": 5
}
