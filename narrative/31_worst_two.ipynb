{
 "cells": [
  {
   "cell_type": "code",
   "execution_count": 1,
   "id": "1896cab8-68ca-4dc2-95e3-f043a9822a8e",
   "metadata": {},
   "outputs": [
    {
     "name": "stderr",
     "output_type": "stream",
     "text": [
      "/Users/catgaohow/opt/anaconda3/lib/python3.9/site-packages/xgboost/compat.py:36: FutureWarning: pandas.Int64Index is deprecated and will be removed from pandas in a future version. Use pandas.Index with the appropriate dtype instead.\n",
      "  from pandas import MultiIndex, Int64Index\n"
     ]
    }
   ],
   "source": [
    "import pandas as pd\n",
    "import numpy as np\n",
    "import os\n",
    "import sys\n",
    "\n",
    "sys.path.append('./../src/')\n",
    "from manuscript import sankey_side_by_side as sankey\n",
    "from manuscript import datasets, inout, export, stats\n",
    "\n",
    "pd.set_option('display.max_columns', None)\n",
    "\n",
    "#xgboost\n",
    "from xgboost import XGBClassifier\n",
    "from xgboost import plot_importance\n",
    "\n",
    "# Evaluation of models\n",
    "from sklearn.model_selection import train_test_split\n",
    "from sklearn.metrics import roc_curve, roc_auc_score, auc\n",
    "from sklearn.calibration import calibration_curve\n",
    "from sklearn.metrics import accuracy_score\n",
    "import matplotlib.pyplot as plt\n",
    "from sklearn.metrics import precision_recall_curve\n",
    "from sklearn.metrics import f1_score\n"
   ]
  },
  {
   "cell_type": "code",
   "execution_count": 2,
   "id": "0d36bd02-cfce-42f9-a87c-048b8263ecc2",
   "metadata": {},
   "outputs": [],
   "source": [
    "user = 'CAG'     # defines top hierarchy of output folder\n",
    "outfolder = '31_worst_two'    # name of notebook\n",
    "\n",
    "def dump_table(df, name):\n",
    "    export.full_frame(\n",
    "        user, \n",
    "        f'{outfolder}/{name}', \n",
    "        df, \n",
    "        index=True,\n",
    "        date=True\n",
    "    )\n",
    "\n",
    "def dump_figure(name):\n",
    "    export.image(\n",
    "        user,\n",
    "        f'{outfolder}/{name}',\n",
    "    )"
   ]
  },
  {
   "cell_type": "code",
   "execution_count": 3,
   "id": "2b07e725-d184-4b20-a234-7cf27ada752d",
   "metadata": {},
   "outputs": [],
   "source": [
    "data = pd.read_csv(\n",
    "    inout.get_material_path('general/30_VAP_flags/data_vap_flags_220919_1403.csv.gz'), \n",
    "    index_col=0)"
   ]
  },
  {
   "cell_type": "code",
   "execution_count": 4,
   "id": "8d86c9de-f3f9-4a12-b24a-8e6ed2827d23",
   "metadata": {},
   "outputs": [],
   "source": [
    "#take the worst value from the first two days "
   ]
  },
  {
   "cell_type": "code",
   "execution_count": 5,
   "id": "f8dbdcc8-d16c-4a1f-801c-7c9073bde9f8",
   "metadata": {},
   "outputs": [],
   "source": [
    "highbad=['Patient_id','Binary_outcome',#for models later\n",
    "    'ECMO_flag', 'Intubation_flag', 'Hemodialysis_flag',\n",
    "       'CRRT_flag', 'Temperature', 'Heart_rate', \n",
    "       'Norepinephrine_flag', 'Norepinephrine_rate', 'Respiratory_rate',\n",
    "        'PEEP',\n",
    "       'FiO2', 'Plateau_Pressure', 'Lung_Compliance', 'PEEP_changes',\n",
    "       'Respiratory_rate_changes', 'FiO2_changes',  'ABG_PaCO2',\n",
    "        'WBC_count', 'Lymphocytes', 'Neutrophils',\n",
    "       'Creatinine', \n",
    "       'Bilirubin', 'CRP', 'D_dimer', 'Ferritin', 'LDH', 'Lactic_acid',\n",
    "       'Procalcitonin', 'adjudicated','had_nonviral_vap', 'vap_indeterminate_notcured']\n",
    "\n",
    "lowbad=['Patient_id',\n",
    "    'Systolic_blood_pressure',\n",
    "       'Diastolic_blood_pressure', 'Mean_arterial_pressure','Oxygen_saturation', 'Urine_output', 'GCS_eye_opening',\n",
    "       'GCS_motor_response', 'GCS_verbal_response', 'RASS_score','ABG_pH','ABG_PaO2', 'PaO2FIO2_ratio',\n",
    "    'Hemoglobin', 'Platelets', 'Bicarbonate', 'Albumin',\n",
    "]"
   ]
  },
  {
   "cell_type": "code",
   "execution_count": 5,
   "id": "5165d182-df18-4f2f-aecf-c319d55489b3",
   "metadata": {},
   "outputs": [],
   "source": [
    "firsttwodays = data.groupby('Patient_id', as_index=False).head(2)"
   ]
  },
  {
   "cell_type": "code",
   "execution_count": 7,
   "id": "1c32d2ce-c6ea-42f5-8a37-43609253e095",
   "metadata": {},
   "outputs": [],
   "source": [
    "firsttwohigh = firsttwodays[highbad].groupby('Patient_id', as_index=False).max()\n",
    "firsttwolow = firsttwodays[lowbad].groupby('Patient_id', as_index=False).min()"
   ]
  },
  {
   "cell_type": "code",
   "execution_count": 8,
   "id": "03e2c725-35ea-4ac3-9f70-58aa0e8925fa",
   "metadata": {},
   "outputs": [],
   "source": [
    "worsttwo = pd.merge(firsttwohigh, firsttwolow, on='Patient_id') "
   ]
  },
  {
   "cell_type": "code",
   "execution_count": 9,
   "id": "d58d19f6-7bf3-495d-9fcf-59c80ff1f3c4",
   "metadata": {},
   "outputs": [],
   "source": [
    "#take only patients who had adjudication data\n",
    "worsttwo_adjudicated = worsttwo[worsttwo.adjudicated==1]"
   ]
  },
  {
   "cell_type": "code",
   "execution_count": 23,
   "id": "1fdece0c-d78b-4337-a210-5959fecffc06",
   "metadata": {},
   "outputs": [],
   "source": [
    "worsttwo_adjudicated.to_csv(\"worsttwo_adjudicated8-8-22.csv\")"
   ]
  },
  {
   "cell_type": "code",
   "execution_count": 11,
   "id": "f70d9065-76aa-4f15-aa20-2e368825c650",
   "metadata": {},
   "outputs": [],
   "source": [
    "dump_table(worsttwo_adjudicated, 'data_worsttwo_adjudicated.csv.gz')"
   ]
  },
  {
   "cell_type": "code",
   "execution_count": null,
   "id": "b61a287e-5dd3-4186-9a9b-bbc160bccfec",
   "metadata": {},
   "outputs": [],
   "source": []
  },
  {
   "cell_type": "code",
   "execution_count": null,
   "id": "5fabb1ad-9c64-497d-a953-ee38700bbfa0",
   "metadata": {},
   "outputs": [],
   "source": []
  },
  {
   "cell_type": "code",
   "execution_count": 7,
   "id": "27f183e8-67e9-4f8a-8649-d6687786b226",
   "metadata": {},
   "outputs": [],
   "source": [
    "lasttwodays = data.groupby('Patient_id', as_index=False).tail(2)"
   ]
  },
  {
   "cell_type": "code",
   "execution_count": 8,
   "id": "0e93b7b5-11ff-48e3-a535-06688ad9e193",
   "metadata": {},
   "outputs": [],
   "source": [
    "lasttwohigh = lasttwodays[highbad].groupby('Patient_id', as_index=False).max()\n",
    "lasttwolow = lasttwodays[lowbad].groupby('Patient_id', as_index=False).min()"
   ]
  },
  {
   "cell_type": "code",
   "execution_count": 9,
   "id": "d63e82db-fd8a-4406-9703-5edaf43a9a4b",
   "metadata": {},
   "outputs": [],
   "source": [
    "last_worsttwo = pd.merge(lasttwohigh, lasttwolow, on='Patient_id') "
   ]
  },
  {
   "cell_type": "code",
   "execution_count": 10,
   "id": "fb57e47c-7ec2-479f-b540-1076ae22f692",
   "metadata": {},
   "outputs": [],
   "source": [
    "#take only patients who had adjudication data\n",
    "last_worsttwo_adjudicated = last_worsttwo[last_worsttwo.adjudicated==1]"
   ]
  },
  {
   "cell_type": "code",
   "execution_count": 11,
   "id": "8fce8408-e0cc-428c-ac58-4012175ea2ec",
   "metadata": {},
   "outputs": [],
   "source": [
    "dump_table(last_worsttwo_adjudicated, 'data_last_worsttwo_adjudicated.csv.gz')"
   ]
  },
  {
   "cell_type": "code",
   "execution_count": null,
   "id": "7e445720-7326-4174-bd60-1e9ff091cd1e",
   "metadata": {},
   "outputs": [],
   "source": []
  },
  {
   "cell_type": "code",
   "execution_count": null,
   "id": "8289e701-335d-4e3e-b1b3-54cf4da54cc2",
   "metadata": {},
   "outputs": [],
   "source": []
  },
  {
   "cell_type": "code",
   "execution_count": 8,
   "id": "33ad0e1f-36d0-4cbd-a346-b8d248fc7ba9",
   "metadata": {},
   "outputs": [],
   "source": [
    "def middle(x):\n",
    "     if len(x) % 2 == 0:\n",
    "         return x.iloc[int(len(x) / 2) - 1:int(len(x) / 2)+1]\n",
    "     else:\n",
    "         return x.iloc[int((len(x) / 2 - 0.5)) - 1:int(len(x) / 2)+1]\n",
    "\n",
    "middle = pd.concat([middle(y) for _ , y in data.groupby('Patient_id')])"
   ]
  },
  {
   "cell_type": "code",
   "execution_count": 10,
   "id": "fe211a41-9d22-413f-8744-324bdc23868d",
   "metadata": {},
   "outputs": [],
   "source": [
    "middlehigh = middle[highbad].groupby('Patient_id', as_index=False).max()\n",
    "middlelow = middle[lowbad].groupby('Patient_id', as_index=False).min()\n",
    "middletwo = pd.merge(middlehigh, middlelow, on='Patient_id') \n",
    "#take only patients who had adjudication data\n",
    "middletwo_adjudicated = middletwo[middletwo.adjudicated==1]\n",
    "dump_table(middletwo_adjudicated, 'middletwo_adjudicated.csv.gz')"
   ]
  },
  {
   "cell_type": "code",
   "execution_count": null,
   "id": "259e3e58-7db6-44ab-9199-83893c47082d",
   "metadata": {},
   "outputs": [],
   "source": []
  }
 ],
 "metadata": {
  "kernelspec": {
   "display_name": "“VirvEnvJuly22forCD”",
   "language": "python",
   "name": "jupyter-kernel-py37"
  },
  "language_info": {
   "codemirror_mode": {
    "name": "ipython",
    "version": 3
   },
   "file_extension": ".py",
   "mimetype": "text/x-python",
   "name": "python",
   "nbconvert_exporter": "python",
   "pygments_lexer": "ipython3",
   "version": "3.9.7"
  }
 },
 "nbformat": 4,
 "nbformat_minor": 5
}
