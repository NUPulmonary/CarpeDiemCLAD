{
 "cells": [
  {
   "cell_type": "code",
   "execution_count": 1,
   "id": "b461c432",
   "metadata": {},
   "outputs": [],
   "source": [
    "%load_ext autoreload\n",
    "%autoreload 2\n",
    "%config InlineBackend.figure_format = \"retina\""
   ]
  },
  {
   "cell_type": "code",
   "execution_count": 2,
   "id": "1d52c4f2",
   "metadata": {},
   "outputs": [],
   "source": [
    "import sys"
   ]
  },
  {
   "cell_type": "code",
   "execution_count": 3,
   "id": "a5b71eb4",
   "metadata": {},
   "outputs": [
    {
     "data": {
      "text/html": [
       "<style>.container { width:90% !important; }</style>"
      ],
      "text/plain": [
       "<IPython.core.display.HTML object>"
      ]
     },
     "metadata": {},
     "output_type": "display_data"
    }
   ],
   "source": [
    "import os\n",
    "import numpy as np\n",
    "import pandas as pd\n",
    "import seaborn as sns\n",
    "import matplotlib as mpl\n",
    "import matplotlib.pyplot as plt\n",
    "\n",
    "sys.path.append('./../src/')\n",
    "from manuscript import sankey_side_by_side as sankey\n",
    "from manuscript import clustering, datasets, inout, export\n",
    "\n",
    "pd.options.display.max_columns = 200\n",
    "mpl.rcParams[\"figure.figsize\"] = (10, 8)\n",
    "mpl.rcParams[\"pdf.fonttype\"] = 42\n",
    "mpl.rcParams[\"font.family\"] = \"Arial\"\n",
    "\n",
    "import IPython.display\n",
    "IPython.display.display(IPython.display.HTML(\"<style>.container { width:90% !important; }</style>\"))\n",
    "\n",
    "fonts = inout.get_resource_path('fonts')\n",
    "for f in os.listdir(fonts):\n",
    "    if f.endswith(\".ttf\"):\n",
    "        mpl.font_manager.fontManager.addfont(f\"{fonts}/{f}\")"
   ]
  },
  {
   "cell_type": "code",
   "execution_count": 4,
   "id": "72f7b282-08f2-478e-837e-877eca948f52",
   "metadata": {},
   "outputs": [],
   "source": [
    "user = 'general'     # defines top hierarchy of output folder\n",
    "outfolder = '04c_clustering_stability_against_removal'    # name of notebook\n",
    "\n",
    "save = True"
   ]
  },
  {
   "cell_type": "code",
   "execution_count": 5,
   "id": "62ba6270",
   "metadata": {},
   "outputs": [],
   "source": [
    "def dump_figure(name):\n",
    "    if save:\n",
    "        export.image(\n",
    "            user,\n",
    "            f'{outfolder}/{name}',\n",
    "        )"
   ]
  },
  {
   "cell_type": "code",
   "execution_count": 6,
   "id": "6ea314f6",
   "metadata": {},
   "outputs": [],
   "source": [
    "import scipy.cluster.hierarchy"
   ]
  },
  {
   "cell_type": "code",
   "execution_count": 7,
   "id": "3e53a153",
   "metadata": {},
   "outputs": [],
   "source": [
    "import random"
   ]
  },
  {
   "cell_type": "code",
   "execution_count": 8,
   "id": "38412b8d",
   "metadata": {},
   "outputs": [],
   "source": [
    "number_of_clusters = 14"
   ]
  },
  {
   "cell_type": "markdown",
   "id": "cf31c6d6",
   "metadata": {},
   "source": [
    "# Get Data, as in reference"
   ]
  },
  {
   "cell_type": "code",
   "execution_count": 9,
   "id": "31d9deb8",
   "metadata": {},
   "outputs": [],
   "source": [
    "def reweight(data_with_mortality, data_mtx):\n",
    "    data_mtx = data_mtx.copy().rank(axis=0, pct=True)\n",
    "\n",
    "    # Reweight features\n",
    "    cutoff_groups = clustering.identify_related_features(data_with_mortality[data_columns])\n",
    "\n",
    "    threshold_for_relatedness = 0.7\n",
    "\n",
    "\n",
    "    data_mtx_for_similarity = data_mtx.copy()\n",
    "    data_mtx_for_similarity = clustering.reweight_related_features(\n",
    "        data_mtx_for_similarity, \n",
    "        approach='mean_rank', \n",
    "        groups=cutoff_groups[threshold_for_relatedness])\n",
    "    \n",
    "    return data_mtx, data_mtx_for_similarity"
   ]
  },
  {
   "cell_type": "code",
   "execution_count": 10,
   "id": "84761632",
   "metadata": {},
   "outputs": [],
   "source": [
    "data_with_mortality_raw = pd.read_csv(\n",
    "    inout.get_material_path('general/03_overwrite_PF_Cr/03data-external_220901_1010.csv.gz'), \n",
    "    index_col=0)"
   ]
  },
  {
   "cell_type": "code",
   "execution_count": 11,
   "id": "acfd9e39",
   "metadata": {},
   "outputs": [],
   "source": [
    "data_columns = clustering.get_reference_data_columns()\n",
    "data_mtx_raw = data_with_mortality_raw[data_columns].copy()"
   ]
  },
  {
   "cell_type": "code",
   "execution_count": null,
   "id": "beb7224f",
   "metadata": {},
   "outputs": [],
   "source": []
  },
  {
   "cell_type": "code",
   "execution_count": 13,
   "id": "c8d08216",
   "metadata": {},
   "outputs": [],
   "source": [
    "number_of_randomizations = 100"
   ]
  },
  {
   "cell_type": "code",
   "execution_count": 14,
   "id": "e859ca8f",
   "metadata": {
    "scrolled": false
   },
   "outputs": [
    {
     "name": "stdout",
     "output_type": "stream",
     "text": [
      "1\n",
      "2\n",
      "3\n",
      "4\n",
      "5\n",
      "6\n",
      "7\n",
      "8\n",
      "9\n",
      "10\n",
      "11\n",
      "12\n",
      "13\n",
      "14\n",
      "15\n",
      "16\n",
      "17\n",
      "18\n",
      "19\n",
      "20\n",
      "21\n",
      "22\n",
      "23\n",
      "24\n",
      "25\n",
      "26\n",
      "27\n",
      "28\n",
      "29\n",
      "30\n",
      "31\n",
      "32\n",
      "33\n",
      "34\n",
      "35\n",
      "36\n",
      "37\n",
      "38\n",
      "39\n",
      "40\n",
      "41\n",
      "42\n",
      "43\n",
      "44\n",
      "45\n",
      "46\n",
      "47\n",
      "48\n",
      "49\n",
      "50\n",
      "51\n",
      "52\n",
      "53\n",
      "54\n",
      "55\n",
      "56\n",
      "57\n",
      "58\n",
      "59\n",
      "60\n",
      "61\n",
      "62\n",
      "63\n",
      "64\n",
      "65\n",
      "66\n",
      "67\n",
      "68\n",
      "69\n",
      "70\n",
      "71\n",
      "72\n",
      "73\n",
      "74\n",
      "75\n",
      "76\n",
      "77\n",
      "78\n",
      "79\n",
      "80\n",
      "81\n",
      "82\n",
      "83\n",
      "84\n",
      "85\n",
      "86\n",
      "87\n",
      "88\n",
      "89\n",
      "90\n",
      "91\n",
      "92\n",
      "93\n",
      "CPU times: user 5h 3s, sys: 11min 59s, total: 5h 12min 2s\n",
      "Wall time: 2h 58min 23s\n"
     ]
    }
   ],
   "source": [
    "%%time\n",
    "counter = 0\n",
    "for j in range(0, number_of_randomizations):\n",
    "\n",
    "    patient_to_drop = random.choice(\n",
    "        data_with_mortality_raw['Patient_id'].unique()\n",
    "    )\n",
    "    p = inout.get_material_path(f'{user}/{outfolder}/assignments/{patient_to_drop}.csv')\n",
    "    if os.path.exists(p):\n",
    "        continue\n",
    "    else:\n",
    "        counter = counter+1\n",
    "        print(counter)\n",
    "    \n",
    "    f = data_with_mortality_raw['Patient_id'] == patient_to_drop\n",
    "\n",
    "    data_with_mortality = data_with_mortality_raw.loc[~f, :].copy()\n",
    "    data_mtx = data_mtx_raw.loc[~f, :]. copy()\n",
    "    data_mtx, data_mtx_for_similarity = reweight(data_with_mortality, data_mtx)\n",
    "\n",
    "    corr_mtx = data_mtx_for_similarity.transpose().corr(\"pearson\")\n",
    "    data_dist = clustering.get_distances(corr_mtx, approach='euclidean')   \n",
    "    tree = clustering.get_tree(df_dist=data_dist, approach='ward')\n",
    "    \n",
    "    range_to_probe = range(4, 21)\n",
    "    \n",
    "    _, assignments = clustering.table_with_assignments(tree, data_with_mortality.index, threshold_range=range_to_probe)\n",
    "    \n",
    "    agg = []\n",
    "    for threshold in range_to_probe:\n",
    "        with_cluster_by_mortality, _ = clustering.infer_clustermortality_and_add_cluster_id(\n",
    "            data_with_mortality, data_mtx, assignments[threshold])\n",
    "        with_cluster_by_mortality = with_cluster_by_mortality[['Patient_id', 'ICU_stay', 'ICU_day', 'cluster_order']].rename_axis('pt_day').reset_index()\n",
    "        with_cluster_by_mortality.loc[:, 'max_cluster'] = threshold\n",
    "        with_cluster_by_mortality.loc[:, 'dropped_patient'] = patient_to_drop\n",
    "        agg.append(with_cluster_by_mortality)\n",
    "    with_cluster_by_mortality = pd.concat(agg)\n",
    "    export.full_frame(user, f'{outfolder}/assignments/{patient_to_drop}.csv', with_cluster_by_mortality)\n",
    "    \n",
    "\n",
    "    clustering.quilt(\n",
    "        data_with_mortality=data_with_mortality,\n",
    "        data_mtx=data_mtx,\n",
    "        assignment=assignments[number_of_clusters]\n",
    "    )\n",
    "    plt.title(patient_to_drop, fontsize=20)\n",
    "    export.image(user, f'{outfolder}/heatmap_at_{number_of_clusters}/{patient_to_drop}.pdf')\n",
    "    plt.close()\n",
    "\n",
    "    clustering.quilt(\n",
    "        data_with_mortality=data_with_mortality,\n",
    "        data_mtx=data_mtx,\n",
    "        assignment=assignments[5]\n",
    "    )\n",
    "    plt.title(patient_to_drop, fontsize=20)\n",
    "    export.image(user, f'{outfolder}/heatmap_at_5/{patient_to_drop}.pdf')\n",
    "    plt.close()"
   ]
  },
  {
   "cell_type": "code",
   "execution_count": null,
   "id": "9d0a2fa6",
   "metadata": {},
   "outputs": [],
   "source": []
  },
  {
   "cell_type": "code",
   "execution_count": null,
   "id": "d733cd7d",
   "metadata": {},
   "outputs": [],
   "source": []
  },
  {
   "cell_type": "code",
   "execution_count": null,
   "id": "54d2d2ab",
   "metadata": {},
   "outputs": [],
   "source": []
  },
  {
   "cell_type": "code",
   "execution_count": null,
   "id": "544a5d46",
   "metadata": {},
   "outputs": [],
   "source": []
  },
  {
   "cell_type": "code",
   "execution_count": null,
   "id": "eb6cd6c6",
   "metadata": {},
   "outputs": [],
   "source": []
  },
  {
   "cell_type": "code",
   "execution_count": null,
   "id": "33c0e445",
   "metadata": {},
   "outputs": [],
   "source": []
  },
  {
   "cell_type": "code",
   "execution_count": null,
   "id": "0351027c",
   "metadata": {},
   "outputs": [],
   "source": []
  },
  {
   "cell_type": "code",
   "execution_count": null,
   "id": "826abd69",
   "metadata": {},
   "outputs": [],
   "source": []
  },
  {
   "cell_type": "code",
   "execution_count": null,
   "id": "c044d827",
   "metadata": {},
   "outputs": [],
   "source": []
  },
  {
   "cell_type": "code",
   "execution_count": null,
   "id": "d414b02a",
   "metadata": {},
   "outputs": [],
   "source": []
  },
  {
   "cell_type": "code",
   "execution_count": null,
   "id": "3a0e7137",
   "metadata": {},
   "outputs": [],
   "source": []
  },
  {
   "cell_type": "code",
   "execution_count": null,
   "id": "b1bed491",
   "metadata": {},
   "outputs": [],
   "source": []
  },
  {
   "cell_type": "code",
   "execution_count": null,
   "id": "9ec008c6",
   "metadata": {},
   "outputs": [],
   "source": []
  }
 ],
 "metadata": {
  "kernelspec": {
   "display_name": "Python 3 (ipykernel)",
   "language": "python",
   "name": "python3"
  },
  "language_info": {
   "codemirror_mode": {
    "name": "ipython",
    "version": 3
   },
   "file_extension": ".py",
   "mimetype": "text/x-python",
   "name": "python",
   "nbconvert_exporter": "python",
   "pygments_lexer": "ipython3",
   "version": "3.9.12"
  }
 },
 "nbformat": 4,
 "nbformat_minor": 5
}
