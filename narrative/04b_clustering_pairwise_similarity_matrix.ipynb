{
 "cells": [
  {
   "cell_type": "code",
   "execution_count": 1,
   "id": "b461c432",
   "metadata": {},
   "outputs": [],
   "source": [
    "%load_ext autoreload\n",
    "%autoreload 2\n",
    "%config InlineBackend.figure_format = \"retina\""
   ]
  },
  {
   "cell_type": "code",
   "execution_count": 2,
   "id": "1d52c4f2",
   "metadata": {},
   "outputs": [],
   "source": [
    "import sys"
   ]
  },
  {
   "cell_type": "code",
   "execution_count": 3,
   "id": "a5b71eb4",
   "metadata": {},
   "outputs": [
    {
     "data": {
      "text/html": [
       "<style>.container { width:90% !important; }</style>"
      ],
      "text/plain": [
       "<IPython.core.display.HTML object>"
      ]
     },
     "metadata": {},
     "output_type": "display_data"
    }
   ],
   "source": [
    "import os\n",
    "import sys\n",
    "import numpy as np\n",
    "import pandas as pd\n",
    "import seaborn as sns\n",
    "import matplotlib as mpl\n",
    "import matplotlib.pyplot as plt\n",
    "\n",
    "sys.path.append('./../src/')\n",
    "from manuscript import sankey_side_by_side as sankey\n",
    "from manuscript import clustering, datasets, inout, export\n",
    "\n",
    "pd.options.display.max_columns = 200\n",
    "mpl.rcParams[\"figure.figsize\"] = (10, 8)\n",
    "mpl.rcParams[\"pdf.fonttype\"] = 42\n",
    "mpl.rcParams[\"font.family\"] = \"Arial\"\n",
    "\n",
    "import IPython.display\n",
    "IPython.display.display(IPython.display.HTML(\"<style>.container { width:90% !important; }</style>\"))\n",
    "\n",
    "fonts = inout.get_resource_path('fonts')\n",
    "for f in os.listdir(fonts):\n",
    "    if f.endswith(\".ttf\"):\n",
    "        mpl.font_manager.fontManager.addfont(f\"{fonts}/{f}\")"
   ]
  },
  {
   "cell_type": "code",
   "execution_count": 4,
   "id": "72f7b282-08f2-478e-837e-877eca948f52",
   "metadata": {},
   "outputs": [],
   "source": [
    "user = 'general'     # defines top hierarchy of output folder\n",
    "outfolder = '04b_clustering_pairwise_similarity_matrix'    # name of notebook\n",
    "save = True"
   ]
  },
  {
   "cell_type": "code",
   "execution_count": 5,
   "id": "62ba6270",
   "metadata": {},
   "outputs": [],
   "source": [
    "def dump_figure(name):\n",
    "    if save:\n",
    "        export.image(\n",
    "            user,\n",
    "            f'{outfolder}/{name}',\n",
    "        )"
   ]
  },
  {
   "cell_type": "code",
   "execution_count": 6,
   "id": "93d645fe",
   "metadata": {},
   "outputs": [],
   "source": [
    "def dump_raster_figure(name):\n",
    "    if save:\n",
    "        export.raster_image(\n",
    "            user,\n",
    "            f'{outfolder}/{name}',\n",
    "            dpi=300\n",
    "        )"
   ]
  },
  {
   "cell_type": "code",
   "execution_count": 7,
   "id": "34a9ea63-a5e5-4503-b4b8-c4ee3701f355",
   "metadata": {},
   "outputs": [],
   "source": [
    "def dump_table(df, name):\n",
    "    if save:\n",
    "        export.full_frame(\n",
    "            user, \n",
    "            f'{outfolder}/{name}', \n",
    "            df, \n",
    "            index=True,\n",
    "            date=True\n",
    "        )\n",
    "        \n",
    "        "
   ]
  },
  {
   "cell_type": "markdown",
   "id": "cf31c6d6",
   "metadata": {},
   "source": [
    "# Get Data, as in reference"
   ]
  },
  {
   "cell_type": "code",
   "execution_count": 8,
   "id": "bb7edc44",
   "metadata": {},
   "outputs": [],
   "source": [
    "data = pd.read_csv(\n",
    "    inout.get_material_path('general/03_overwrite_PF_Cr/03data-external_220901_1010.csv.gz'), \n",
    "    index_col=0)"
   ]
  },
  {
   "cell_type": "code",
   "execution_count": 9,
   "id": "158ead8b-c648-48a9-99d3-24801195337c",
   "metadata": {},
   "outputs": [
    {
     "data": {
      "text/plain": [
       "(12495, 72)"
      ]
     },
     "execution_count": 9,
     "metadata": {},
     "output_type": "execute_result"
    }
   ],
   "source": [
    "data.shape"
   ]
  },
  {
   "cell_type": "code",
   "execution_count": 10,
   "id": "ea50c2e6-abcc-4673-a5df-3496b8c27b30",
   "metadata": {},
   "outputs": [],
   "source": [
    "data = data.reset_index()"
   ]
  },
  {
   "cell_type": "markdown",
   "id": "932a2250",
   "metadata": {},
   "source": [
    "List of columns for clustering"
   ]
  },
  {
   "cell_type": "code",
   "execution_count": 11,
   "id": "0ffc801a",
   "metadata": {},
   "outputs": [],
   "source": [
    "data_columns = clustering.get_reference_data_columns()"
   ]
  },
  {
   "cell_type": "markdown",
   "id": "4d435cc6",
   "metadata": {},
   "source": [
    "Get data that we will run clustering on"
   ]
  },
  {
   "cell_type": "code",
   "execution_count": 12,
   "id": "6839ce29",
   "metadata": {},
   "outputs": [],
   "source": [
    "data_mtx_orig = data[data_columns].copy()"
   ]
  },
  {
   "cell_type": "markdown",
   "id": "aa7132f1-4b8c-4c69-815b-20fb35434fe4",
   "metadata": {},
   "source": [
    "## 0. Preparation of shared aspects"
   ]
  },
  {
   "cell_type": "markdown",
   "id": "0b54ac0a-7789-41aa-afd4-188c679771d9",
   "metadata": {},
   "source": [
    "Let's create groups of variables which share those high correlations. Let's try different cutoffs for high correlation, as they produce different results"
   ]
  },
  {
   "cell_type": "code",
   "execution_count": 13,
   "id": "553c188e-7f80-40ea-ac38-473f941bb8a4",
   "metadata": {},
   "outputs": [],
   "source": [
    "cutoff_groups_on_orig = clustering.identify_related_features(data_mtx_orig)\n"
   ]
  },
  {
   "cell_type": "code",
   "execution_count": 14,
   "id": "24d9ea42",
   "metadata": {},
   "outputs": [],
   "source": [
    "data_mtx_as_pct = data_mtx_orig.rank(axis=0, pct=True)\n",
    "data_dist_col = clustering.get_distances(\n",
    "    data_mtx_as_pct.transpose(), approach='nan_euclidean')   \n",
    "col_tree = clustering.get_tree(data_dist_col, approach='ward')"
   ]
  },
  {
   "cell_type": "code",
   "execution_count": 15,
   "id": "625de29c",
   "metadata": {},
   "outputs": [],
   "source": [
    "threshold_for_relatedness = 0.7\n",
    "cutoff_groups = cutoff_groups_on_orig[threshold_for_relatedness]"
   ]
  },
  {
   "cell_type": "code",
   "execution_count": 16,
   "id": "a9bd86a8",
   "metadata": {},
   "outputs": [],
   "source": [
    "approaches = {}"
   ]
  },
  {
   "cell_type": "markdown",
   "id": "54ad49b7-2f52-40b6-a0ab-a59865d84382",
   "metadata": {},
   "source": [
    "## 1. Similarity approach"
   ]
  },
  {
   "cell_type": "code",
   "execution_count": 17,
   "id": "92df0829",
   "metadata": {},
   "outputs": [],
   "source": [
    "data_mtx = data_mtx_orig.copy()\n",
    "data_mtx = data_mtx.rank(axis=0, pct=True)\n",
    "\n",
    "data_mtx_for_similarity = data_mtx.copy()\n",
    "data_mtx_for_similarity = clustering.reweight_related_features(\n",
    "    data_mtx_for_similarity, \n",
    "    approach='mean_rank', \n",
    "    groups=cutoff_groups)"
   ]
  },
  {
   "cell_type": "code",
   "execution_count": 18,
   "id": "aa690a9b-b058-4bbd-b709-40406dc3d936",
   "metadata": {},
   "outputs": [],
   "source": [
    "corr_mtx = data_mtx_for_similarity.transpose().corr(\"pearson\")\n",
    "data_dist = clustering.get_distances(corr_mtx, approach='euclidean')   \n",
    "tree = clustering.get_tree(df_dist=data_dist, approach='ward')"
   ]
  },
  {
   "cell_type": "code",
   "execution_count": 19,
   "id": "a7419208",
   "metadata": {},
   "outputs": [],
   "source": [
    "out, assignments = clustering.table_with_assignments(\n",
    "    tree=tree,\n",
    "    labels=data.index\n",
    ")"
   ]
  },
  {
   "cell_type": "code",
   "execution_count": null,
   "id": "485745f5",
   "metadata": {
    "scrolled": false
   },
   "outputs": [
    {
     "name": "stderr",
     "output_type": "stream",
     "text": [
      "/Users/tstoeger/opt/miniconda3/envs/cereal/lib/python3.9/site-packages/seaborn/matrix.py:654: UserWarning: Clustering large matrix with scipy. Installing `fastcluster` may give better performance.\n",
      "  warnings.warn(msg)\n"
     ]
    }
   ],
   "source": [
    "sns.clustermap(\n",
    "    corr_mtx.astype(float),\n",
    "    vmin=-1,\n",
    "    vmax=1,\n",
    "    cmap='coolwarm',\n",
    "    cbar=False,\n",
    "    method='ward',\n",
    "    xticklabels=False,\n",
    "    yticklabels=False\n",
    ")\n",
    "dump_raster_figure('pairwise.png')\n",
    "dump_figure('pairwise.pdf')"
   ]
  },
  {
   "cell_type": "code",
   "execution_count": null,
   "id": "4cb74089",
   "metadata": {},
   "outputs": [],
   "source": [
    "sns.clustermap(\n",
    "    corr_mtx.iloc[:10, :10].astype(float),\n",
    "    vmin=-1,\n",
    "    vmax=1,\n",
    "    cmap='coolwarm',\n",
    "    method='ward',\n",
    "    xticklabels=False,\n",
    "    yticklabels=False\n",
    ")\n",
    "dump_figure('palette.pdf')"
   ]
  },
  {
   "cell_type": "code",
   "execution_count": null,
   "id": "1dbb0a54",
   "metadata": {},
   "outputs": [],
   "source": []
  },
  {
   "cell_type": "code",
   "execution_count": null,
   "id": "a6aad410",
   "metadata": {},
   "outputs": [],
   "source": []
  },
  {
   "cell_type": "code",
   "execution_count": null,
   "id": "3fb5743d",
   "metadata": {},
   "outputs": [],
   "source": []
  },
  {
   "cell_type": "code",
   "execution_count": null,
   "id": "5bb06241",
   "metadata": {},
   "outputs": [],
   "source": []
  },
  {
   "cell_type": "code",
   "execution_count": null,
   "id": "db7307c8",
   "metadata": {},
   "outputs": [],
   "source": []
  }
 ],
 "metadata": {
  "kernelspec": {
   "display_name": "Python 3 (ipykernel)",
   "language": "python",
   "name": "python3"
  },
  "language_info": {
   "codemirror_mode": {
    "name": "ipython",
    "version": 3
   },
   "file_extension": ".py",
   "mimetype": "text/x-python",
   "name": "python",
   "nbconvert_exporter": "python",
   "pygments_lexer": "ipython3",
   "version": "3.9.12"
  }
 },
 "nbformat": 4,
 "nbformat_minor": 5
}
