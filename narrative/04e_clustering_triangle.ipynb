{
 "cells": [
  {
   "cell_type": "code",
   "execution_count": 1,
   "id": "b461c432",
   "metadata": {},
   "outputs": [],
   "source": [
    "%load_ext autoreload\n",
    "%autoreload 2\n",
    "%config InlineBackend.figure_format = \"retina\""
   ]
  },
  {
   "cell_type": "code",
   "execution_count": 2,
   "id": "1d52c4f2",
   "metadata": {},
   "outputs": [],
   "source": [
    "import sys"
   ]
  },
  {
   "cell_type": "code",
   "execution_count": 3,
   "id": "a5b71eb4",
   "metadata": {},
   "outputs": [
    {
     "data": {
      "text/html": [
       "<style>.container { width:90% !important; }</style>"
      ],
      "text/plain": [
       "<IPython.core.display.HTML object>"
      ]
     },
     "metadata": {},
     "output_type": "display_data"
    }
   ],
   "source": [
    "import os\n",
    "import sys\n",
    "import numpy as np\n",
    "import pandas as pd\n",
    "import seaborn as sns\n",
    "import matplotlib as mpl\n",
    "import matplotlib.pyplot as plt\n",
    "\n",
    "sys.path.append('./../src/')\n",
    "from manuscript import sankey_side_by_side as sankey\n",
    "from manuscript import clustering, datasets, inout, export\n",
    "\n",
    "pd.options.display.max_columns = 200\n",
    "mpl.rcParams[\"figure.figsize\"] = (10, 8)\n",
    "mpl.rcParams[\"pdf.fonttype\"] = 42\n",
    "mpl.rcParams[\"font.family\"] = \"Arial\"\n",
    "\n",
    "import IPython.display\n",
    "IPython.display.display(IPython.display.HTML(\"<style>.container { width:90% !important; }</style>\"))\n",
    "\n",
    "fonts = inout.get_resource_path('fonts')\n",
    "for f in os.listdir(fonts):\n",
    "    if f.endswith(\".ttf\"):\n",
    "        mpl.font_manager.fontManager.addfont(f\"{fonts}/{f}\")"
   ]
  },
  {
   "cell_type": "code",
   "execution_count": 4,
   "id": "72f7b282-08f2-478e-837e-877eca948f52",
   "metadata": {},
   "outputs": [],
   "source": [
    "user = 'general'     # defines top hierarchy of output folder\n",
    "outfolder = '04e_clustering_triangle'    # name of notebook\n",
    "save = False"
   ]
  },
  {
   "cell_type": "code",
   "execution_count": 5,
   "id": "62ba6270",
   "metadata": {},
   "outputs": [],
   "source": [
    "def dump_figure(name):\n",
    "    if save:\n",
    "        export.image(\n",
    "            user,\n",
    "            f'{outfolder}/{name}',\n",
    "        )"
   ]
  },
  {
   "cell_type": "code",
   "execution_count": 6,
   "id": "34a9ea63-a5e5-4503-b4b8-c4ee3701f355",
   "metadata": {},
   "outputs": [],
   "source": [
    "def dump_table(df, name):\n",
    "    if save:\n",
    "        export.full_frame(\n",
    "            user, \n",
    "            f'{outfolder}/{name}', \n",
    "            df, \n",
    "            index=True,\n",
    "            date=True\n",
    "        )"
   ]
  },
  {
   "cell_type": "markdown",
   "id": "cf31c6d6",
   "metadata": {},
   "source": [
    "# Get Data, as in reference"
   ]
  },
  {
   "cell_type": "code",
   "execution_count": 7,
   "id": "bb7edc44",
   "metadata": {},
   "outputs": [],
   "source": [
    "data = pd.read_csv(\n",
    "    inout.get_material_path('general/03_overwrite_PF_Cr/03data-external_220901_1010.csv.gz'), \n",
    "    index_col=0)"
   ]
  },
  {
   "cell_type": "code",
   "execution_count": 8,
   "id": "158ead8b-c648-48a9-99d3-24801195337c",
   "metadata": {},
   "outputs": [
    {
     "data": {
      "text/plain": [
       "(12495, 72)"
      ]
     },
     "execution_count": 8,
     "metadata": {},
     "output_type": "execute_result"
    }
   ],
   "source": [
    "data.shape"
   ]
  },
  {
   "cell_type": "code",
   "execution_count": 9,
   "id": "ea50c2e6-abcc-4673-a5df-3496b8c27b30",
   "metadata": {},
   "outputs": [],
   "source": [
    "data = data.reset_index()"
   ]
  },
  {
   "cell_type": "markdown",
   "id": "932a2250",
   "metadata": {},
   "source": [
    "List of columns for clustering"
   ]
  },
  {
   "cell_type": "code",
   "execution_count": 10,
   "id": "0ffc801a",
   "metadata": {},
   "outputs": [],
   "source": [
    "data_columns = clustering.get_reference_data_columns()"
   ]
  },
  {
   "cell_type": "markdown",
   "id": "4d435cc6",
   "metadata": {},
   "source": [
    "Get data that we will run clustering on"
   ]
  },
  {
   "cell_type": "code",
   "execution_count": 11,
   "id": "6839ce29",
   "metadata": {},
   "outputs": [],
   "source": [
    "data_mtx_orig = data[data_columns].copy()"
   ]
  },
  {
   "cell_type": "markdown",
   "id": "aa7132f1-4b8c-4c69-815b-20fb35434fe4",
   "metadata": {},
   "source": [
    "## 0. Preparation of shared aspects"
   ]
  },
  {
   "cell_type": "markdown",
   "id": "0b54ac0a-7789-41aa-afd4-188c679771d9",
   "metadata": {},
   "source": [
    "Let's create groups of variables which share those high correlations. Let's try different cutoffs for high correlation, as they produce different results"
   ]
  },
  {
   "cell_type": "code",
   "execution_count": 12,
   "id": "553c188e-7f80-40ea-ac38-473f941bb8a4",
   "metadata": {},
   "outputs": [],
   "source": [
    "cutoff_groups_on_orig = clustering.identify_related_features(data_mtx_orig)\n"
   ]
  },
  {
   "cell_type": "code",
   "execution_count": 13,
   "id": "24d9ea42",
   "metadata": {},
   "outputs": [],
   "source": [
    "data_mtx_as_pct = data_mtx_orig.rank(axis=0, pct=True)\n",
    "data_dist_col = clustering.get_distances(\n",
    "    data_mtx_as_pct.transpose(), approach='nan_euclidean')   \n",
    "col_tree = clustering.get_tree(data_dist_col, approach='ward')"
   ]
  },
  {
   "cell_type": "code",
   "execution_count": 14,
   "id": "625de29c",
   "metadata": {},
   "outputs": [],
   "source": [
    "threshold_for_relatedness = 0.7\n",
    "cutoff_groups = cutoff_groups_on_orig[threshold_for_relatedness]"
   ]
  },
  {
   "cell_type": "code",
   "execution_count": 15,
   "id": "a9bd86a8",
   "metadata": {},
   "outputs": [],
   "source": [
    "approaches = {}"
   ]
  },
  {
   "cell_type": "markdown",
   "id": "54ad49b7-2f52-40b6-a0ab-a59865d84382",
   "metadata": {},
   "source": [
    "## 1. Similarity approach"
   ]
  },
  {
   "cell_type": "code",
   "execution_count": 16,
   "id": "92df0829",
   "metadata": {},
   "outputs": [],
   "source": [
    "data_mtx = data_mtx_orig.copy()\n",
    "data_mtx = data_mtx.rank(axis=0, pct=True)\n",
    "\n",
    "data_mtx_for_similarity = data_mtx.copy()\n",
    "data_mtx_for_similarity = clustering.reweight_related_features(\n",
    "    data_mtx_for_similarity, \n",
    "    approach='mean_rank', \n",
    "    groups=cutoff_groups)"
   ]
  },
  {
   "cell_type": "code",
   "execution_count": 17,
   "id": "aa690a9b-b058-4bbd-b709-40406dc3d936",
   "metadata": {},
   "outputs": [],
   "source": [
    "corr_mtx = data_mtx_for_similarity.transpose().corr(\"pearson\")\n",
    "data_dist = clustering.get_distances(corr_mtx, approach='euclidean')   \n",
    "tree = clustering.get_tree(df_dist=data_dist, approach='ward')"
   ]
  },
  {
   "cell_type": "code",
   "execution_count": 18,
   "id": "a7419208",
   "metadata": {},
   "outputs": [],
   "source": [
    "out, assignments = clustering.table_with_assignments(\n",
    "    tree=tree,\n",
    "    labels=data.index\n",
    ")"
   ]
  },
  {
   "cell_type": "code",
   "execution_count": 19,
   "id": "624271b0",
   "metadata": {},
   "outputs": [],
   "source": [
    "sign_mortality_similarity = clustering.get_sign_mortalities(\n",
    "    df_assigned_clusters=out,\n",
    "    df_with_mortality=data\n",
    ")\n",
    "sign_mortality_similarity.loc[:, 'approach'] = 'similarity'"
   ]
  },
  {
   "cell_type": "code",
   "execution_count": 20,
   "id": "70b1c6ac",
   "metadata": {},
   "outputs": [],
   "source": [
    "approaches = {\n",
    "    'Similarity' : {\n",
    "        'feature_matrix': data_mtx,   # data_mtx_orig.rank(axis=0, pct=True),\n",
    "        'data_dist':data_dist,\n",
    "        'tree':tree,\n",
    "        'assignments_table':out,\n",
    "        'assignments':assignments\n",
    "    }\n",
    "}"
   ]
  },
  {
   "cell_type": "markdown",
   "id": "d3f9698f-db8f-450b-b32e-dae45e0e7815",
   "metadata": {},
   "source": [
    "## 2. Rank-euclidean approach"
   ]
  },
  {
   "cell_type": "code",
   "execution_count": 21,
   "id": "8421b214",
   "metadata": {},
   "outputs": [],
   "source": [
    "data_mtx = data_mtx_orig.copy()\n",
    "data_mtx = data_mtx.rank(axis=0, pct=True)\n",
    "\n",
    "data_mtx = data_mtx.copy()\n",
    "data_mtx = clustering.reweight_related_features(\n",
    "    data_mtx, \n",
    "    approach='square_root', \n",
    "    groups=cutoff_groups)"
   ]
  },
  {
   "cell_type": "code",
   "execution_count": 22,
   "id": "862dc760-deb7-4a61-b0b6-fe4b7ac2457f",
   "metadata": {},
   "outputs": [],
   "source": [
    "rank_data_dist = clustering.get_distances(data_mtx, approach='nan_euclidean')\n",
    "rank_tree = clustering.get_tree(rank_data_dist, approach='ward')\n",
    "rank_out, rank_assignments = clustering.table_with_assignments(\n",
    "    tree=rank_tree,\n",
    "    labels=data.index\n",
    ")\n",
    "\n",
    "sign_mortality_rank = clustering.get_sign_mortalities(\n",
    "    df_assigned_clusters=rank_out, \n",
    "    df_with_mortality=data)\n",
    "sign_mortality_rank.loc[:, 'approach'] = 'rank-eucliden'"
   ]
  },
  {
   "cell_type": "code",
   "execution_count": 23,
   "id": "5ccfa1ac",
   "metadata": {},
   "outputs": [],
   "source": [
    "approaches['Ranked-Euclidean'] = {\n",
    "        'feature_matrix':data_mtx,\n",
    "        'data_dist':rank_data_dist,\n",
    "        'tree':rank_tree,\n",
    "        'assignments_table':rank_out,\n",
    "        'assignments':rank_assignments\n",
    "}"
   ]
  },
  {
   "cell_type": "markdown",
   "id": "3b2948f3-534d-4407-a17b-afc5f3fd43c1",
   "metadata": {},
   "source": [
    "## 3. Normalized-euclidean approach "
   ]
  },
  {
   "cell_type": "code",
   "execution_count": 24,
   "id": "248ace9a",
   "metadata": {},
   "outputs": [],
   "source": [
    "data_mtx = data_mtx_orig.copy()"
   ]
  },
  {
   "cell_type": "code",
   "execution_count": 25,
   "id": "a210d804-48a5-4fff-8336-4deb88f30104",
   "metadata": {},
   "outputs": [],
   "source": [
    "to_winsor_both = [\n",
    "    'Temperature', 'Heart_rate', 'Systolic_blood_pressure',\n",
    "    'Diastolic_blood_pressure', 'Mean_arterial_pressure',\n",
    "    'Respiratory_rate', 'PEEP', 'Plateau_Pressure',\n",
    "    'ABG_pH', 'ABG_PaCO2', 'ABG_PaO2', 'PaO2FIO2_ratio',\n",
    "    'Hemoglobin', 'Bicarbonate', 'Albumin', 'LDH',\n",
    "    'Lactic_acid'\n",
    "]\n",
    "to_winsor_right = [\n",
    "    'Norepinephrine_rate', 'Urine_output',\n",
    "    'Lung_Compliance', 'WBC_count', 'Lymphocytes',\n",
    "    'Neutrophils', 'Platelets', 'Creatinine',\n",
    "    'Bilirubin', 'CRP', 'D_dimer', 'Ferritin',\n",
    "    'Procalcitonin'\n",
    "]\n",
    "to_winsor_left = [\n",
    "    'Oxygen_saturation'\n",
    "]\n",
    "\n",
    "\n",
    "WINSOR_THRESHOLD_PCT = 1\n",
    "\n",
    "for column in data_columns:\n",
    "    col = data_mtx[column].dropna()\n",
    "    lower = np.percentile(col, WINSOR_THRESHOLD_PCT)\n",
    "    upper = np.percentile(col, 100 - WINSOR_THRESHOLD_PCT)\n",
    "    if column in to_winsor_both or column in to_winsor_left:\n",
    "        data_mtx.loc[data_mtx[column] < lower, column] = lower\n",
    "    if column in to_winsor_both or column in to_winsor_right:\n",
    "        data_mtx.loc[data_mtx[column] > upper, column] = upper\n",
    "        \n",
    "    \n",
    "\n",
    "to_log2 = [\n",
    "    'Norepinephrine_rate', 'ABG_PaO2', \n",
    "    'Creatinine', 'Bilirubin', 'D_dimer', \n",
    "    'Ferritin', 'LDH', 'Lactic_acid',\n",
    "    'Procalcitonin'\n",
    "]\n",
    "\n",
    "for c in to_log2:\n",
    "    data_mtx[c] = np.log2(data_mtx[c])\n",
    "\n",
    "to_quantize = [\n",
    "    'ECMO_flag', 'Intubation_flag', 'Hemodialysis_flag', 'CRRT_flag',\n",
    "    'Norepinephrine_flag',\n",
    "    'GCS_eye_opening', 'GCS_motor_response',\n",
    "    'GCS_verbal_response', 'RASS_score', 'PEEP', 'FiO2',\n",
    "    'PEEP_changes', 'Respiratory_rate_changes',\n",
    "    'FiO2_changes'\n",
    "]\n",
    "\n",
    "for c in to_quantize:\n",
    "    data_mtx[c] = data_mtx[c].rank(pct=True)\n",
    "\n",
    "for c in list(set(data_columns) - set(to_quantize)):\n",
    "    col = data_mtx[c]\n",
    "    col = (col - np.nanmin(col)) / (np.nanmax(col) - np.nanmin(col))\n",
    "    data_mtx[c] = col"
   ]
  },
  {
   "cell_type": "code",
   "execution_count": 26,
   "id": "ef8189f8",
   "metadata": {},
   "outputs": [],
   "source": [
    "data_mtx = clustering.reweight_related_features(\n",
    "    data_mtx, \n",
    "    approach='square_root', \n",
    "    groups=cutoff_groups)\n",
    "\n"
   ]
  },
  {
   "cell_type": "code",
   "execution_count": 27,
   "id": "5643319f-c1db-49fc-8118-d07724cda3c0",
   "metadata": {},
   "outputs": [],
   "source": [
    "norm_data_dist = clustering.get_distances(data_mtx, approach='nan_euclidean')\n",
    "norm_tree = clustering.get_tree(norm_data_dist, approach='ward')\n",
    "norm_out, norm_assignments = clustering.table_with_assignments(\n",
    "    tree=norm_tree,\n",
    "    labels=data.index\n",
    ")"
   ]
  },
  {
   "cell_type": "code",
   "execution_count": 28,
   "id": "0082915d-5366-4a60-a94f-10270f467629",
   "metadata": {},
   "outputs": [],
   "source": [
    "sign_mortality_norm = clustering.get_sign_mortalities(\n",
    "    df_assigned_clusters=norm_out, \n",
    "    df_with_mortality=data)\n",
    "sign_mortality_norm.loc[:, 'approach'] = 'norm-euclidean'"
   ]
  },
  {
   "cell_type": "code",
   "execution_count": 29,
   "id": "0a019514",
   "metadata": {},
   "outputs": [],
   "source": [
    "approaches['Normalized-Euclidean']  = {\n",
    "        'feature_matrix':data_mtx,\n",
    "        'data_dist':norm_data_dist,\n",
    "        'tree':norm_tree,\n",
    "        'assignments_table':norm_out,\n",
    "        'assignments':norm_assignments\n",
    "    }"
   ]
  },
  {
   "cell_type": "markdown",
   "id": "9e3e6e5e-4e12-4458-9596-c3a0daf25b26",
   "metadata": {},
   "source": [
    "# 3. Test triangle inequality"
   ]
  },
  {
   "cell_type": "code",
   "execution_count": 30,
   "id": "19c9556e",
   "metadata": {},
   "outputs": [],
   "source": [
    "approach = 'Normalized-Euclidean'"
   ]
  },
  {
   "cell_type": "code",
   "execution_count": 31,
   "id": "226a2075",
   "metadata": {},
   "outputs": [],
   "source": [
    "import random"
   ]
  },
  {
   "cell_type": "code",
   "execution_count": 32,
   "id": "59c1c96d",
   "metadata": {},
   "outputs": [
    {
     "name": "stdout",
     "output_type": "stream",
     "text": [
      "Similarity : 0 out of 10000000\n",
      "Ranked-Euclidean : 262 out of 10000000\n",
      "Normalized-Euclidean : 447 out of 10000000\n",
      "CPU times: user 11min 5s, sys: 3min 16s, total: 14min 22s\n",
      "Wall time: 2h 55min 31s\n"
     ]
    }
   ],
   "source": [
    "%%time\n",
    "\n",
    "\n",
    "\n",
    "for approach in approaches.keys():\n",
    "\n",
    "    r = approaches[approach]['data_dist']\n",
    "    r = pd.DataFrame(r)\n",
    "\n",
    "    agg = []\n",
    "    boot=10000000\n",
    "    for n in range(boot):\n",
    "\n",
    "        ch = random.choices(r.index,k=3)\n",
    "\n",
    "        while len(set(ch))<3:\n",
    "            ch = random.choices(r.index,k=3)\n",
    "\n",
    "        lengths = sorted(\n",
    "            [\n",
    "                r.loc[ch[0], ch[1]],\n",
    "                r.loc[ch[0], ch[2]],\n",
    "                r.loc[ch[1], ch[2]]\n",
    "            ])\n",
    "\n",
    "        diff = (lengths[0] + lengths[1]) - lengths[2]\n",
    "\n",
    "        agg.append({'diff': diff, 'points': ch})\n",
    "\n",
    "    res = pd.DataFrame(agg)\n",
    "\n",
    "    f = res['diff']>=0\n",
    "    res.loc[:, 'valid'] = f\n",
    "\n",
    "    print(approach, ':', sum(~f), 'out of', boot)"
   ]
  },
  {
   "cell_type": "code",
   "execution_count": null,
   "id": "587ee958",
   "metadata": {},
   "outputs": [],
   "source": []
  },
  {
   "cell_type": "code",
   "execution_count": null,
   "id": "16a1a537",
   "metadata": {},
   "outputs": [],
   "source": []
  },
  {
   "cell_type": "code",
   "execution_count": null,
   "id": "f9ceb0f4",
   "metadata": {},
   "outputs": [],
   "source": []
  }
 ],
 "metadata": {
  "kernelspec": {
   "display_name": "Python 3 (ipykernel)",
   "language": "python",
   "name": "python3"
  },
  "language_info": {
   "codemirror_mode": {
    "name": "ipython",
    "version": 3
   },
   "file_extension": ".py",
   "mimetype": "text/x-python",
   "name": "python",
   "nbconvert_exporter": "python",
   "pygments_lexer": "ipython3",
   "version": "3.9.12"
  }
 },
 "nbformat": 4,
 "nbformat_minor": 5
}
