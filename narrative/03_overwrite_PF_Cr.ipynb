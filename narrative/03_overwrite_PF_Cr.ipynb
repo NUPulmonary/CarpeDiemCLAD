{
 "cells": [
  {
   "cell_type": "code",
   "execution_count": 1,
   "id": "2c57c229-4f1f-4f4c-bb54-71ba2b5c1837",
   "metadata": {},
   "outputs": [],
   "source": [
    "import os\n",
    "\n",
    "import numpy as np\n",
    "import pandas as pd\n",
    "\n",
    "import sys\n",
    "sys.path.append('./../src/')\n",
    "\n",
    "from manuscript import inout, export\n",
    "\n",
    "user = 'general'     # defines top hierarchy of output folder\n",
    "outfolder = '03_overwrite_PF_Cr'    # name of notebook\n",
    "\n",
    "def dump_table(df, name):\n",
    "    export.full_frame(\n",
    "        user, \n",
    "        f'{outfolder}/{name}', \n",
    "        df, \n",
    "        index=True,\n",
    "        date=True\n",
    "    )"
   ]
  },
  {
   "cell_type": "code",
   "execution_count": 2,
   "id": "90d562f0-8374-4daf-a90e-a2954716c085",
   "metadata": {},
   "outputs": [],
   "source": [
    "external = pd.read_csv(\n",
    "    inout.get_material_path('general/02_recode_transplants/02data-external_220920_1553.csv.gz'), \n",
    "    index_col=0)"
   ]
  },
  {
   "cell_type": "code",
   "execution_count": 3,
   "id": "6f672695-b59a-4617-9b25-af5cd4c38948",
   "metadata": {},
   "outputs": [
    {
     "data": {
      "text/plain": [
       "(12495, 72)"
      ]
     },
     "execution_count": 3,
     "metadata": {},
     "output_type": "execute_result"
    }
   ],
   "source": [
    "external.shape"
   ]
  },
  {
   "cell_type": "markdown",
   "id": "420aa88f-1a82-479b-8213-66ea27f3d1f5",
   "metadata": {},
   "source": [
    "We set some features to NA because they become meaningless in the presence of certain artificial support devices."
   ]
  },
  {
   "cell_type": "code",
   "execution_count": 4,
   "id": "3f1f965f-7200-40ad-9977-2197f702db99",
   "metadata": {},
   "outputs": [],
   "source": [
    "external.loc[external.ECMO_flag.eq(1), \"PaO2FIO2_ratio\"] = np.nan"
   ]
  },
  {
   "cell_type": "code",
   "execution_count": 5,
   "id": "fb8a65c1-f701-4aad-884f-32ebdbf14f17",
   "metadata": {},
   "outputs": [],
   "source": [
    "external.loc[external.Hemodialysis_flag.eq(1), \"Creatinine\"] = np.nan"
   ]
  },
  {
   "cell_type": "code",
   "execution_count": 6,
   "id": "d9ebe500-841e-4696-9747-5a995726a44f",
   "metadata": {},
   "outputs": [],
   "source": [
    "external.loc[external.CRRT_flag.eq(1), \"Creatinine\"] = np.nan"
   ]
  },
  {
   "cell_type": "code",
   "execution_count": 7,
   "id": "52425b4e-2365-4e88-9d67-7f0fe99f47a2",
   "metadata": {},
   "outputs": [],
   "source": [
    "dump_table(external, '03data-external.csv.gz')"
   ]
  },
  {
   "cell_type": "code",
   "execution_count": null,
   "id": "6da2d8cd-4000-4be1-964c-50671a30c57a",
   "metadata": {},
   "outputs": [],
   "source": []
  }
 ],
 "metadata": {
  "kernelspec": {
   "display_name": "Python 3 (ipykernel)",
   "language": "python",
   "name": "python3"
  },
  "language_info": {
   "codemirror_mode": {
    "name": "ipython",
    "version": 3
   },
   "file_extension": ".py",
   "mimetype": "text/x-python",
   "name": "python",
   "nbconvert_exporter": "python",
   "pygments_lexer": "ipython3",
   "version": "3.8.12"
  }
 },
 "nbformat": 4,
 "nbformat_minor": 5
}
